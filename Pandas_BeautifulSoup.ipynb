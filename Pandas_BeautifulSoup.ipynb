{
 "cells": [
  {
   "cell_type": "markdown",
   "metadata": {},
   "source": [
    "# Pandas & BeautifulSoup "
   ]
  },
  {
   "cell_type": "markdown",
   "metadata": {},
   "source": [
    "**TLDR;**\n",
    "\n",
    "In this notebook we are going to \"meet\" two highly useful Python libraries: `pandas` and Beautifulsoup (BS)."
   ]
  },
  {
   "cell_type": "markdown",
   "metadata": {},
   "source": [
    "## Imports"
   ]
  },
  {
   "cell_type": "code",
   "execution_count": 61,
   "metadata": {},
   "outputs": [],
   "source": [
    "import os\n",
    "import pandas as pd\n",
    "import bs4\n",
    "from bs4 import BeautifulSoup"
   ]
  },
  {
   "cell_type": "markdown",
   "metadata": {},
   "source": [
    "## BeautifulSoup: a quick introduction\n",
    "\n",
    "There are several Python libraries to parse XML but `BeautifulSoup` is somehow the swiss knife of XML parsing.\n",
    "\n",
    "It can parse HTML, XML, as well as ill-formed or broken XML documents (very useful for legacy XML or even SGML data)."
   ]
  },
  {
   "cell_type": "markdown",
   "metadata": {},
   "source": [
    "### Open an XML file with BS"
   ]
  },
  {
   "cell_type": "code",
   "execution_count": 5,
   "metadata": {},
   "outputs": [],
   "source": [
    "data_folder = 'data/'\n",
    "\n",
    "# let's get the path of XML files\n",
    "# we filter only files with XML extension\n",
    "# it can be useful to ignore e.g. `.DS_Store` files (under MacOS)\n",
    "\n",
    "xml_files = [\n",
    "    os.path.join(data_folder, file)\n",
    "    for file in os.listdir(data_folder)\n",
    "    if \".xml\" in file\n",
    "]"
   ]
  },
  {
   "cell_type": "code",
   "execution_count": 6,
   "metadata": {},
   "outputs": [],
   "source": [
    "with open(xml_files[0], 'r') as inpfile:\n",
    "    xml_doc = BeautifulSoup(inpfile)"
   ]
  },
  {
   "cell_type": "code",
   "execution_count": 12,
   "metadata": {},
   "outputs": [
    {
     "data": {
      "text/plain": [
       "'data/igcyr024200.xml'"
      ]
     },
     "execution_count": 12,
     "metadata": {},
     "output_type": "execute_result"
    }
   ],
   "source": [
    "xml_files[0]"
   ]
  },
  {
   "cell_type": "code",
   "execution_count": 10,
   "metadata": {
    "collapsed": true
   },
   "outputs": [
    {
     "data": {
      "text/plain": [
       "<?xml version=\"1.0\" encoding=\"UTF-8\"?><?xml-model href=\"http://www.stoa.org/epidoc/schema/8.23/tei-epidoc.rng\" schematypens=\"http://relaxng.org/ns/structure/1.0\"?><?xml-model href=\"http://www.stoa.org/epidoc/schema/8.23/tei-epidoc.rng\" schematypens=\"http://purl.oclc.org/dsdl/schematron\"?><html><body><tei xml:lang=\"en\" xmlns=\"http://www.tei-c.org/ns/1.0\">\n",
       "<teiheader>\n",
       "<filedesc>\n",
       "<titlestmt>\n",
       "<title><rs cert=\"low\" type=\"textType\">Private honors</rs> or <rs cert=\"low\" type=\"textType\">epitaph</rs></title>\n",
       "<editor>Inscriptions of Greek Cyrenaica</editor>\n",
       "</titlestmt>\n",
       "<publicationstmt>\n",
       "<authority></authority>\n",
       "<idno type=\"filename\">IGCyr024200</idno>\n",
       "<availability>\n",
       "<p><ref target=\"https://creativecommons.org/licenses/by-nc/4.0/\">Creative Commons Attributions-NonCommercial 4.0 International</ref> License.</p> <p>All citation, reuse or distribution of this work must contain a link back to DOI: <ref target=\"http://doi.org/10.6092/UNIBO/IGCYRGVCYR\">http://doi.org/10.6092/UNIBO/IGCYRGVCYR</ref> and the filename (IGCyr000000 or GVCyr000), as well as the year of consultation.</p>\n",
       "</availability>\n",
       "</publicationstmt>\n",
       "<sourcedesc>\n",
       "<msdesc>\n",
       "<msidentifier>\n",
       "<repository>Cyrene Museum</repository>\n",
       "<idno type=\"invNo\">23</idno>\n",
       "</msidentifier>\n",
       "<mscontents>\n",
       "<summary corresp=\"document-search.xml#doc21 document-search.xml#doc2\">\n",
       "<seg>Honorary.</seg>\n",
       "<seg>Epitaph.</seg>\n",
       "</summary>\n",
       "</mscontents>\n",
       "<physdesc>\n",
       "<objectdesc>\n",
       "<supportdesc>\n",
       "<support>\n",
       "<p>White <material ref=\"material-search.xml#m1\">marble</material>\n",
       "<objecttype ref=\"monument-search.xml#mon12\">base</objecttype> \n",
       "                                        with plain mouldings, slightly chipped off; two footprints on top\n",
       "                                        (dimensions unknown).</p>\n",
       "</support>\n",
       "</supportdesc>\n",
       "<layoutdesc>\n",
       "<layout><rs key=\"scalpro\" type=\"execution\">Inscribed</rs> on front face between mouldings\n",
       "                                    (<dimensions><height>0.13</height><width>0.33</width></dimensions>).</layout>\n",
       "</layoutdesc>\n",
       "</objectdesc>\n",
       "<handdesc>\n",
       "<handnote><height>0.015</height>, omicron slightly smaller; xi with three horizontal bars without vertical hasta, slanting mu and sigma</handnote>\n",
       "</handdesc>\n",
       "</physdesc>\n",
       "<history>\n",
       "<origin>\n",
       "<origplace>Findspot.</origplace>\n",
       "<origdate evidence=\"lettering\" notafter=\"-0301\" notbefore=\"-0350\" precision=\"medium\">Second half of the fourth century B.C.</origdate>\n",
       "</origin>\n",
       "<provenance type=\"found\">\n",
       "<p>Found at an unknown date at\n",
       "                                        <placename key=\"http://www.slsgazetteer.org/909\" ref=\"http://pleiades.stoa.org/places/373778\" type=\"ancientFindspot\">Cyrene</placename>: purported from\n",
       "                                        <rs key=\"http://www.slsgazetteer.org/1074\" ref=\"...\" type=\"monuList\">Necropolis</rs> (see commentary).\n",
       "                                   </p>\n",
       "</provenance>\n",
       "<provenance resp=\"CDL\" type=\"observed\" when=\"1979-04-25\">\n",
       "<p>Seen by C. Dobias-Lalou on April 25th, 1979 in <placename key=\"Shahat\" ref=\"http://www.geonames.org/\" type=\"modernSpot\">Shahat</placename>: <rs key=\"http://www.slsgazetteer.org/933\" type=\"monuList\">Cyrene Museum</rs>.</p>\n",
       "</provenance>\n",
       "</history>\n",
       "</msdesc>\n",
       "</sourcedesc>\n",
       "</filedesc>\n",
       "<encodingdesc>\n",
       "<p>Marked-up according to the EpiDoc Guidelines version 8</p>\n",
       "<classdecl>\n",
       "<taxonomy>\n",
       "<category xml:id=\"photograph\">\n",
       "<catdesc>Digital or digitized photographs</catdesc>\n",
       "</category>\n",
       "<category xml:id=\"representation\">\n",
       "<catdesc>Digitized other representations</catdesc>\n",
       "</category>\n",
       "</taxonomy>\n",
       "</classdecl>\n",
       "</encodingdesc>\n",
       "<profiledesc>\n",
       "<langusage>\n",
       "<language ident=\"ar\">Arabic</language>\n",
       "<language ident=\"en\">English</language>\n",
       "<language ident=\"fr\">French</language>\n",
       "<language ident=\"de\">German</language>\n",
       "<language ident=\"grc\">Ancient Greek</language>\n",
       "<language ident=\"grc-Latn\">Transliterated Greek</language>\n",
       "<language ident=\"el\">Modern Greek</language>\n",
       "<language ident=\"he\">Hebrew</language>\n",
       "<language ident=\"it\">Italian</language>\n",
       "<language ident=\"la\">Latin</language>\n",
       "</langusage>\n",
       "<textclass>\n",
       "<keywords scheme=\"InsLib\">\n",
       "<term>\n",
       "<geogname key=\"Cyrene\" type=\"ancientRegion\">Cyrenaica</geogname>\n",
       "</term>\n",
       "<term>\n",
       "<geogname key=\"LY\" type=\"modernCountry\">Libya</geogname>\n",
       "</term>\n",
       "<term>\n",
       "<placename key=\"Shahat\" ref=\"http://www.geonames.org/\" type=\"modernFindspot\">Shahat</placename>\n",
       "</term>\n",
       "</keywords>\n",
       "</textclass>\n",
       "<creation>Transcription from stone (CDL).</creation></profiledesc>\n",
       "<revisiondesc>\n",
       "<change when=\"2017-03-31\" who=\"Alice\">checked</change>\n",
       "<change when=\"2014-11-05\" who=\"HellasLabUnibo\">checked, updated and in case corrected</change>\n",
       "<change when=\"2013-05-30\" who=\"Ljuba\">checked, updated and in case corrected physDesc, history, and textClass</change>\n",
       "<change when=\"2013-01-31\" who=\"GB Ljuba\">moved text-constituted-from to profileDesc/creation</change>\n",
       "<change when=\"2012-05-13\" who=\"CDL\">lemma, text markup, translation, commentary</change>\n",
       "<change when=\"2011-12-13\" who=\"Pietro\">mailmerged from IGCYR catalogo unificato</change>\n",
       "</revisiondesc>\n",
       "</teiheader>\n",
       "<facsimile>\n",
       "<surface>\n",
       "<graphic n=\"1\" url=\"igcyr024200-1.jpg\">\n",
       "<desc>Face of igcyr024200 Epitaph (?). Dobias-Lalou, C. Face of igcyr024200 Epitaph (?), 1979, Mission Archéologique Française.</desc>\n",
       "</graphic>\n",
       "<graphic n=\"2\" url=\"igcyr024200-2.jpg\">\n",
       "<desc>Drawing of igcyr024200 Epitaph (?). Dobias-Lalou, C. Drawing of igcyr024200 Epitaph (?), 1979, Mission Archéologique Française.</desc>\n",
       "</graphic>\n",
       "</surface>\n",
       "</facsimile>\n",
       "<text>\n",
       "<div type=\"bibliography\">\n",
       "                Bibliography\n",
       "                <p>\n",
       "<bibl><ptr target=\"#oliverioDAI2\"></ptr>Oliverio in DAI 2,  p. 111, n. <citedrange>86</citedrange>, fig. 42</bibl>, whence \n",
       "                    <bibl><title>SEG</title>, <citedrange>9.198</citedrange></bibl>. \n",
       "                    Cf. <bibl><ptr target=\"#beschi1970\"></ptr>Beshi 1970, p. <citedrange>204</citedrange> (date of the base)</bibl>;\n",
       "                    <bibl><ptr target=\"#dthorn-thorn2009\"></ptr>D. &amp; J. Thorn, p. <citedrange>139</citedrange></bibl>.</p>\n",
       "</div>\n",
       "<div type=\"edition\" xml:lang=\"grc\" xml:space=\"preserve\">\n",
       "<ab>\n",
       "<lb n=\"1\"></lb><persname key=\"\" type=\"attested\"><name nymref=\"#Ξεναρίστα\">Ξεναρίστα</name>\n",
       "<persname key=\"\" type=\"attested\"><name nymref=\"#Πρατομήδης\" type=\"patronymic\">Πρατομήδευς</name></persname></persname>\n",
       "</ab>\n",
       "</div>\n",
       "<div type=\"apparatus\" xml:space=\"preserve\">\n",
       "            Apparatus\n",
       "                <p></p>\n",
       "</div>\n",
       "<div type=\"translation\" xml:lang=\"fr\" xml:space=\"preserve\">\n",
       "<p>Xenarista fille de Pratomédès.</p>\n",
       "</div>\n",
       "<div type=\"translation\" xml:lang=\"en\" xml:space=\"preserve\">\n",
       "<p>Xenarista daughter of Pratomedes.</p>\n",
       "</div>\n",
       "<div type=\"translation\" xml:lang=\"it\" xml:space=\"preserve\">\n",
       "<p>Xenarista figlia di Pratomedes.</p>\n",
       "</div>\n",
       "<div type=\"commentary\">\n",
       "                Commentary\n",
       "                <p>Oliverio (followed by Beschi and the Thorns) said that the base came from a necropolis, but the footprints on top are uncommon for a funerary use. \n",
       "                    It might rather be private honors.</p>\n",
       "<p></p>\n",
       "<p></p>\n",
       "</div>\n",
       "</text>\n",
       "</tei></body></html>"
      ]
     },
     "execution_count": 10,
     "metadata": {},
     "output_type": "execute_result"
    }
   ],
   "source": [
    "xml_doc"
   ]
  },
  {
   "cell_type": "markdown",
   "metadata": {},
   "source": [
    "### Finding elements by attribute"
   ]
  },
  {
   "cell_type": "code",
   "execution_count": 15,
   "metadata": {},
   "outputs": [],
   "source": [
    "target_element = xml_doc.find_all(\n",
    "    attrs={'xml:id': 'representation'}\n",
    ")"
   ]
  },
  {
   "cell_type": "code",
   "execution_count": 16,
   "metadata": {},
   "outputs": [
    {
     "data": {
      "text/plain": [
       "[<category xml:id=\"representation\">\n",
       " <catdesc>Digitized other representations</catdesc>\n",
       " </category>]"
      ]
     },
     "execution_count": 16,
     "metadata": {},
     "output_type": "execute_result"
    }
   ],
   "source": [
    "target_element"
   ]
  },
  {
   "cell_type": "code",
   "execution_count": 17,
   "metadata": {},
   "outputs": [],
   "source": [
    "assert len(target_element) == 1"
   ]
  },
  {
   "cell_type": "markdown",
   "metadata": {},
   "source": [
    "### Finding elements by name"
   ]
  },
  {
   "cell_type": "markdown",
   "metadata": {},
   "source": [
    "### Navigating the XML tree"
   ]
  },
  {
   "cell_type": "markdown",
   "metadata": {},
   "source": [
    "Let's navigate a bit the `edition` section of an EpiDoc TEI file. \n",
    "\n",
    "First off, we isolate this element, contained in a `<div>` with `@type=edition`:"
   ]
  },
  {
   "cell_type": "code",
   "execution_count": 32,
   "metadata": {},
   "outputs": [],
   "source": [
    "edition = xml_doc.find_all(\n",
    "    'div',\n",
    "    attrs={'type': 'edition'}\n",
    ")[0]"
   ]
  },
  {
   "cell_type": "code",
   "execution_count": 39,
   "metadata": {},
   "outputs": [
    {
     "name": "stdout",
     "output_type": "stream",
     "text": [
      "Element type: <class 'bs4.element.NavigableString'>, element name: None, element content: '\n",
      "'\n",
      "Element type: <class 'bs4.element.Tag'>, element name: ab, element content: '<ab>\n",
      "<lb n=\"1\"></lb><persname key=\"\" type=\"attested\"><name nymref=\"#Ξεναρίστα\">Ξεναρίστα</name>\n",
      "<persname key=\"\" type=\"attested\"><name nymref=\"#Πρατομήδης\" type=\"patronymic\">Πρατομήδευς</name></persname></persname>\n",
      "</ab>'\n",
      "Element type: <class 'bs4.element.NavigableString'>, element name: None, element content: '\n",
      "'\n"
     ]
    }
   ],
   "source": [
    "for child in edition.children:\n",
    "    print(f\"Element type: {type(child)}, element name: {child.name}, element content: \\'{child}\\'\")"
   ]
  },
  {
   "cell_type": "code",
   "execution_count": 58,
   "metadata": {},
   "outputs": [
    {
     "name": "stdout",
     "output_type": "stream",
     "text": [
      "1 Ξεναρίστα #Ξεναρίστα\n",
      "2 Πρατομήδευς #Πρατομήδης\n"
     ]
    }
   ],
   "source": [
    "for i, persname in enumerate(edition.find_all('name')):\n",
    "    # note that element name and attribute name get lowercased\n",
    "    print(i + 1, persname.text.replace('\\n', ' '), persname.get('nymref'))"
   ]
  },
  {
   "cell_type": "code",
   "execution_count": 59,
   "metadata": {},
   "outputs": [
    {
     "data": {
      "text/plain": [
       "bs4.element.Tag"
      ]
     },
     "execution_count": 59,
     "metadata": {},
     "output_type": "execute_result"
    }
   ],
   "source": [
    "type(persname)"
   ]
  },
  {
   "cell_type": "markdown",
   "metadata": {},
   "source": [
    "## XML data → `DataFrame`"
   ]
  },
  {
   "cell_type": "markdown",
   "metadata": {},
   "source": [
    "### Function definitions"
   ]
  },
  {
   "cell_type": "code",
   "execution_count": 65,
   "metadata": {},
   "outputs": [],
   "source": [
    "def read_xml(path):\n",
    "    with open(path, 'r') as inpfile:\n",
    "        return BeautifulSoup(inpfile)"
   ]
  },
  {
   "cell_type": "code",
   "execution_count": 66,
   "metadata": {},
   "outputs": [],
   "source": [
    "def find_name_element(doc: BeautifulSoup):\n",
    "    return doc.find_all('name')"
   ]
  },
  {
   "cell_type": "code",
   "execution_count": 67,
   "metadata": {},
   "outputs": [],
   "source": [
    "def parse_name_element(element: bs4.element.Tag):\n",
    "    return {\n",
    "        \"surface\": element.text,\n",
    "        \"id\": element.get('nymref'),\n",
    "        \"type\": element.get('type')\n",
    "    }"
   ]
  },
  {
   "cell_type": "markdown",
   "metadata": {},
   "source": [
    "### Easy version"
   ]
  },
  {
   "cell_type": "code",
   "execution_count": 93,
   "metadata": {},
   "outputs": [],
   "source": [
    "names = [\n",
    "    (file, parse_name_element(name))\n",
    "    for file in xml_files\n",
    "    for name in find_name_element(read_xml(file))\n",
    "]"
   ]
  },
  {
   "cell_type": "code",
   "execution_count": 94,
   "metadata": {},
   "outputs": [
    {
     "data": {
      "text/plain": [
       "33"
      ]
     },
     "execution_count": 94,
     "metadata": {},
     "output_type": "execute_result"
    }
   ],
   "source": [
    "len(names)"
   ]
  },
  {
   "cell_type": "code",
   "execution_count": 76,
   "metadata": {},
   "outputs": [],
   "source": [
    "names_df = pd.DataFrame(names).set_index('id', drop=False)"
   ]
  },
  {
   "cell_type": "markdown",
   "metadata": {},
   "source": [
    "### Advanced version\n",
    "\n",
    "We want to extract all names from the TEI files while keeping the provenance of each name (i.e. the path of the file where it was found)."
   ]
  },
  {
   "cell_type": "code",
   "execution_count": 103,
   "metadata": {},
   "outputs": [],
   "source": [
    "dfs = []\n",
    "\n",
    "for file, name_elements in names:\n",
    "    df = pd.DataFrame([name_elements]).set_index('id', drop=False)\n",
    "    df['file'] = file\n",
    "    dfs.append(df)"
   ]
  },
  {
   "cell_type": "code",
   "execution_count": 105,
   "metadata": {},
   "outputs": [],
   "source": [
    "names_df = pd.concat(dfs)"
   ]
  },
  {
   "cell_type": "code",
   "execution_count": 106,
   "metadata": {},
   "outputs": [
    {
     "data": {
      "text/plain": [
       "(33, 4)"
      ]
     },
     "execution_count": 106,
     "metadata": {},
     "output_type": "execute_result"
    }
   ],
   "source": [
    "names_df.shape"
   ]
  },
  {
   "cell_type": "code",
   "execution_count": 107,
   "metadata": {},
   "outputs": [
    {
     "data": {
      "text/html": [
       "<div>\n",
       "<style scoped>\n",
       "    .dataframe tbody tr th:only-of-type {\n",
       "        vertical-align: middle;\n",
       "    }\n",
       "\n",
       "    .dataframe tbody tr th {\n",
       "        vertical-align: top;\n",
       "    }\n",
       "\n",
       "    .dataframe thead th {\n",
       "        text-align: right;\n",
       "    }\n",
       "</style>\n",
       "<table border=\"1\" class=\"dataframe\">\n",
       "  <thead>\n",
       "    <tr style=\"text-align: right;\">\n",
       "      <th></th>\n",
       "      <th>surface</th>\n",
       "      <th>id</th>\n",
       "      <th>type</th>\n",
       "      <th>file</th>\n",
       "    </tr>\n",
       "    <tr>\n",
       "      <th>id</th>\n",
       "      <th></th>\n",
       "      <th></th>\n",
       "      <th></th>\n",
       "      <th></th>\n",
       "    </tr>\n",
       "  </thead>\n",
       "  <tbody>\n",
       "    <tr>\n",
       "      <th>#Ξεναρίστα</th>\n",
       "      <td>Ξεναρίστα</td>\n",
       "      <td>#Ξεναρίστα</td>\n",
       "      <td>None</td>\n",
       "      <td>data/igcyr024200.xml</td>\n",
       "    </tr>\n",
       "    <tr>\n",
       "      <th>#Πρατομήδης</th>\n",
       "      <td>Πρατομήδευς</td>\n",
       "      <td>#Πρατομήδης</td>\n",
       "      <td>patronymic</td>\n",
       "      <td>data/igcyr024200.xml</td>\n",
       "    </tr>\n",
       "    <tr>\n",
       "      <th>Ἰσαάκιος</th>\n",
       "      <td>Ἰσαάκου</td>\n",
       "      <td>Ἰσαάκιος</td>\n",
       "      <td>None</td>\n",
       "      <td>data/iospe-5.14.xml</td>\n",
       "    </tr>\n",
       "    <tr>\n",
       "      <th>Ἰσαάκιος</th>\n",
       "      <td>Ἰσακίου</td>\n",
       "      <td>Ἰσαάκιος</td>\n",
       "      <td>None</td>\n",
       "      <td>data/iospe-5.11.xml</td>\n",
       "    </tr>\n",
       "    <tr>\n",
       "      <th>Κομνηνός</th>\n",
       "      <td>Κομνηνοῦ</td>\n",
       "      <td>Κομνηνός</td>\n",
       "      <td>surname</td>\n",
       "      <td>data/iospe-5.11.xml</td>\n",
       "    </tr>\n",
       "  </tbody>\n",
       "</table>\n",
       "</div>"
      ],
      "text/plain": [
       "                 surface           id        type                  file\n",
       "id                                                                     \n",
       "#Ξεναρίστα     Ξεναρίστα   #Ξεναρίστα        None  data/igcyr024200.xml\n",
       "#Πρατομήδης  Πρατομήδευς  #Πρατομήδης  patronymic  data/igcyr024200.xml\n",
       "Ἰσαάκιος         Ἰσαάκου     Ἰσαάκιος        None   data/iospe-5.14.xml\n",
       "Ἰσαάκιος         Ἰσακίου     Ἰσαάκιος        None   data/iospe-5.11.xml\n",
       "Κομνηνός        Κομνηνοῦ     Κομνηνός     surname   data/iospe-5.11.xml"
      ]
     },
     "execution_count": 107,
     "metadata": {},
     "output_type": "execute_result"
    }
   ],
   "source": [
    "names_df.head()"
   ]
  },
  {
   "cell_type": "markdown",
   "metadata": {},
   "source": [
    "### Data exploration"
   ]
  },
  {
   "cell_type": "code",
   "execution_count": 78,
   "metadata": {},
   "outputs": [
    {
     "data": {
      "text/html": [
       "<div>\n",
       "<style scoped>\n",
       "    .dataframe tbody tr th:only-of-type {\n",
       "        vertical-align: middle;\n",
       "    }\n",
       "\n",
       "    .dataframe tbody tr th {\n",
       "        vertical-align: top;\n",
       "    }\n",
       "\n",
       "    .dataframe thead th {\n",
       "        text-align: right;\n",
       "    }\n",
       "</style>\n",
       "<table border=\"1\" class=\"dataframe\">\n",
       "  <thead>\n",
       "    <tr style=\"text-align: right;\">\n",
       "      <th></th>\n",
       "      <th>surface</th>\n",
       "      <th>id</th>\n",
       "      <th>type</th>\n",
       "    </tr>\n",
       "    <tr>\n",
       "      <th>id</th>\n",
       "      <th></th>\n",
       "      <th></th>\n",
       "      <th></th>\n",
       "    </tr>\n",
       "  </thead>\n",
       "  <tbody>\n",
       "    <tr>\n",
       "      <th>#Ξεναρίστα</th>\n",
       "      <td>Ξεναρίστα</td>\n",
       "      <td>#Ξεναρίστα</td>\n",
       "      <td>None</td>\n",
       "    </tr>\n",
       "    <tr>\n",
       "      <th>#Πρατομήδης</th>\n",
       "      <td>Πρατομήδευς</td>\n",
       "      <td>#Πρατομήδης</td>\n",
       "      <td>patronymic</td>\n",
       "    </tr>\n",
       "    <tr>\n",
       "      <th>Ἰσαάκιος</th>\n",
       "      <td>Ἰσαάκου</td>\n",
       "      <td>Ἰσαάκιος</td>\n",
       "      <td>None</td>\n",
       "    </tr>\n",
       "    <tr>\n",
       "      <th>Ἰσαάκιος</th>\n",
       "      <td>Ἰσακίου</td>\n",
       "      <td>Ἰσαάκιος</td>\n",
       "      <td>None</td>\n",
       "    </tr>\n",
       "    <tr>\n",
       "      <th>Κομνηνός</th>\n",
       "      <td>Κομνηνοῦ</td>\n",
       "      <td>Κομνηνός</td>\n",
       "      <td>surname</td>\n",
       "    </tr>\n",
       "    <tr>\n",
       "      <th>Αἰκατερίνη</th>\n",
       "      <td>Αἰκατερίνης</td>\n",
       "      <td>Αἰκατερίνη</td>\n",
       "      <td>None</td>\n",
       "    </tr>\n",
       "    <tr>\n",
       "      <th>Λέων</th>\n",
       "      <td>Λέοντος</td>\n",
       "      <td>Λέων</td>\n",
       "      <td>None</td>\n",
       "    </tr>\n",
       "    <tr>\n",
       "      <th>Ἀλιάτης</th>\n",
       "      <td>Ἀλιάτου</td>\n",
       "      <td>Ἀλιάτης</td>\n",
       "      <td>surname</td>\n",
       "    </tr>\n",
       "    <tr>\n",
       "      <th>NaN</th>\n",
       "      <td>μαχ\\n                    ος</td>\n",
       "      <td>None</td>\n",
       "      <td>None</td>\n",
       "    </tr>\n",
       "    <tr>\n",
       "      <th>Χριστός</th>\n",
       "      <td>Χριστέ</td>\n",
       "      <td>Χριστός</td>\n",
       "      <td>None</td>\n",
       "    </tr>\n",
       "  </tbody>\n",
       "</table>\n",
       "</div>"
      ],
      "text/plain": [
       "                                 surface           id        type\n",
       "id                                                               \n",
       "#Ξεναρίστα                     Ξεναρίστα   #Ξεναρίστα        None\n",
       "#Πρατομήδης                  Πρατομήδευς  #Πρατομήδης  patronymic\n",
       "Ἰσαάκιος                         Ἰσαάκου     Ἰσαάκιος        None\n",
       "Ἰσαάκιος                         Ἰσακίου     Ἰσαάκιος        None\n",
       "Κομνηνός                        Κομνηνοῦ     Κομνηνός     surname\n",
       "Αἰκατερίνη                   Αἰκατερίνης   Αἰκατερίνη        None\n",
       "Λέων                             Λέοντος         Λέων        None\n",
       " Ἀλιάτης                         Ἀλιάτου      Ἀλιάτης     surname\n",
       "NaN          μαχ\\n                    ος         None        None\n",
       "Χριστός                           Χριστέ      Χριστός        None"
      ]
     },
     "execution_count": 78,
     "metadata": {},
     "output_type": "execute_result"
    }
   ],
   "source": [
    "names_df.head(10)"
   ]
  },
  {
   "cell_type": "code",
   "execution_count": 79,
   "metadata": {},
   "outputs": [
    {
     "data": {
      "text/plain": [
       "patronymic    3\n",
       "surname       2\n",
       "Name: type, dtype: int64"
      ]
     },
     "execution_count": 79,
     "metadata": {},
     "output_type": "execute_result"
    }
   ],
   "source": [
    "names_df.type.value_counts()"
   ]
  },
  {
   "cell_type": "code",
   "execution_count": 81,
   "metadata": {},
   "outputs": [
    {
     "data": {
      "text/plain": [
       "Χριστός        3\n",
       "#Ἀκέσανδρος    2\n",
       "Ἀπόλλων        2\n",
       "Ὀκτάβιος       2\n",
       "Ἰσαάκιος       2\n",
       "Φλάβιος        1\n",
       "Νίγερ          1\n",
       "Εὐκλείδας      1\n",
       "Αἰκατερίνη     1\n",
       "Ἰησοῦς         1\n",
       "Τραιανός       1\n",
       "Λέων           1\n",
       "Ἁδριανός       1\n",
       "#Πρατομήδης    1\n",
       "Τρυφ-          1\n",
       "#Τίμαρχος      1\n",
       "Μᾶρκος         1\n",
       "Καῖσαρ         1\n",
       " Ἀλιάτης       1\n",
       "Φαυ-           1\n",
       "Κομνηνός       1\n",
       "#Θεύχρηστος    1\n",
       "Σεβαστός       1\n",
       "#Ξεναρίστα     1\n",
       "Κυρά           1\n",
       "Πόπλιος        1\n",
       "Name: id, dtype: int64"
      ]
     },
     "execution_count": 81,
     "metadata": {},
     "output_type": "execute_result"
    }
   ],
   "source": [
    "names_df.id.value_counts()"
   ]
  },
  {
   "cell_type": "code",
   "execution_count": 89,
   "metadata": {},
   "outputs": [
    {
     "data": {
      "text/plain": [
       "1.03125"
      ]
     },
     "execution_count": 89,
     "metadata": {},
     "output_type": "execute_result"
    }
   ],
   "source": [
    "names_df.surface.value_counts().mean()"
   ]
  },
  {
   "cell_type": "code",
   "execution_count": 90,
   "metadata": {},
   "outputs": [
    {
     "data": {
      "text/plain": [
       "1.0"
      ]
     },
     "execution_count": 90,
     "metadata": {},
     "output_type": "execute_result"
    }
   ],
   "source": [
    "names_df.surface.value_counts().median()"
   ]
  },
  {
   "cell_type": "code",
   "execution_count": 91,
   "metadata": {},
   "outputs": [
    {
     "data": {
      "text/plain": [
       "1.2307692307692308"
      ]
     },
     "execution_count": 91,
     "metadata": {},
     "output_type": "execute_result"
    }
   ],
   "source": [
    "names_df.id.value_counts().mean()"
   ]
  },
  {
   "cell_type": "code",
   "execution_count": 92,
   "metadata": {},
   "outputs": [
    {
     "data": {
      "text/plain": [
       "1.0"
      ]
     },
     "execution_count": 92,
     "metadata": {},
     "output_type": "execute_result"
    }
   ],
   "source": [
    "names_df.id.value_counts().median()"
   ]
  },
  {
   "cell_type": "code",
   "execution_count": null,
   "metadata": {},
   "outputs": [],
   "source": []
  }
 ],
 "metadata": {
  "kernelspec": {
   "display_name": "Python 3",
   "language": "python",
   "name": "python3"
  },
  "language_info": {
   "codemirror_mode": {
    "name": "ipython",
    "version": 3
   },
   "file_extension": ".py",
   "mimetype": "text/x-python",
   "name": "python",
   "nbconvert_exporter": "python",
   "pygments_lexer": "ipython3",
   "version": "3.6.8"
  },
  "toc": {
   "base_numbering": 1,
   "nav_menu": {},
   "number_sections": false,
   "sideBar": true,
   "skip_h1_title": false,
   "title_cell": "Table of Contents",
   "title_sidebar": "Contents",
   "toc_cell": false,
   "toc_position": {},
   "toc_section_display": true,
   "toc_window_display": true
  }
 },
 "nbformat": 4,
 "nbformat_minor": 4
}
