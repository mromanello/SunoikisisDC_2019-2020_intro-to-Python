{
 "cells": [
  {
   "cell_type": "markdown",
   "metadata": {},
   "source": [
    "# Pandas & BeautifulSoup "
   ]
  },
  {
   "cell_type": "markdown",
   "metadata": {},
   "source": [
    "**TLDR;**\n",
    "\n",
    "In this notebook we are going to \"meet\" two highly useful Python libraries: `pandas` and Beautifulsoup (BS)."
   ]
  },
  {
   "cell_type": "markdown",
   "metadata": {},
   "source": [
    "## Imports"
   ]
  },
  {
   "cell_type": "code",
   "execution_count": 1,
   "metadata": {},
   "outputs": [],
   "source": [
    "import os\n",
    "import pandas as pd\n",
    "import bs4\n",
    "from bs4 import BeautifulSoup"
   ]
  },
  {
   "cell_type": "markdown",
   "metadata": {},
   "source": [
    "## BeautifulSoup: a quick introduction\n",
    "\n",
    "There are several Python libraries to parse XML but `BeautifulSoup` is somehow the swiss knife of XML parsing.\n",
    "\n",
    "It can parse HTML, XML, as well as ill-formed or broken XML documents (very useful for legacy XML or even SGML data)."
   ]
  },
  {
   "cell_type": "markdown",
   "metadata": {},
   "source": [
    "### Open an XML file with BS"
   ]
  },
  {
   "cell_type": "code",
   "execution_count": 2,
   "metadata": {},
   "outputs": [],
   "source": [
    "data_folder = 'data/'\n",
    "\n",
    "# let's get the path of XML files\n",
    "# we filter only files with XML extension\n",
    "# it can be useful to ignore e.g. `.DS_Store` files (under MacOS)\n",
    "\n",
    "xml_files = [\n",
    "    os.path.join(data_folder, file)\n",
    "    for file in os.listdir(data_folder)\n",
    "    if \".xml\" in file\n",
    "]"
   ]
  },
  {
   "cell_type": "code",
   "execution_count": 3,
   "metadata": {},
   "outputs": [],
   "source": [
    "with open(xml_files[0], 'r') as inpfile:\n",
    "    xml_doc = BeautifulSoup(inpfile)"
   ]
  },
  {
   "cell_type": "code",
   "execution_count": 4,
   "metadata": {},
   "outputs": [
    {
     "data": {
      "text/plain": [
       "'data/ircyr-P.304.xml'"
      ]
     },
     "execution_count": 4,
     "metadata": {},
     "output_type": "execute_result"
    }
   ],
   "source": [
    "xml_files[0]"
   ]
  },
  {
   "cell_type": "code",
   "execution_count": 5,
   "metadata": {
    "collapsed": true
   },
   "outputs": [
    {
     "data": {
      "text/plain": [
       "<?xml version=\"1.0\" encoding=\"UTF-8\"?><?xml-model href=\"http://www.stoa.org/epidoc/schema/dev/tei-epidoc.rng\" schematypens=\"http://relaxng.org/ns/structure/1.0\"?><?xml-model href=\"http://www.stoa.org/epidoc/schema/dev/ircyr-checking.sch\" schematypens=\"http://purl.oclc.org/dsdl/schematron\"?><?xml-model href=\"http://www.stoa.org/epidoc/schema/dev/tei-epidoc.rng\" schematypens=\"http://purl.oclc.org/dsdl/schematron\"?><html><body><tei xml:id=\"P40900\" xml:lang=\"en\" xmlns=\"http://www.tei-c.org/ns/1.0\">\n",
       "<teiheader>\n",
       "<filedesc>\n",
       "<titlestmt>\n",
       "<title><rs type=\"textType\">Funerary</rs> inscription</title>\n",
       "<editor>Joyce M. Reynolds</editor>\n",
       "</titlestmt>\n",
       "<publicationstmt>\n",
       "<authority>Centre for Computing in the Humanities, King's College London</authority>\n",
       "<idno type=\"filename\">P.304</idno>\n",
       "<idno type=\"ircyr2012\">P40900</idno>\n",
       "<idno type=\"JMR\">529b</idno>\n",
       "<idno type=\"Excel\">430</idno>\n",
       "<availability>\n",
       "<p>Creative Commons licence Attribution UK 2.0\n",
       "                    (<ref>http://creativecommons.org/licenses/by/2.0/uk/</ref>)</p>\n",
       "<p>All reuse or distribution of this work must contain somewhere a link back to the\n",
       "                    URL <ref>http://inslib.kcl.ac.uk/</ref>\n",
       "</p>\n",
       "</availability>\n",
       "</publicationstmt>\n",
       "<sourcedesc>\n",
       "<msdesc>\n",
       "<msidentifier><msname>n/a</msname></msidentifier>\n",
       "<physdesc>\n",
       "<objectdesc>\n",
       "<supportdesc>\n",
       "<support>\n",
       "<p>\n",
       "<material>Rock</material>-cut <objecttype>tomb</objecttype>, inscribed on the façade with \n",
       "                              <ref n=\"P40800\" type=\"inscription\">P.303</ref> and <ref n=\"P40900\" type=\"inscription\">P.304</ref>.\n",
       "                           </p>\n",
       "</support>\n",
       "</supportdesc>\n",
       "<layoutdesc>\n",
       "<layout><rs key=\"scalpro\" type=\"execution\">Inscribed</rs> beside the door, to the right of <ref n=\"P40800\" type=\"inscription\">P.303</ref>.\n",
       "                        </layout>\n",
       "</layoutdesc>\n",
       "</objectdesc>\n",
       "<handdesc>\n",
       "<handnote>\n",
       "<height>0.15</height>\n",
       "</handnote>\n",
       "</handdesc>\n",
       "</physdesc>\n",
       "<history>\n",
       "<origin>\n",
       "<origplace>Findspot</origplace>\n",
       "<origdate evidence=\"lettering\" notafter=\"0300\" notbefore=\"0001\" precision=\"low\">First to third century C.E.</origdate>\n",
       "</origin>\n",
       "<provenance type=\"found\">\n",
       "<p>\n",
       "<placename ref=\"http://www.slsgazetteer.org/912\" type=\"ancientFindspot\">Ptolemais</placename>:\n",
       "                              <placename ref=\"http://www.slsgazetteer.org/977\" type=\"monuList\">Quarry Hawan Gheti</placename>; first recorded in <date type=\"found\">1936</date>.</p>\n",
       "</provenance>\n",
       "<provenance type=\"observed\">\n",
       "<p>Findspot.</p>\n",
       "</provenance>\n",
       "</history>\n",
       "</msdesc>\n",
       "</sourcedesc>\n",
       "</filedesc>\n",
       "<encodingdesc>\n",
       "<p>Marked-up according to the EpiDoc Guidelines version 8</p>\n",
       "<classdecl><taxonomy><category xml:id=\"photograph\"><catdesc>Digital or digitized photographs</catdesc></category><category xml:id=\"representation\"><catdesc>Digitized other representations</catdesc></category></taxonomy></classdecl></encodingdesc>\n",
       "<profiledesc>\n",
       "<langusage>\n",
       "<language ident=\"ar\">Arabic</language>\n",
       "<language ident=\"en\">English</language>\n",
       "<language ident=\"fr\">French</language>\n",
       "<language ident=\"de\">German</language>\n",
       "<language ident=\"grc\">Ancient Greek</language>\n",
       "<language ident=\"grc-Latn\">Transliterated Greek</language>\n",
       "<language ident=\"el\">Modern Greek</language>\n",
       "<language ident=\"he\">Hebrew</language>\n",
       "<language ident=\"it\">Italian</language>\n",
       "<language ident=\"la\">Latin</language>\n",
       "</langusage>\n",
       "<textclass></textclass>\n",
       "<textclass>\n",
       "<keywords scheme=\"IRCyr\">\n",
       "<term>\n",
       "<geogname key=\"Cyrene\" type=\"ancientRegion\">Cyrenaica</geogname>\n",
       "</term>\n",
       "<term>\n",
       "<geogname key=\"LY\" type=\"modernCountry\">Libya</geogname>\n",
       "</term>\n",
       "<term>\n",
       "<placename ref=\"http://sws.geonames.org/89183\" type=\"modernFindspot\">Tolmeita</placename>\n",
       "</term>\n",
       "</keywords>\n",
       "</textclass>\n",
       "<creation>Transcription (Reynolds).</creation></profiledesc>\n",
       "<revisiondesc>\n",
       "<change when=\"2012-11-05\" who=\"GB\">moved text-constituted-from to profileDesc/creation</change>\n",
       "<change when=\"2012-10-16\" who=\"GB\">broke provenance events into multiple provenance elements</change>\n",
       "<change when=\"2011-02-22\" who=\"MGDA\">fixed bibliography</change>\n",
       "<change when=\"2010-08-04\" who=\"GB\">Converted from TEI P4 (EpiDoc DTD v. 6) to P5 (EpiDoc RNG schema v. 8)</change>\n",
       "<change when=\"2010-02-03\" who=\"GB\">entered missing text</change>\n",
       "<change when=\"2010-01-23\" who=\"CMR\">tagged description, corrected text</change>\n",
       "<change when=\"2009-04-29\" who=\"CB\">turned to XML and tidied</change>\n",
       "<change when=\"2009-02-24\" who=\"GB\">mailmerged: created from template</change>\n",
       "</revisiondesc>\n",
       "</teiheader><facsimile><surface></surface></facsimile>\n",
       "<text>\n",
       "<div type=\"bibliography\">\n",
       "            Bibliography\n",
       "            <p><bibl> <ptr target=\"oliverioDAI\"></ptr> <citedrange>523</citedrange> (47), p. 254</bibl>, whence \n",
       "                 <bibl><title>SEG</title> <citedrange>9.398</citedrange></bibl>.<!-- check --></p>\n",
       "</div>\n",
       "<div type=\"edition\" xml:lang=\"grc\" xml:space=\"preserve\">\n",
       "<ab>\n",
       "<lb n=\"0\"></lb><gap extent=\"unknown\" reason=\"lost\" unit=\"line\"></gap>\n",
       "<lb n=\"1\"></lb><gap extent=\"unknown\" reason=\"lost\" unit=\"character\"></gap> <persname type=\"attested\"><name><seg part=\"F\">μαχ\n",
       "                    <lb break=\"no\" n=\"2\"></lb><supplied reason=\"lost\">ο</supplied>ς</seg></name></persname>\n",
       "</ab>\n",
       "</div>\n",
       "<div type=\"apparatus\">\n",
       "            Apparatus\n",
       "            <listapp>\n",
       "<app loc=\"1\">\n",
       "<rdg resp=\"#oliverioDAI\">Μητρ(ί)ω</rdg>\n",
       "<note>, whence LGPN VI-61485</note>\n",
       "</app>\n",
       "</listapp>\n",
       "</div>\n",
       "<div type=\"translation\" xml:space=\"preserve\">Translations\n",
       "            <div source=\"#oliverioDAI\" type=\"translation\" xml:lang=\"it\"><p>Di Metrio</p></div>\n",
       "<div source=\"#edd\" type=\"translation\" xml:lang=\"en\"><p>Not usefully translatable</p></div>\n",
       "</div>\n",
       "<div type=\"commentary\">\n",
       "            Commentary\n",
       "            <p>It is not quite clear whther this is the text reported by Oliverio.</p>\n",
       "<!-- check -->\n",
       "<p></p>\n",
       "</div>\n",
       "</text>\n",
       "</tei></body></html>"
      ]
     },
     "execution_count": 5,
     "metadata": {},
     "output_type": "execute_result"
    }
   ],
   "source": [
    "xml_doc"
   ]
  },
  {
   "cell_type": "markdown",
   "metadata": {},
   "source": [
    "### Finding elements by attribute"
   ]
  },
  {
   "cell_type": "code",
   "execution_count": 6,
   "metadata": {},
   "outputs": [],
   "source": [
    "target_element = xml_doc.find_all(\n",
    "    attrs={'xml:id': 'representation'}\n",
    ")"
   ]
  },
  {
   "cell_type": "code",
   "execution_count": 7,
   "metadata": {},
   "outputs": [
    {
     "data": {
      "text/plain": [
       "[<category xml:id=\"representation\"><catdesc>Digitized other representations</catdesc></category>]"
      ]
     },
     "execution_count": 7,
     "metadata": {},
     "output_type": "execute_result"
    }
   ],
   "source": [
    "target_element"
   ]
  },
  {
   "cell_type": "code",
   "execution_count": 8,
   "metadata": {},
   "outputs": [],
   "source": [
    "assert len(target_element) == 1"
   ]
  },
  {
   "cell_type": "markdown",
   "metadata": {},
   "source": [
    "### Finding elements by name"
   ]
  },
  {
   "cell_type": "markdown",
   "metadata": {},
   "source": [
    "### Navigating the XML tree"
   ]
  },
  {
   "cell_type": "markdown",
   "metadata": {},
   "source": [
    "Let's navigate a bit the `edition` section of an EpiDoc TEI file. \n",
    "\n",
    "First off, we isolate this element, contained in a `<div>` with `@type=edition`:"
   ]
  },
  {
   "cell_type": "code",
   "execution_count": 9,
   "metadata": {},
   "outputs": [],
   "source": [
    "edition = xml_doc.find_all(\n",
    "    'div',\n",
    "    attrs={'type': 'edition'}\n",
    ")[0]"
   ]
  },
  {
   "cell_type": "code",
   "execution_count": 10,
   "metadata": {},
   "outputs": [
    {
     "name": "stdout",
     "output_type": "stream",
     "text": [
      "Element type: <class 'bs4.element.NavigableString'>, element name: None, element content: '\n",
      "'\n",
      "Element type: <class 'bs4.element.Tag'>, element name: ab, element content: '<ab>\n",
      "<lb n=\"0\"></lb><gap extent=\"unknown\" reason=\"lost\" unit=\"line\"></gap>\n",
      "<lb n=\"1\"></lb><gap extent=\"unknown\" reason=\"lost\" unit=\"character\"></gap> <persname type=\"attested\"><name><seg part=\"F\">μαχ\n",
      "                    <lb break=\"no\" n=\"2\"></lb><supplied reason=\"lost\">ο</supplied>ς</seg></name></persname>\n",
      "</ab>'\n",
      "Element type: <class 'bs4.element.NavigableString'>, element name: None, element content: '\n",
      "'\n"
     ]
    }
   ],
   "source": [
    "for child in edition.children:\n",
    "    print(f\"Element type: {type(child)}, element name: {child.name}, element content: \\'{child}\\'\")"
   ]
  },
  {
   "cell_type": "code",
   "execution_count": 11,
   "metadata": {},
   "outputs": [
    {
     "name": "stdout",
     "output_type": "stream",
     "text": [
      "1 μαχ                     ος None\n"
     ]
    }
   ],
   "source": [
    "for i, persname in enumerate(edition.find_all('name')):\n",
    "    # note that element name and attribute name get lowercased\n",
    "    print(i + 1, persname.text.replace('\\n', ' '), persname.get('nymref'))"
   ]
  },
  {
   "cell_type": "code",
   "execution_count": 12,
   "metadata": {},
   "outputs": [
    {
     "data": {
      "text/plain": [
       "bs4.element.Tag"
      ]
     },
     "execution_count": 12,
     "metadata": {},
     "output_type": "execute_result"
    }
   ],
   "source": [
    "type(persname)"
   ]
  },
  {
   "cell_type": "markdown",
   "metadata": {},
   "source": [
    "## XML data → `DataFrame`\n",
    "\n",
    "**Why?**\n",
    "\n",
    "When working with data, it's often very useful to compute some statistics about them. If you are working with a corpus of texts encoded it TEI/XML, you'll have to extract information from the XML files to be able to compute the stats.\n",
    "\n",
    "**How?**\n",
    "\n",
    "..."
   ]
  },
  {
   "cell_type": "markdown",
   "metadata": {},
   "source": [
    "### Easy version\n",
    "\n",
    "We want to parse all EpiDoc files contained in `data/` and extract all names (`<name>`). \n",
    "\n",
    "For each name we retain the following information:\n",
    "- surface form (the textual content of the XML element)\n",
    "- identifier (contained in `@nymRef`)\n",
    "- type (contained in `@type`)"
   ]
  },
  {
   "cell_type": "markdown",
   "metadata": {},
   "source": [
    "#### Function definitions"
   ]
  },
  {
   "cell_type": "code",
   "execution_count": 26,
   "metadata": {},
   "outputs": [],
   "source": [
    "from typing import List"
   ]
  },
  {
   "cell_type": "code",
   "execution_count": 25,
   "metadata": {},
   "outputs": [],
   "source": [
    "def read_xml(path) -> BeautifulSoup:\n",
    "    with open(path, 'r') as inpfile:\n",
    "        return BeautifulSoup(inpfile)"
   ]
  },
  {
   "cell_type": "code",
   "execution_count": 27,
   "metadata": {},
   "outputs": [],
   "source": [
    "def find_name_element(doc: BeautifulSoup) -> List:\n",
    "    return doc.find_all('name')"
   ]
  },
  {
   "cell_type": "code",
   "execution_count": 24,
   "metadata": {},
   "outputs": [],
   "source": [
    "def parse_name_element(element: bs4.element.Tag) -> dict:\n",
    "    return {\n",
    "        \"surface\": element.text,\n",
    "        \"id\": element.get('nymref'),\n",
    "        \"type\": element.get('type')\n",
    "    }"
   ]
  },
  {
   "cell_type": "code",
   "execution_count": 19,
   "metadata": {},
   "outputs": [],
   "source": [
    "names = [\n",
    "    parse_name_element(name)\n",
    "    for file in xml_files\n",
    "    for name in find_name_element(read_xml(file))\n",
    "]"
   ]
  },
  {
   "cell_type": "code",
   "execution_count": 20,
   "metadata": {},
   "outputs": [
    {
     "data": {
      "text/plain": [
       "33"
      ]
     },
     "execution_count": 20,
     "metadata": {},
     "output_type": "execute_result"
    }
   ],
   "source": [
    "len(names)"
   ]
  },
  {
   "cell_type": "code",
   "execution_count": 21,
   "metadata": {},
   "outputs": [],
   "source": [
    "names_df = pd.DataFrame(names).set_index('id', drop=False)"
   ]
  },
  {
   "cell_type": "code",
   "execution_count": 22,
   "metadata": {},
   "outputs": [
    {
     "data": {
      "text/html": [
       "<div>\n",
       "<style scoped>\n",
       "    .dataframe tbody tr th:only-of-type {\n",
       "        vertical-align: middle;\n",
       "    }\n",
       "\n",
       "    .dataframe tbody tr th {\n",
       "        vertical-align: top;\n",
       "    }\n",
       "\n",
       "    .dataframe thead th {\n",
       "        text-align: right;\n",
       "    }\n",
       "</style>\n",
       "<table border=\"1\" class=\"dataframe\">\n",
       "  <thead>\n",
       "    <tr style=\"text-align: right;\">\n",
       "      <th></th>\n",
       "      <th>surface</th>\n",
       "      <th>id</th>\n",
       "      <th>type</th>\n",
       "    </tr>\n",
       "    <tr>\n",
       "      <th>id</th>\n",
       "      <th></th>\n",
       "      <th></th>\n",
       "      <th></th>\n",
       "    </tr>\n",
       "  </thead>\n",
       "  <tbody>\n",
       "    <tr>\n",
       "      <th>NaN</th>\n",
       "      <td>μαχ\\n                    ος</td>\n",
       "      <td>None</td>\n",
       "      <td>None</td>\n",
       "    </tr>\n",
       "    <tr>\n",
       "      <th>Εὐκλείδας</th>\n",
       "      <td>Εὐκλείδα</td>\n",
       "      <td>Εὐκλείδας</td>\n",
       "      <td>None</td>\n",
       "    </tr>\n",
       "    <tr>\n",
       "      <th>Τρυφ-</th>\n",
       "      <td>Τρυφ</td>\n",
       "      <td>Τρυφ-</td>\n",
       "      <td>None</td>\n",
       "    </tr>\n",
       "    <tr>\n",
       "      <th>Ἰσαάκιος</th>\n",
       "      <td>Ἰσαάκου</td>\n",
       "      <td>Ἰσαάκιος</td>\n",
       "      <td>None</td>\n",
       "    </tr>\n",
       "    <tr>\n",
       "      <th>#Ἀκέσανδρος</th>\n",
       "      <td>Ἀκέσανδρον</td>\n",
       "      <td>#Ἀκέσανδρος</td>\n",
       "      <td>None</td>\n",
       "    </tr>\n",
       "  </tbody>\n",
       "</table>\n",
       "</div>"
      ],
      "text/plain": [
       "                                 surface           id  type\n",
       "id                                                         \n",
       "NaN          μαχ\\n                    ος         None  None\n",
       "Εὐκλείδας                       Εὐκλείδα    Εὐκλείδας  None\n",
       "Τρυφ-                               Τρυφ        Τρυφ-  None\n",
       "Ἰσαάκιος                         Ἰσαάκου     Ἰσαάκιος  None\n",
       "#Ἀκέσανδρος                   Ἀκέσανδρον  #Ἀκέσανδρος  None"
      ]
     },
     "execution_count": 22,
     "metadata": {},
     "output_type": "execute_result"
    }
   ],
   "source": [
    "names_df.head()"
   ]
  },
  {
   "cell_type": "markdown",
   "metadata": {},
   "source": [
    "### Advanced version\n",
    "\n",
    "We want to extract all names from the TEI files while keeping the provenance of each name (i.e. the path of the file where it was found)."
   ]
  },
  {
   "cell_type": "code",
   "execution_count": 103,
   "metadata": {},
   "outputs": [],
   "source": [
    "dfs = []\n",
    "\n",
    "for file, name_elements in names:\n",
    "    df = pd.DataFrame([name_elements]).set_index('id', drop=False)\n",
    "    df['file'] = file\n",
    "    dfs.append(df)"
   ]
  },
  {
   "cell_type": "code",
   "execution_count": 105,
   "metadata": {},
   "outputs": [],
   "source": [
    "names_df = pd.concat(dfs)"
   ]
  },
  {
   "cell_type": "code",
   "execution_count": 106,
   "metadata": {},
   "outputs": [
    {
     "data": {
      "text/plain": [
       "(33, 4)"
      ]
     },
     "execution_count": 106,
     "metadata": {},
     "output_type": "execute_result"
    }
   ],
   "source": [
    "names_df.shape"
   ]
  },
  {
   "cell_type": "code",
   "execution_count": 107,
   "metadata": {},
   "outputs": [
    {
     "data": {
      "text/html": [
       "<div>\n",
       "<style scoped>\n",
       "    .dataframe tbody tr th:only-of-type {\n",
       "        vertical-align: middle;\n",
       "    }\n",
       "\n",
       "    .dataframe tbody tr th {\n",
       "        vertical-align: top;\n",
       "    }\n",
       "\n",
       "    .dataframe thead th {\n",
       "        text-align: right;\n",
       "    }\n",
       "</style>\n",
       "<table border=\"1\" class=\"dataframe\">\n",
       "  <thead>\n",
       "    <tr style=\"text-align: right;\">\n",
       "      <th></th>\n",
       "      <th>surface</th>\n",
       "      <th>id</th>\n",
       "      <th>type</th>\n",
       "      <th>file</th>\n",
       "    </tr>\n",
       "    <tr>\n",
       "      <th>id</th>\n",
       "      <th></th>\n",
       "      <th></th>\n",
       "      <th></th>\n",
       "      <th></th>\n",
       "    </tr>\n",
       "  </thead>\n",
       "  <tbody>\n",
       "    <tr>\n",
       "      <th>#Ξεναρίστα</th>\n",
       "      <td>Ξεναρίστα</td>\n",
       "      <td>#Ξεναρίστα</td>\n",
       "      <td>None</td>\n",
       "      <td>data/igcyr024200.xml</td>\n",
       "    </tr>\n",
       "    <tr>\n",
       "      <th>#Πρατομήδης</th>\n",
       "      <td>Πρατομήδευς</td>\n",
       "      <td>#Πρατομήδης</td>\n",
       "      <td>patronymic</td>\n",
       "      <td>data/igcyr024200.xml</td>\n",
       "    </tr>\n",
       "    <tr>\n",
       "      <th>Ἰσαάκιος</th>\n",
       "      <td>Ἰσαάκου</td>\n",
       "      <td>Ἰσαάκιος</td>\n",
       "      <td>None</td>\n",
       "      <td>data/iospe-5.14.xml</td>\n",
       "    </tr>\n",
       "    <tr>\n",
       "      <th>Ἰσαάκιος</th>\n",
       "      <td>Ἰσακίου</td>\n",
       "      <td>Ἰσαάκιος</td>\n",
       "      <td>None</td>\n",
       "      <td>data/iospe-5.11.xml</td>\n",
       "    </tr>\n",
       "    <tr>\n",
       "      <th>Κομνηνός</th>\n",
       "      <td>Κομνηνοῦ</td>\n",
       "      <td>Κομνηνός</td>\n",
       "      <td>surname</td>\n",
       "      <td>data/iospe-5.11.xml</td>\n",
       "    </tr>\n",
       "  </tbody>\n",
       "</table>\n",
       "</div>"
      ],
      "text/plain": [
       "                 surface           id        type                  file\n",
       "id                                                                     \n",
       "#Ξεναρίστα     Ξεναρίστα   #Ξεναρίστα        None  data/igcyr024200.xml\n",
       "#Πρατομήδης  Πρατομήδευς  #Πρατομήδης  patronymic  data/igcyr024200.xml\n",
       "Ἰσαάκιος         Ἰσαάκου     Ἰσαάκιος        None   data/iospe-5.14.xml\n",
       "Ἰσαάκιος         Ἰσακίου     Ἰσαάκιος        None   data/iospe-5.11.xml\n",
       "Κομνηνός        Κομνηνοῦ     Κομνηνός     surname   data/iospe-5.11.xml"
      ]
     },
     "execution_count": 107,
     "metadata": {},
     "output_type": "execute_result"
    }
   ],
   "source": [
    "names_df.head()"
   ]
  },
  {
   "cell_type": "markdown",
   "metadata": {},
   "source": [
    "### Data exploration"
   ]
  },
  {
   "cell_type": "code",
   "execution_count": 78,
   "metadata": {},
   "outputs": [
    {
     "data": {
      "text/html": [
       "<div>\n",
       "<style scoped>\n",
       "    .dataframe tbody tr th:only-of-type {\n",
       "        vertical-align: middle;\n",
       "    }\n",
       "\n",
       "    .dataframe tbody tr th {\n",
       "        vertical-align: top;\n",
       "    }\n",
       "\n",
       "    .dataframe thead th {\n",
       "        text-align: right;\n",
       "    }\n",
       "</style>\n",
       "<table border=\"1\" class=\"dataframe\">\n",
       "  <thead>\n",
       "    <tr style=\"text-align: right;\">\n",
       "      <th></th>\n",
       "      <th>surface</th>\n",
       "      <th>id</th>\n",
       "      <th>type</th>\n",
       "    </tr>\n",
       "    <tr>\n",
       "      <th>id</th>\n",
       "      <th></th>\n",
       "      <th></th>\n",
       "      <th></th>\n",
       "    </tr>\n",
       "  </thead>\n",
       "  <tbody>\n",
       "    <tr>\n",
       "      <th>#Ξεναρίστα</th>\n",
       "      <td>Ξεναρίστα</td>\n",
       "      <td>#Ξεναρίστα</td>\n",
       "      <td>None</td>\n",
       "    </tr>\n",
       "    <tr>\n",
       "      <th>#Πρατομήδης</th>\n",
       "      <td>Πρατομήδευς</td>\n",
       "      <td>#Πρατομήδης</td>\n",
       "      <td>patronymic</td>\n",
       "    </tr>\n",
       "    <tr>\n",
       "      <th>Ἰσαάκιος</th>\n",
       "      <td>Ἰσαάκου</td>\n",
       "      <td>Ἰσαάκιος</td>\n",
       "      <td>None</td>\n",
       "    </tr>\n",
       "    <tr>\n",
       "      <th>Ἰσαάκιος</th>\n",
       "      <td>Ἰσακίου</td>\n",
       "      <td>Ἰσαάκιος</td>\n",
       "      <td>None</td>\n",
       "    </tr>\n",
       "    <tr>\n",
       "      <th>Κομνηνός</th>\n",
       "      <td>Κομνηνοῦ</td>\n",
       "      <td>Κομνηνός</td>\n",
       "      <td>surname</td>\n",
       "    </tr>\n",
       "    <tr>\n",
       "      <th>Αἰκατερίνη</th>\n",
       "      <td>Αἰκατερίνης</td>\n",
       "      <td>Αἰκατερίνη</td>\n",
       "      <td>None</td>\n",
       "    </tr>\n",
       "    <tr>\n",
       "      <th>Λέων</th>\n",
       "      <td>Λέοντος</td>\n",
       "      <td>Λέων</td>\n",
       "      <td>None</td>\n",
       "    </tr>\n",
       "    <tr>\n",
       "      <th>Ἀλιάτης</th>\n",
       "      <td>Ἀλιάτου</td>\n",
       "      <td>Ἀλιάτης</td>\n",
       "      <td>surname</td>\n",
       "    </tr>\n",
       "    <tr>\n",
       "      <th>NaN</th>\n",
       "      <td>μαχ\\n                    ος</td>\n",
       "      <td>None</td>\n",
       "      <td>None</td>\n",
       "    </tr>\n",
       "    <tr>\n",
       "      <th>Χριστός</th>\n",
       "      <td>Χριστέ</td>\n",
       "      <td>Χριστός</td>\n",
       "      <td>None</td>\n",
       "    </tr>\n",
       "  </tbody>\n",
       "</table>\n",
       "</div>"
      ],
      "text/plain": [
       "                                 surface           id        type\n",
       "id                                                               \n",
       "#Ξεναρίστα                     Ξεναρίστα   #Ξεναρίστα        None\n",
       "#Πρατομήδης                  Πρατομήδευς  #Πρατομήδης  patronymic\n",
       "Ἰσαάκιος                         Ἰσαάκου     Ἰσαάκιος        None\n",
       "Ἰσαάκιος                         Ἰσακίου     Ἰσαάκιος        None\n",
       "Κομνηνός                        Κομνηνοῦ     Κομνηνός     surname\n",
       "Αἰκατερίνη                   Αἰκατερίνης   Αἰκατερίνη        None\n",
       "Λέων                             Λέοντος         Λέων        None\n",
       " Ἀλιάτης                         Ἀλιάτου      Ἀλιάτης     surname\n",
       "NaN          μαχ\\n                    ος         None        None\n",
       "Χριστός                           Χριστέ      Χριστός        None"
      ]
     },
     "execution_count": 78,
     "metadata": {},
     "output_type": "execute_result"
    }
   ],
   "source": [
    "names_df.head(10)"
   ]
  },
  {
   "cell_type": "code",
   "execution_count": 79,
   "metadata": {},
   "outputs": [
    {
     "data": {
      "text/plain": [
       "patronymic    3\n",
       "surname       2\n",
       "Name: type, dtype: int64"
      ]
     },
     "execution_count": 79,
     "metadata": {},
     "output_type": "execute_result"
    }
   ],
   "source": [
    "names_df.type.value_counts()"
   ]
  },
  {
   "cell_type": "code",
   "execution_count": 81,
   "metadata": {},
   "outputs": [
    {
     "data": {
      "text/plain": [
       "Χριστός        3\n",
       "#Ἀκέσανδρος    2\n",
       "Ἀπόλλων        2\n",
       "Ὀκτάβιος       2\n",
       "Ἰσαάκιος       2\n",
       "Φλάβιος        1\n",
       "Νίγερ          1\n",
       "Εὐκλείδας      1\n",
       "Αἰκατερίνη     1\n",
       "Ἰησοῦς         1\n",
       "Τραιανός       1\n",
       "Λέων           1\n",
       "Ἁδριανός       1\n",
       "#Πρατομήδης    1\n",
       "Τρυφ-          1\n",
       "#Τίμαρχος      1\n",
       "Μᾶρκος         1\n",
       "Καῖσαρ         1\n",
       " Ἀλιάτης       1\n",
       "Φαυ-           1\n",
       "Κομνηνός       1\n",
       "#Θεύχρηστος    1\n",
       "Σεβαστός       1\n",
       "#Ξεναρίστα     1\n",
       "Κυρά           1\n",
       "Πόπλιος        1\n",
       "Name: id, dtype: int64"
      ]
     },
     "execution_count": 81,
     "metadata": {},
     "output_type": "execute_result"
    }
   ],
   "source": [
    "names_df.id.value_counts()"
   ]
  },
  {
   "cell_type": "code",
   "execution_count": 89,
   "metadata": {},
   "outputs": [
    {
     "data": {
      "text/plain": [
       "1.03125"
      ]
     },
     "execution_count": 89,
     "metadata": {},
     "output_type": "execute_result"
    }
   ],
   "source": [
    "names_df.surface.value_counts().mean()"
   ]
  },
  {
   "cell_type": "code",
   "execution_count": 90,
   "metadata": {},
   "outputs": [
    {
     "data": {
      "text/plain": [
       "1.0"
      ]
     },
     "execution_count": 90,
     "metadata": {},
     "output_type": "execute_result"
    }
   ],
   "source": [
    "names_df.surface.value_counts().median()"
   ]
  },
  {
   "cell_type": "code",
   "execution_count": 91,
   "metadata": {},
   "outputs": [
    {
     "data": {
      "text/plain": [
       "1.2307692307692308"
      ]
     },
     "execution_count": 91,
     "metadata": {},
     "output_type": "execute_result"
    }
   ],
   "source": [
    "names_df.id.value_counts().mean()"
   ]
  },
  {
   "cell_type": "code",
   "execution_count": 92,
   "metadata": {},
   "outputs": [
    {
     "data": {
      "text/plain": [
       "1.0"
      ]
     },
     "execution_count": 92,
     "metadata": {},
     "output_type": "execute_result"
    }
   ],
   "source": [
    "names_df.id.value_counts().median()"
   ]
  },
  {
   "cell_type": "code",
   "execution_count": null,
   "metadata": {},
   "outputs": [],
   "source": []
  }
 ],
 "metadata": {
  "kernelspec": {
   "display_name": "Python 3",
   "language": "python",
   "name": "python3"
  },
  "language_info": {
   "codemirror_mode": {
    "name": "ipython",
    "version": 3
   },
   "file_extension": ".py",
   "mimetype": "text/x-python",
   "name": "python",
   "nbconvert_exporter": "python",
   "pygments_lexer": "ipython3",
   "version": "3.6.8"
  },
  "toc": {
   "base_numbering": 1,
   "nav_menu": {},
   "number_sections": false,
   "sideBar": true,
   "skip_h1_title": false,
   "title_cell": "Table of Contents",
   "title_sidebar": "Contents",
   "toc_cell": false,
   "toc_position": {},
   "toc_section_display": true,
   "toc_window_display": true
  }
 },
 "nbformat": 4,
 "nbformat_minor": 4
}
