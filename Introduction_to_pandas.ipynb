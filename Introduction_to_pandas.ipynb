{
  "nbformat": 4,
  "nbformat_minor": 0,
  "metadata": {
    "kernelspec": {
      "display_name": "Python 3",
      "language": "python",
      "name": "python3"
    },
    "language_info": {
      "codemirror_mode": {
        "name": "ipython",
        "version": 3
      },
      "file_extension": ".py",
      "mimetype": "text/x-python",
      "name": "python",
      "nbconvert_exporter": "python",
      "pygments_lexer": "ipython3",
      "version": "3.7.3"
    },
    "toc": {
      "base_numbering": 1,
      "nav_menu": {},
      "number_sections": true,
      "sideBar": true,
      "skip_h1_title": false,
      "title_cell": "Table of Contents",
      "title_sidebar": "Contents",
      "toc_cell": false,
      "toc_position": {
        "height": "calc(100% - 180px)",
        "left": "10px",
        "top": "150px",
        "width": "320px"
      },
      "toc_section_display": true,
      "toc_window_display": true
    },
    "colab": {
      "name": "Copia de Introduction_to_pandas.ipynb",
      "provenance": []
    }
  },
  "cells": [
    {
      "cell_type": "markdown",
      "metadata": {
        "id": "srbIFiyxKUhF",
        "colab_type": "text"
      },
      "source": [
        "## Introduction to Pandas \n",
        "\n",
        "Now that you know how Python works, we can start doing some data manipulation with Pandas. \n",
        "\n",
        "'Libraries' in Python are actually collections of code that enhance Python funtionality for specific purposes. Pandas is an open source Library in Python that provides easy data strcuture and analysis tools. \n",
        "\n",
        "Everytime you want to install a new library in python, you just need to install it and then import it in your command line. You can import it with its name or with an alias that will make it easier to call it later in your code.\n",
        "\n",
        "e.g. \n",
        "pip install pandas\n",
        "\n",
        "import pandas \n",
        "\n",
        "import pandas as pd \n",
        "\n",
        "\n",
        "\n",
        "\n"
      ]
    },
    {
      "cell_type": "markdown",
      "metadata": {
        "id": "eJJdYrHUKUhJ",
        "colab_type": "text"
      },
      "source": [
        "## Data types"
      ]
    },
    {
      "cell_type": "markdown",
      "metadata": {
        "id": "M5GvwM79KUhK",
        "colab_type": "text"
      },
      "source": [
        "### Numerical\n",
        "\n",
        "Python has two numerical data types:\n",
        "- `int`, e.g. `10`\n",
        "- `float`, e.g. `10.12`"
      ]
    },
    {
      "cell_type": "code",
      "metadata": {
        "id": "khZATuDoKUhO",
        "colab_type": "code",
        "colab": {}
      },
      "source": [
        "i = 10"
      ],
      "execution_count": 0,
      "outputs": []
    },
    {
      "cell_type": "code",
      "metadata": {
        "id": "PZ75lnckKUhg",
        "colab_type": "code",
        "outputId": "e128f336-848c-4e49-d38d-60c090a279d8",
        "colab": {
          "base_uri": "https://localhost:8080/",
          "height": 35
        }
      },
      "source": [
        "type(i)"
      ],
      "execution_count": 0,
      "outputs": [
        {
          "output_type": "execute_result",
          "data": {
            "text/plain": [
              "int"
            ]
          },
          "metadata": {
            "tags": []
          },
          "execution_count": 5
        }
      ]
    },
    {
      "cell_type": "code",
      "metadata": {
        "id": "Fl63taQOKUhs",
        "colab_type": "code",
        "colab": {}
      },
      "source": [
        "f = 10.12"
      ],
      "execution_count": 0,
      "outputs": []
    },
    {
      "cell_type": "code",
      "metadata": {
        "id": "APeUvkCNKUh5",
        "colab_type": "code",
        "outputId": "2e64e275-9ea0-45da-dc4a-5f8a62adae0d",
        "colab": {}
      },
      "source": [
        "isinstance(i, int)"
      ],
      "execution_count": 0,
      "outputs": [
        {
          "output_type": "execute_result",
          "data": {
            "text/plain": [
              "True"
            ]
          },
          "metadata": {
            "tags": []
          },
          "execution_count": 8
        }
      ]
    },
    {
      "cell_type": "code",
      "metadata": {
        "id": "UazSLx6aKUiB",
        "colab_type": "code",
        "outputId": "2290cf3a-c0f5-4a95-d7f1-69698ccf0ac9",
        "colab": {}
      },
      "source": [
        "isinstance(f, int)"
      ],
      "execution_count": 0,
      "outputs": [
        {
          "output_type": "execute_result",
          "data": {
            "text/plain": [
              "False"
            ]
          },
          "metadata": {
            "tags": []
          },
          "execution_count": 9
        }
      ]
    },
    {
      "cell_type": "code",
      "metadata": {
        "id": "g78PQvBpKUiL",
        "colab_type": "code",
        "outputId": "23b60d23-6cff-4756-c8dc-35aa9ed21fd7",
        "colab": {}
      },
      "source": [
        "type(f)"
      ],
      "execution_count": 0,
      "outputs": [
        {
          "output_type": "execute_result",
          "data": {
            "text/plain": [
              "float"
            ]
          },
          "metadata": {
            "tags": []
          },
          "execution_count": 10
        }
      ]
    },
    {
      "cell_type": "markdown",
      "metadata": {
        "id": "zOBTQlOVKUiY",
        "colab_type": "text"
      },
      "source": [
        "Python has two signs for division, which produce different results:"
      ]
    },
    {
      "cell_type": "code",
      "metadata": {
        "id": "qUgJE8ngKUiZ",
        "colab_type": "code",
        "outputId": "f348bd73-3b8c-48d4-927d-a97f4d6d6ffd",
        "colab": {}
      },
      "source": [
        "i // 3 == i / 3"
      ],
      "execution_count": 0,
      "outputs": [
        {
          "output_type": "execute_result",
          "data": {
            "text/plain": [
              "False"
            ]
          },
          "metadata": {
            "tags": []
          },
          "execution_count": 11
        }
      ]
    },
    {
      "cell_type": "code",
      "metadata": {
        "id": "--p2gDhJKUid",
        "colab_type": "code",
        "outputId": "eb3f8f28-a94c-4d98-c577-e6d41941829d",
        "colab": {}
      },
      "source": [
        "i // 3"
      ],
      "execution_count": 0,
      "outputs": [
        {
          "output_type": "execute_result",
          "data": {
            "text/plain": [
              "3"
            ]
          },
          "metadata": {
            "tags": []
          },
          "execution_count": 12
        }
      ]
    },
    {
      "cell_type": "code",
      "metadata": {
        "id": "bIijmscPKUio",
        "colab_type": "code",
        "outputId": "8824d2fc-54ef-461b-b7c7-9d8f36285450",
        "colab": {}
      },
      "source": [
        "i / 3"
      ],
      "execution_count": 0,
      "outputs": [
        {
          "output_type": "execute_result",
          "data": {
            "text/plain": [
              "3.3333333333333335"
            ]
          },
          "metadata": {
            "tags": []
          },
          "execution_count": 13
        }
      ]
    },
    {
      "cell_type": "code",
      "metadata": {
        "id": "tT_EzCX_KUi5",
        "colab_type": "code",
        "outputId": "ee8469a0-9bc2-4622-c11a-ef5159a510d5",
        "colab": {}
      },
      "source": [
        "type(i // 3)"
      ],
      "execution_count": 0,
      "outputs": [
        {
          "output_type": "execute_result",
          "data": {
            "text/plain": [
              "int"
            ]
          },
          "metadata": {
            "tags": []
          },
          "execution_count": 14
        }
      ]
    },
    {
      "cell_type": "code",
      "metadata": {
        "id": "RPzjUDO6KUi9",
        "colab_type": "code",
        "outputId": "35718fd4-9aa3-4421-aeb3-7ad069d6f085",
        "colab": {}
      },
      "source": [
        "type(i / 3)"
      ],
      "execution_count": 0,
      "outputs": [
        {
          "output_type": "execute_result",
          "data": {
            "text/plain": [
              "float"
            ]
          },
          "metadata": {
            "tags": []
          },
          "execution_count": 15
        }
      ]
    },
    {
      "cell_type": "markdown",
      "metadata": {
        "id": "OUF0Cy2sKUjG",
        "colab_type": "text"
      },
      "source": [
        "### Strings"
      ]
    },
    {
      "cell_type": "code",
      "metadata": {
        "id": "fnyYl1HdKUjI",
        "colab_type": "code",
        "colab": {}
      },
      "source": [
        "mystring = \"A string of text\""
      ],
      "execution_count": 0,
      "outputs": []
    },
    {
      "cell_type": "markdown",
      "metadata": {
        "id": "HRsWMesvKUjO",
        "colab_type": "text"
      },
      "source": [
        "As of Python 3, strings are by default encoded in Unicode. "
      ]
    },
    {
      "cell_type": "code",
      "metadata": {
        "id": "L1t7SjioKUjP",
        "colab_type": "code",
        "outputId": "5d113158-6c95-44a2-ea6b-03d815459abf",
        "colab": {}
      },
      "source": [
        "type(mystring.encode('utf-8'))"
      ],
      "execution_count": 0,
      "outputs": [
        {
          "output_type": "execute_result",
          "data": {
            "text/plain": [
              "bytes"
            ]
          },
          "metadata": {
            "tags": []
          },
          "execution_count": 17
        }
      ]
    },
    {
      "cell_type": "markdown",
      "metadata": {
        "id": "4R61N5vqKUjZ",
        "colab_type": "text"
      },
      "source": [
        "Strings in Python are **list** of characters, thus they can be manipulated as any other *iterable*. "
      ]
    },
    {
      "cell_type": "code",
      "metadata": {
        "id": "sha3wjkcKUjb",
        "colab_type": "code",
        "outputId": "98aed9a5-a93f-4625-9645-5a0f07004128",
        "colab": {}
      },
      "source": [
        "# we can iterate through the characters\n",
        "# of a string\n",
        "\n",
        "for char in mystring:\n",
        "    print(char)"
      ],
      "execution_count": 0,
      "outputs": [
        {
          "output_type": "stream",
          "text": [
            "A\n",
            " \n",
            "s\n",
            "t\n",
            "r\n",
            "i\n",
            "n\n",
            "g\n",
            " \n",
            "o\n",
            "f\n",
            " \n",
            "t\n",
            "e\n",
            "x\n",
            "t\n"
          ],
          "name": "stdout"
        }
      ]
    },
    {
      "cell_type": "code",
      "metadata": {
        "id": "Z_aKZ58QKUjf",
        "colab_type": "code",
        "outputId": "26d1c804-bf55-4cd1-80f5-e2909299661e",
        "colab": {}
      },
      "source": [
        "# slicing by means of indices works as expected\n",
        "\n",
        "mystring[2:]"
      ],
      "execution_count": 0,
      "outputs": [
        {
          "output_type": "execute_result",
          "data": {
            "text/plain": [
              "'string of text'"
            ]
          },
          "metadata": {
            "tags": []
          },
          "execution_count": 19
        }
      ]
    },
    {
      "cell_type": "code",
      "metadata": {
        "id": "UpN5LkfIKUjn",
        "colab_type": "code",
        "outputId": "8f0a6911-5648-4790-b0c5-0a14bde0c3a1",
        "colab": {}
      },
      "source": [
        "mystring[-1]"
      ],
      "execution_count": 0,
      "outputs": [
        {
          "output_type": "execute_result",
          "data": {
            "text/plain": [
              "'t'"
            ]
          },
          "metadata": {
            "tags": []
          },
          "execution_count": 20
        }
      ]
    },
    {
      "cell_type": "markdown",
      "metadata": {
        "id": "SsTA_geWKUju",
        "colab_type": "text"
      },
      "source": [
        "#### Concatenation"
      ]
    },
    {
      "cell_type": "code",
      "metadata": {
        "id": "SEJSdKbuKUjv",
        "colab_type": "code",
        "colab": {}
      },
      "source": [
        "newstring = \"This is \" + mystring.lower()"
      ],
      "execution_count": 0,
      "outputs": []
    },
    {
      "cell_type": "code",
      "metadata": {
        "id": "t9lqX7ffKUj1",
        "colab_type": "code",
        "outputId": "0a4457a8-7c99-49b0-d788-bf6abe3d15fc",
        "colab": {}
      },
      "source": [
        "newstring"
      ],
      "execution_count": 0,
      "outputs": [
        {
          "output_type": "execute_result",
          "data": {
            "text/plain": [
              "'This is a string of text'"
            ]
          },
          "metadata": {
            "tags": []
          },
          "execution_count": 22
        }
      ]
    },
    {
      "cell_type": "markdown",
      "metadata": {
        "id": "nQrrn0miKUj_",
        "colab_type": "text"
      },
      "source": [
        "A very handy feature introduced in Python 3.6.x are f-strings:\n",
        "- they are declared by prepending the character `f` to the quote signs containing the text\n",
        "- they use curly brackets `{variable_name}` to specify the position in a string where the content of an existing variable should be inserted."
      ]
    },
    {
      "cell_type": "code",
      "metadata": {
        "id": "N5DxEdNbKUkB",
        "colab_type": "code",
        "outputId": "17736fb2-420e-4146-e797-2ddde36cb20f",
        "colab": {}
      },
      "source": [
        "f'## {mystring} ##'"
      ],
      "execution_count": 0,
      "outputs": [
        {
          "output_type": "execute_result",
          "data": {
            "text/plain": [
              "'## A string of text ##'"
            ]
          },
          "metadata": {
            "tags": []
          },
          "execution_count": 23
        }
      ]
    },
    {
      "cell_type": "markdown",
      "metadata": {
        "id": "5YjoO_OnKUkG",
        "colab_type": "text"
      },
      "source": [
        "The curly brackets can contain *any* Python expression (except assignment of variables); the expression will be executed and its returned output interpolated within the string template."
      ]
    },
    {
      "cell_type": "code",
      "metadata": {
        "id": "bYAvuM50KUkI",
        "colab_type": "code",
        "outputId": "0c2f0ba6-3397-4aca-c5bf-535bf259cdf6",
        "colab": {}
      },
      "source": [
        "f'The length of `mystring` is {len(mystring)} characters.'"
      ],
      "execution_count": 0,
      "outputs": [
        {
          "output_type": "execute_result",
          "data": {
            "text/plain": [
              "'The length of `mystring` is 16 characters.'"
            ]
          },
          "metadata": {
            "tags": []
          },
          "execution_count": 24
        }
      ]
    },
    {
      "cell_type": "markdown",
      "metadata": {
        "id": "0LgeUHpfKUkN",
        "colab_type": "text"
      },
      "source": [
        "**Q**: Can you explain what's going on in the cell below?"
      ]
    },
    {
      "cell_type": "code",
      "metadata": {
        "id": "V9eA3oJTKUkP",
        "colab_type": "code",
        "outputId": "c69f1747-365d-4453-962d-95a590d7677e",
        "colab": {}
      },
      "source": [
        "s = \"repetita iuvant\"\n",
        "print(f'{\", \".join([s for i in range(0, 10)])}')"
      ],
      "execution_count": 0,
      "outputs": [
        {
          "output_type": "stream",
          "text": [
            "repetita iuvant, repetita iuvant, repetita iuvant, repetita iuvant, repetita iuvant, repetita iuvant, repetita iuvant, repetita iuvant, repetita iuvant, repetita iuvant\n"
          ],
          "name": "stdout"
        }
      ]
    },
    {
      "cell_type": "markdown",
      "metadata": {
        "id": "PyfyewN6KUka",
        "colab_type": "text"
      },
      "source": [
        "Can you rewrite the cell above in an alternative way?"
      ]
    },
    {
      "cell_type": "markdown",
      "metadata": {
        "id": "zLubyhUZKUkb",
        "colab_type": "text"
      },
      "source": [
        "#### Transformation"
      ]
    },
    {
      "cell_type": "code",
      "metadata": {
        "id": "NW3glZRUKUkd",
        "colab_type": "code",
        "outputId": "102e331d-639d-4676-c8c3-439e578e8711",
        "colab": {}
      },
      "source": [
        "mystring.lower()"
      ],
      "execution_count": 0,
      "outputs": [
        {
          "output_type": "execute_result",
          "data": {
            "text/plain": [
              "'a string of text'"
            ]
          },
          "metadata": {
            "tags": []
          },
          "execution_count": 26
        }
      ]
    },
    {
      "cell_type": "code",
      "metadata": {
        "id": "_86HHAtnKUkp",
        "colab_type": "code",
        "outputId": "eb3bb094-6017-4865-c24b-2bba8326594d",
        "colab": {}
      },
      "source": [
        "mystring.upper()"
      ],
      "execution_count": 0,
      "outputs": [
        {
          "output_type": "execute_result",
          "data": {
            "text/plain": [
              "'A STRING OF TEXT'"
            ]
          },
          "metadata": {
            "tags": []
          },
          "execution_count": 27
        }
      ]
    },
    {
      "cell_type": "code",
      "metadata": {
        "id": "p6JChzyCKUk0",
        "colab_type": "code",
        "outputId": "3576c06f-2523-4b88-d4e7-37d3b9572204",
        "colab": {}
      },
      "source": [
        "mystring.replace(\"string\", \"list\").replace(\"text\", \"characters\")"
      ],
      "execution_count": 0,
      "outputs": [
        {
          "output_type": "execute_result",
          "data": {
            "text/plain": [
              "'A list of characters'"
            ]
          },
          "metadata": {
            "tags": []
          },
          "execution_count": 28
        }
      ]
    },
    {
      "cell_type": "markdown",
      "metadata": {
        "id": "cOAKQ4J_KUk4",
        "colab_type": "text"
      },
      "source": [
        "### Date and time\n",
        "\n",
        " Limit of this data type when working with historical data (timestamps failed before a certain date around 1700)."
      ]
    },
    {
      "cell_type": "markdown",
      "metadata": {
        "id": "krAQs2ZsKUk6",
        "colab_type": "text"
      },
      "source": [
        "#### `datetime.date`"
      ]
    },
    {
      "cell_type": "code",
      "metadata": {
        "id": "palGMhd7KUk7",
        "colab_type": "code",
        "colab": {}
      },
      "source": [
        "from datetime import date, datetime"
      ],
      "execution_count": 0,
      "outputs": []
    },
    {
      "cell_type": "code",
      "metadata": {
        "id": "sh_rsxcPKUlB",
        "colab_type": "code",
        "colab": {}
      },
      "source": [
        "# `date` takes three arguments:\n",
        "# 1. year, 2. month, 3. day\n",
        "\n",
        "d = date(1982, 7, 17)"
      ],
      "execution_count": 0,
      "outputs": []
    },
    {
      "cell_type": "code",
      "metadata": {
        "id": "XSq5m3-lKUlH",
        "colab_type": "code",
        "outputId": "ed795dce-82c1-47c8-f9a0-85e3a19785ff",
        "colab": {}
      },
      "source": [
        "type(d)"
      ],
      "execution_count": 0,
      "outputs": [
        {
          "output_type": "execute_result",
          "data": {
            "text/plain": [
              "datetime.date"
            ]
          },
          "metadata": {
            "tags": []
          },
          "execution_count": 37
        }
      ]
    },
    {
      "cell_type": "markdown",
      "metadata": {
        "id": "1r0dStoHKUlN",
        "colab_type": "text"
      },
      "source": [
        "**NB**: When creating a date, order matters! Try this:"
      ]
    },
    {
      "cell_type": "code",
      "metadata": {
        "id": "s0wEwcjjKUlP",
        "colab_type": "code",
        "outputId": "0447b5b8-69f4-4cc7-f115-f3c3e60dfb69",
        "colab": {}
      },
      "source": [
        "d = date(19, 7, 1782)"
      ],
      "execution_count": 0,
      "outputs": [
        {
          "output_type": "error",
          "ename": "ValueError",
          "evalue": "day is out of range for month",
          "traceback": [
            "\u001b[0;31m---------------------------------------------------------------------------\u001b[0m",
            "\u001b[0;31mValueError\u001b[0m                                Traceback (most recent call last)",
            "\u001b[0;32m<ipython-input-38-b1473f0684a3>\u001b[0m in \u001b[0;36m<module>\u001b[0;34m\u001b[0m\n\u001b[0;32m----> 1\u001b[0;31m \u001b[0md\u001b[0m \u001b[0;34m=\u001b[0m \u001b[0mdate\u001b[0m\u001b[0;34m(\u001b[0m\u001b[0;36m19\u001b[0m\u001b[0;34m,\u001b[0m \u001b[0;36m7\u001b[0m\u001b[0;34m,\u001b[0m \u001b[0;36m1782\u001b[0m\u001b[0;34m)\u001b[0m\u001b[0;34m\u001b[0m\u001b[0;34m\u001b[0m\u001b[0m\n\u001b[0m",
            "\u001b[0;31mValueError\u001b[0m: day is out of range for month"
          ]
        }
      ]
    },
    {
      "cell_type": "code",
      "metadata": {
        "id": "3LzIyP7uKUlT",
        "colab_type": "code",
        "outputId": "bbab5d0b-dbe1-461c-9613-0cad39df807b",
        "colab": {}
      },
      "source": [
        "d.today()"
      ],
      "execution_count": 0,
      "outputs": [
        {
          "output_type": "execute_result",
          "data": {
            "text/plain": [
              "datetime.date(2019, 7, 21)"
            ]
          },
          "metadata": {
            "tags": []
          },
          "execution_count": 39
        }
      ]
    },
    {
      "cell_type": "code",
      "metadata": {
        "id": "aIwoePKfKUlY",
        "colab_type": "code",
        "outputId": "32ec58e3-bff2-4255-a2ac-9a84c5c7698c",
        "colab": {}
      },
      "source": [
        "f'{d.day}.{d.month}.{d.year}'"
      ],
      "execution_count": 0,
      "outputs": [
        {
          "output_type": "execute_result",
          "data": {
            "text/plain": [
              "'17.7.1982'"
            ]
          },
          "metadata": {
            "tags": []
          },
          "execution_count": 40
        }
      ]
    },
    {
      "cell_type": "code",
      "metadata": {
        "id": "WRn8iCAZKUlb",
        "colab_type": "code",
        "outputId": "b864bace-0d25-4815-8ac7-0bd611d98f94",
        "colab": {}
      },
      "source": [
        "f'{d.year}/{str(d.month)}/{d.day}'"
      ],
      "execution_count": 0,
      "outputs": [
        {
          "output_type": "execute_result",
          "data": {
            "text/plain": [
              "'1982/7/17'"
            ]
          },
          "metadata": {
            "tags": []
          },
          "execution_count": 41
        }
      ]
    },
    {
      "cell_type": "code",
      "metadata": {
        "id": "XrRDBS-ZKUlk",
        "colab_type": "code",
        "outputId": "5eb97b15-132b-453b-c819-20bbfddba720",
        "colab": {}
      },
      "source": [
        "f'{d.year}/{str(d.month).zfill(2)}/{d.day}'"
      ],
      "execution_count": 0,
      "outputs": [
        {
          "output_type": "execute_result",
          "data": {
            "text/plain": [
              "'1982/07/17'"
            ]
          },
          "metadata": {
            "tags": []
          },
          "execution_count": 42
        }
      ]
    },
    {
      "cell_type": "markdown",
      "metadata": {
        "id": "rFWYsAgiKUlw",
        "colab_type": "text"
      },
      "source": [
        "#### `datetime.datetime`\n",
        "\n",
        "`datetime` adds information about hour/minute/second/micro second to a date."
      ]
    },
    {
      "cell_type": "code",
      "metadata": {
        "id": "nPXkiR99KUlx",
        "colab_type": "code",
        "colab": {}
      },
      "source": [
        "from datetime import datetime"
      ],
      "execution_count": 0,
      "outputs": []
    },
    {
      "cell_type": "code",
      "metadata": {
        "id": "-N7ZnPkfKUl0",
        "colab_type": "code",
        "colab": {}
      },
      "source": [
        "dt = datetime.utcnow()"
      ],
      "execution_count": 0,
      "outputs": []
    },
    {
      "cell_type": "code",
      "metadata": {
        "id": "1x4340udKUl4",
        "colab_type": "code",
        "outputId": "034982cb-4008-4478-db80-0a425cbdf1e8",
        "colab": {}
      },
      "source": [
        "dt"
      ],
      "execution_count": 0,
      "outputs": [
        {
          "output_type": "execute_result",
          "data": {
            "text/plain": [
              "datetime.datetime(2019, 7, 21, 18, 28, 52, 422532)"
            ]
          },
          "metadata": {
            "tags": []
          },
          "execution_count": 45
        }
      ]
    },
    {
      "cell_type": "code",
      "metadata": {
        "id": "ggJIImxLKUl8",
        "colab_type": "code",
        "outputId": "2d40687f-81f9-4fa0-c79d-ae63478f7614",
        "colab": {}
      },
      "source": [
        "dt.isoformat()"
      ],
      "execution_count": 0,
      "outputs": [
        {
          "output_type": "execute_result",
          "data": {
            "text/plain": [
              "'2019-07-21T18:28:52.422532'"
            ]
          },
          "metadata": {
            "tags": []
          },
          "execution_count": 46
        }
      ]
    },
    {
      "cell_type": "code",
      "metadata": {
        "id": "cHuw7c-9KUmF",
        "colab_type": "code",
        "outputId": "5c16b4bf-c09e-491b-99e2-8aabdc2c5659",
        "colab": {}
      },
      "source": [
        "dt.date()"
      ],
      "execution_count": 0,
      "outputs": [
        {
          "output_type": "execute_result",
          "data": {
            "text/plain": [
              "datetime.date(2019, 7, 21)"
            ]
          },
          "metadata": {
            "tags": []
          },
          "execution_count": 47
        }
      ]
    },
    {
      "cell_type": "code",
      "metadata": {
        "id": "4mNBaWxvKUmK",
        "colab_type": "code",
        "outputId": "91cb495e-b7c9-4a8e-eec6-488460087393",
        "colab": {}
      },
      "source": [
        "datetime.now().strftime(\"%m/%d/%Y, %H:%M:%S\")"
      ],
      "execution_count": 0,
      "outputs": [
        {
          "output_type": "execute_result",
          "data": {
            "text/plain": [
              "'07/21/2019, 20:28:53'"
            ]
          },
          "metadata": {
            "tags": []
          },
          "execution_count": 48
        }
      ]
    },
    {
      "cell_type": "markdown",
      "metadata": {
        "id": "AyVHihOBKUmP",
        "colab_type": "text"
      },
      "source": [
        "## Python data structures"
      ]
    },
    {
      "cell_type": "markdown",
      "metadata": {
        "id": "tSJs0n-4KUmQ",
        "colab_type": "text"
      },
      "source": [
        "### Lists"
      ]
    },
    {
      "cell_type": "code",
      "metadata": {
        "id": "hoH_s2z3KUmQ",
        "colab_type": "code",
        "colab": {}
      },
      "source": [
        "l = list(range(0, 5))"
      ],
      "execution_count": 0,
      "outputs": []
    },
    {
      "cell_type": "code",
      "metadata": {
        "id": "CMfU2l9_KUmU",
        "colab_type": "code",
        "outputId": "e33d090a-9aa6-45d6-d952-311ade40c177",
        "colab": {}
      },
      "source": [
        "l"
      ],
      "execution_count": 0,
      "outputs": [
        {
          "output_type": "execute_result",
          "data": {
            "text/plain": [
              "[0, 1, 2, 3, 4]"
            ]
          },
          "metadata": {
            "tags": []
          },
          "execution_count": 50
        }
      ]
    },
    {
      "cell_type": "markdown",
      "metadata": {
        "id": "95hX716vKUmZ",
        "colab_type": "text"
      },
      "source": [
        "The `extend()` method can be used to append elements to an existing list.\n",
        "\n",
        "**NB**: `extend` operates directly on the list, modifying it in place."
      ]
    },
    {
      "cell_type": "code",
      "metadata": {
        "id": "t_P3OOz5KUmd",
        "colab_type": "code",
        "colab": {}
      },
      "source": [
        "l.extend(range(1, 10))"
      ],
      "execution_count": 0,
      "outputs": []
    },
    {
      "cell_type": "code",
      "metadata": {
        "id": "ah7muEUVKUmi",
        "colab_type": "code",
        "outputId": "6fd5a6d0-04d6-413f-cfd2-50c91ca75456",
        "colab": {}
      },
      "source": [
        "l"
      ],
      "execution_count": 0,
      "outputs": [
        {
          "output_type": "execute_result",
          "data": {
            "text/plain": [
              "[0, 1, 2, 3, 4, 1, 2, 3, 4, 5, 6, 7, 8, 9]"
            ]
          },
          "metadata": {
            "tags": []
          },
          "execution_count": 52
        }
      ]
    },
    {
      "cell_type": "code",
      "metadata": {
        "id": "qMCTp1d3KUmk",
        "colab_type": "code",
        "outputId": "101bd473-0c30-4ec2-d1eb-45283f955a32",
        "colab": {}
      },
      "source": [
        "l + list(range(5, 10))"
      ],
      "execution_count": 0,
      "outputs": [
        {
          "output_type": "execute_result",
          "data": {
            "text/plain": [
              "[0, 1, 2, 3, 4, 1, 2, 3, 4, 5, 6, 7, 8, 9, 5, 6, 7, 8, 9]"
            ]
          },
          "metadata": {
            "tags": []
          },
          "execution_count": 53
        }
      ]
    },
    {
      "cell_type": "code",
      "metadata": {
        "id": "Sjp5PXo9KUmq",
        "colab_type": "code",
        "outputId": "9c383177-31fd-473d-f068-ba5f59e34c9f",
        "colab": {}
      },
      "source": [
        "l"
      ],
      "execution_count": 0,
      "outputs": [
        {
          "output_type": "execute_result",
          "data": {
            "text/plain": [
              "[0, 1, 2, 3, 4, 1, 2, 3, 4, 5, 6, 7, 8, 9]"
            ]
          },
          "metadata": {
            "tags": []
          },
          "execution_count": 54
        }
      ]
    },
    {
      "cell_type": "markdown",
      "metadata": {
        "id": "jygAxwOOKUmu",
        "colab_type": "text"
      },
      "source": [
        "`count()` can be used to count the number of times a given value is found within a list:"
      ]
    },
    {
      "cell_type": "code",
      "metadata": {
        "id": "NoznvLcVKUmw",
        "colab_type": "code",
        "outputId": "0c7383e0-1f5a-48d2-b18f-6f3cff8f4140",
        "colab": {}
      },
      "source": [
        "for n in range(0, 10):\n",
        "    print(f'{n} occurs {l.count(n)} times in list `l`')"
      ],
      "execution_count": 0,
      "outputs": [
        {
          "output_type": "stream",
          "text": [
            "0 occurs 1 times in list `l`\n",
            "1 occurs 2 times in list `l`\n",
            "2 occurs 2 times in list `l`\n",
            "3 occurs 2 times in list `l`\n",
            "4 occurs 2 times in list `l`\n",
            "5 occurs 1 times in list `l`\n",
            "6 occurs 1 times in list `l`\n",
            "7 occurs 1 times in list `l`\n",
            "8 occurs 1 times in list `l`\n",
            "9 occurs 1 times in list `l`\n"
          ],
          "name": "stdout"
        }
      ]
    },
    {
      "cell_type": "code",
      "metadata": {
        "id": "AoFinmJNKUm7",
        "colab_type": "code",
        "outputId": "59d4bb03-d9bb-4144-9e91-e028edce671a",
        "colab": {}
      },
      "source": [
        "l"
      ],
      "execution_count": 0,
      "outputs": [
        {
          "output_type": "execute_result",
          "data": {
            "text/plain": [
              "[0, 1, 2, 3, 4, 1, 2, 3, 4, 5, 6, 7, 8, 9]"
            ]
          },
          "metadata": {
            "tags": []
          },
          "execution_count": 56
        }
      ]
    },
    {
      "cell_type": "code",
      "metadata": {
        "id": "VgCudLaNKUnC",
        "colab_type": "code",
        "outputId": "d0f896af-9f66-44ad-8770-3e2543623b4d",
        "colab": {}
      },
      "source": [
        "l.index(4)"
      ],
      "execution_count": 0,
      "outputs": [
        {
          "output_type": "execute_result",
          "data": {
            "text/plain": [
              "4"
            ]
          },
          "metadata": {
            "tags": []
          },
          "execution_count": 57
        }
      ]
    },
    {
      "cell_type": "markdown",
      "metadata": {
        "id": "Cw6Y5dBCKUnG",
        "colab_type": "text"
      },
      "source": [
        "`pop()` remove the last item of a list and, as `extend()`, operates directly on the variable, modifying its value."
      ]
    },
    {
      "cell_type": "code",
      "metadata": {
        "id": "7H6Uj3d_KUnH",
        "colab_type": "code",
        "outputId": "1cb46aca-7c4c-494f-b467-ed70049df2a9",
        "colab": {}
      },
      "source": [
        "while(len(l) > 0):\n",
        "    print(f'Removing {l.pop()} from my list')\n",
        "    print(f'Size of `l` is {len(l)}')"
      ],
      "execution_count": 0,
      "outputs": [
        {
          "output_type": "stream",
          "text": [
            "Removing 9 from my list\n",
            "Size of `l` is 13\n",
            "Removing 8 from my list\n",
            "Size of `l` is 12\n",
            "Removing 7 from my list\n",
            "Size of `l` is 11\n",
            "Removing 6 from my list\n",
            "Size of `l` is 10\n",
            "Removing 5 from my list\n",
            "Size of `l` is 9\n",
            "Removing 4 from my list\n",
            "Size of `l` is 8\n",
            "Removing 3 from my list\n",
            "Size of `l` is 7\n",
            "Removing 2 from my list\n",
            "Size of `l` is 6\n",
            "Removing 1 from my list\n",
            "Size of `l` is 5\n",
            "Removing 4 from my list\n",
            "Size of `l` is 4\n",
            "Removing 3 from my list\n",
            "Size of `l` is 3\n",
            "Removing 2 from my list\n",
            "Size of `l` is 2\n",
            "Removing 1 from my list\n",
            "Size of `l` is 1\n",
            "Removing 0 from my list\n",
            "Size of `l` is 0\n"
          ],
          "name": "stdout"
        }
      ]
    },
    {
      "cell_type": "code",
      "metadata": {
        "id": "9tD8gIkvKUnK",
        "colab_type": "code",
        "outputId": "cd4297a7-30b3-4881-e530-791a58f04148",
        "colab": {}
      },
      "source": [
        "# you cannot remove an element from an empty list\n",
        "\n",
        "l.pop()"
      ],
      "execution_count": 0,
      "outputs": [
        {
          "output_type": "error",
          "ename": "IndexError",
          "evalue": "pop from empty list",
          "traceback": [
            "\u001b[0;31m---------------------------------------------------------------------------\u001b[0m",
            "\u001b[0;31mIndexError\u001b[0m                                Traceback (most recent call last)",
            "\u001b[0;32m<ipython-input-59-7ec59c46ed09>\u001b[0m in \u001b[0;36m<module>\u001b[0;34m\u001b[0m\n\u001b[1;32m      1\u001b[0m \u001b[0;31m# you cannot remove an element from an empty list\u001b[0m\u001b[0;34m\u001b[0m\u001b[0;34m\u001b[0m\u001b[0;34m\u001b[0m\u001b[0m\n\u001b[1;32m      2\u001b[0m \u001b[0;34m\u001b[0m\u001b[0m\n\u001b[0;32m----> 3\u001b[0;31m \u001b[0ml\u001b[0m\u001b[0;34m.\u001b[0m\u001b[0mpop\u001b[0m\u001b[0;34m(\u001b[0m\u001b[0;34m)\u001b[0m\u001b[0;34m\u001b[0m\u001b[0;34m\u001b[0m\u001b[0m\n\u001b[0m",
            "\u001b[0;31mIndexError\u001b[0m: pop from empty list"
          ]
        }
      ]
    },
    {
      "cell_type": "markdown",
      "metadata": {
        "id": "xfzk6520KUnO",
        "colab_type": "text"
      },
      "source": [
        "### Dictionaries"
      ]
    },
    {
      "cell_type": "code",
      "metadata": {
        "id": "CAHOClZsKUnP",
        "colab_type": "code",
        "colab": {}
      },
      "source": [
        "d = {\n",
        "    \"count\": 0,\n",
        "    \"type\": \"child\",\n",
        "    \"average\": 1.2\n",
        "}"
      ],
      "execution_count": 0,
      "outputs": []
    },
    {
      "cell_type": "code",
      "metadata": {
        "id": "0UJHQYU1KUnS",
        "colab_type": "code",
        "outputId": "6ea49c1f-0425-4cef-c11d-d476535dc139",
        "colab": {}
      },
      "source": [
        "d.keys()"
      ],
      "execution_count": 0,
      "outputs": [
        {
          "output_type": "execute_result",
          "data": {
            "text/plain": [
              "dict_keys(['count', 'type', 'average'])"
            ]
          },
          "metadata": {
            "tags": []
          },
          "execution_count": 61
        }
      ]
    },
    {
      "cell_type": "code",
      "metadata": {
        "id": "64ktavTvKUna",
        "colab_type": "code",
        "outputId": "6c3a20e3-d667-476a-c58e-edd45433e0f1",
        "colab": {}
      },
      "source": [
        "d.values()"
      ],
      "execution_count": 0,
      "outputs": [
        {
          "output_type": "execute_result",
          "data": {
            "text/plain": [
              "dict_values([0, 'child', 1.2])"
            ]
          },
          "metadata": {
            "tags": []
          },
          "execution_count": 62
        }
      ]
    },
    {
      "cell_type": "code",
      "metadata": {
        "id": "ewVbzdZkKUne",
        "colab_type": "code",
        "outputId": "f1851eab-36d0-4bc8-c4b5-1d29c8fc0688",
        "colab": {}
      },
      "source": [
        "d['count']"
      ],
      "execution_count": 0,
      "outputs": [
        {
          "output_type": "execute_result",
          "data": {
            "text/plain": [
              "0"
            ]
          },
          "metadata": {
            "tags": []
          },
          "execution_count": 63
        }
      ]
    },
    {
      "cell_type": "code",
      "metadata": {
        "id": "MvhdtSQaKUnk",
        "colab_type": "code",
        "colab": {}
      },
      "source": [
        "d1 = {}"
      ],
      "execution_count": 0,
      "outputs": []
    },
    {
      "cell_type": "code",
      "metadata": {
        "id": "tElZxh0eKUns",
        "colab_type": "code",
        "outputId": "f0ef26a5-4342-4b6c-c77a-763b2edb6134",
        "colab": {}
      },
      "source": [
        "assert d1"
      ],
      "execution_count": 0,
      "outputs": [
        {
          "output_type": "error",
          "ename": "AssertionError",
          "evalue": "",
          "traceback": [
            "\u001b[0;31m---------------------------------------------------------------------------\u001b[0m",
            "\u001b[0;31mAssertionError\u001b[0m                            Traceback (most recent call last)",
            "\u001b[0;32m<ipython-input-65-042886f2a38f>\u001b[0m in \u001b[0;36m<module>\u001b[0;34m\u001b[0m\n\u001b[0;32m----> 1\u001b[0;31m \u001b[0;32massert\u001b[0m \u001b[0md1\u001b[0m\u001b[0;34m\u001b[0m\u001b[0;34m\u001b[0m\u001b[0m\n\u001b[0m",
            "\u001b[0;31mAssertionError\u001b[0m: "
          ]
        }
      ]
    },
    {
      "cell_type": "code",
      "metadata": {
        "id": "bGSY6Hu3KUn0",
        "colab_type": "code",
        "outputId": "1f46ff8d-4009-451e-8541-dc03eac56d33",
        "colab": {}
      },
      "source": [
        "if d:\n",
        "    print(\"hello\")"
      ],
      "execution_count": 0,
      "outputs": [
        {
          "output_type": "stream",
          "text": [
            "hello\n"
          ],
          "name": "stdout"
        }
      ]
    },
    {
      "cell_type": "code",
      "metadata": {
        "id": "i8k7gKm2KUn8",
        "colab_type": "code",
        "colab": {}
      },
      "source": [
        "if d1:\n",
        "    print(\"hello\")"
      ],
      "execution_count": 0,
      "outputs": []
    },
    {
      "cell_type": "markdown",
      "metadata": {
        "id": "rI_XYOFrKUoB",
        "colab_type": "text"
      },
      "source": [
        "**Q**: Why? Can you explain what's going on?"
      ]
    },
    {
      "cell_type": "markdown",
      "metadata": {
        "id": "4VVL_FKGKUoC",
        "colab_type": "text"
      },
      "source": [
        "### Tuples"
      ]
    },
    {
      "cell_type": "markdown",
      "metadata": {
        "id": "Tq-iMQQvKUoD",
        "colab_type": "text"
      },
      "source": [
        "Tuples are similar to lists, as they are both iterables. "
      ]
    },
    {
      "cell_type": "code",
      "metadata": {
        "id": "ioO3szVLKUoE",
        "colab_type": "code",
        "colab": {}
      },
      "source": [
        "t = tuple((0, \"child\", 1.2))"
      ],
      "execution_count": 0,
      "outputs": []
    },
    {
      "cell_type": "code",
      "metadata": {
        "id": "5vOIcLDVKUoG",
        "colab_type": "code",
        "outputId": "d8fb3655-c357-4882-c11e-94c18c1d0b40",
        "colab": {}
      },
      "source": [
        "t"
      ],
      "execution_count": 0,
      "outputs": [
        {
          "output_type": "execute_result",
          "data": {
            "text/plain": [
              "(0, 'child', 1.2)"
            ]
          },
          "metadata": {
            "tags": []
          },
          "execution_count": 69
        }
      ]
    },
    {
      "cell_type": "markdown",
      "metadata": {
        "id": "fKDmaX5bKUoK",
        "colab_type": "text"
      },
      "source": [
        "As any interable, you can iterate over it (as one would expect):"
      ]
    },
    {
      "cell_type": "code",
      "metadata": {
        "code_folding": [],
        "id": "_LnvQVcPKUoL",
        "colab_type": "code",
        "outputId": "8d28f5be-18fe-4aeb-cbc7-198d897aa9c8",
        "colab": {}
      },
      "source": [
        "for value in t:\n",
        "    print(value)"
      ],
      "execution_count": 0,
      "outputs": [
        {
          "output_type": "stream",
          "text": [
            "0\n",
            "child\n",
            "1.2\n"
          ],
          "name": "stdout"
        }
      ]
    },
    {
      "cell_type": "markdown",
      "metadata": {
        "id": "rPeXhdiLKUoQ",
        "colab_type": "text"
      },
      "source": [
        "The main difference between the two is that tuples do no support slicing."
      ]
    },
    {
      "cell_type": "code",
      "metadata": {
        "id": "EG7mSuNAKUoR",
        "colab_type": "code",
        "outputId": "765cdfaa-e0cf-4a17-d05a-c200e03ffabf",
        "colab": {}
      },
      "source": [
        "t[1] = 'adult'"
      ],
      "execution_count": 0,
      "outputs": [
        {
          "output_type": "error",
          "ename": "TypeError",
          "evalue": "'tuple' object does not support item assignment",
          "traceback": [
            "\u001b[0;31m---------------------------------------------------------------------------\u001b[0m",
            "\u001b[0;31mTypeError\u001b[0m                                 Traceback (most recent call last)",
            "\u001b[0;32m<ipython-input-71-9b900235adc1>\u001b[0m in \u001b[0;36m<module>\u001b[0;34m\u001b[0m\n\u001b[0;32m----> 1\u001b[0;31m \u001b[0mt\u001b[0m\u001b[0;34m[\u001b[0m\u001b[0;36m1\u001b[0m\u001b[0;34m]\u001b[0m \u001b[0;34m=\u001b[0m \u001b[0;34m'adult'\u001b[0m\u001b[0;34m\u001b[0m\u001b[0;34m\u001b[0m\u001b[0m\n\u001b[0m",
            "\u001b[0;31mTypeError\u001b[0m: 'tuple' object does not support item assignment"
          ]
        }
      ]
    },
    {
      "cell_type": "markdown",
      "metadata": {
        "id": "fliNOGxFKUoT",
        "colab_type": "text"
      },
      "source": [
        "## Data structures (`pandas`)"
      ]
    },
    {
      "cell_type": "markdown",
      "metadata": {
        "id": "NO6a646aKUoU",
        "colab_type": "text"
      },
      "source": [
        "### `Series`\n",
        "\n",
        "In `pandas`, series are the building blocks of dataframes.\n",
        "\n",
        "Think of a series as a column in a table. A series collects *observations* about a given *variable*. "
      ]
    },
    {
      "cell_type": "code",
      "metadata": {
        "id": "wdPAp-KiKUoV",
        "colab_type": "code",
        "colab": {}
      },
      "source": [
        "from random import random\n",
        "import pandas as pd\n",
        "import numpy as np\n",
        "from pandas import Series, DataFrame"
      ],
      "execution_count": 0,
      "outputs": []
    },
    {
      "cell_type": "markdown",
      "metadata": {
        "id": "0rHUb6UUKUoY",
        "colab_type": "text"
      },
      "source": [
        "#### Numerical series"
      ]
    },
    {
      "cell_type": "code",
      "metadata": {
        "id": "KyMUMR71KUoZ",
        "colab_type": "code",
        "colab": {}
      },
      "source": [
        "# let's create a series containing 100 random numbers\n",
        "# ranging between 0 and 1\n",
        "\n",
        "s = pd.Series([random() for n in range(0, 100)])"
      ],
      "execution_count": 0,
      "outputs": []
    },
    {
      "cell_type": "markdown",
      "metadata": {
        "id": "DFaqRrkSKUob",
        "colab_type": "text"
      },
      "source": [
        "Each observation in the series has an **index** as well as a set of **values**: they can be accessed via the omonymous properties:"
      ]
    },
    {
      "cell_type": "code",
      "metadata": {
        "id": "uCC6WyeZKUob",
        "colab_type": "code",
        "outputId": "259e5c6d-cbe6-4ad3-dee4-10978b39b523",
        "colab": {}
      },
      "source": [
        "s.index"
      ],
      "execution_count": 0,
      "outputs": [
        {
          "output_type": "execute_result",
          "data": {
            "text/plain": [
              "RangeIndex(start=0, stop=100, step=1)"
            ]
          },
          "metadata": {
            "tags": []
          },
          "execution_count": 74
        }
      ]
    },
    {
      "cell_type": "code",
      "metadata": {
        "id": "V3AQHiq4KUof",
        "colab_type": "code",
        "outputId": "f04cc4c9-294d-4b70-e0bc-805de6998884",
        "colab": {}
      },
      "source": [
        "list(s.index)"
      ],
      "execution_count": 0,
      "outputs": [
        {
          "output_type": "execute_result",
          "data": {
            "text/plain": [
              "[0,\n",
              " 1,\n",
              " 2,\n",
              " 3,\n",
              " 4,\n",
              " 5,\n",
              " 6,\n",
              " 7,\n",
              " 8,\n",
              " 9,\n",
              " 10,\n",
              " 11,\n",
              " 12,\n",
              " 13,\n",
              " 14,\n",
              " 15,\n",
              " 16,\n",
              " 17,\n",
              " 18,\n",
              " 19,\n",
              " 20,\n",
              " 21,\n",
              " 22,\n",
              " 23,\n",
              " 24,\n",
              " 25,\n",
              " 26,\n",
              " 27,\n",
              " 28,\n",
              " 29,\n",
              " 30,\n",
              " 31,\n",
              " 32,\n",
              " 33,\n",
              " 34,\n",
              " 35,\n",
              " 36,\n",
              " 37,\n",
              " 38,\n",
              " 39,\n",
              " 40,\n",
              " 41,\n",
              " 42,\n",
              " 43,\n",
              " 44,\n",
              " 45,\n",
              " 46,\n",
              " 47,\n",
              " 48,\n",
              " 49,\n",
              " 50,\n",
              " 51,\n",
              " 52,\n",
              " 53,\n",
              " 54,\n",
              " 55,\n",
              " 56,\n",
              " 57,\n",
              " 58,\n",
              " 59,\n",
              " 60,\n",
              " 61,\n",
              " 62,\n",
              " 63,\n",
              " 64,\n",
              " 65,\n",
              " 66,\n",
              " 67,\n",
              " 68,\n",
              " 69,\n",
              " 70,\n",
              " 71,\n",
              " 72,\n",
              " 73,\n",
              " 74,\n",
              " 75,\n",
              " 76,\n",
              " 77,\n",
              " 78,\n",
              " 79,\n",
              " 80,\n",
              " 81,\n",
              " 82,\n",
              " 83,\n",
              " 84,\n",
              " 85,\n",
              " 86,\n",
              " 87,\n",
              " 88,\n",
              " 89,\n",
              " 90,\n",
              " 91,\n",
              " 92,\n",
              " 93,\n",
              " 94,\n",
              " 95,\n",
              " 96,\n",
              " 97,\n",
              " 98,\n",
              " 99]"
            ]
          },
          "metadata": {
            "tags": []
          },
          "execution_count": 75
        }
      ]
    },
    {
      "cell_type": "code",
      "metadata": {
        "id": "y37qF7SuKUok",
        "colab_type": "code",
        "outputId": "f9228ef5-b158-410d-e52f-f90482826841",
        "colab": {}
      },
      "source": [
        "s.values"
      ],
      "execution_count": 0,
      "outputs": [
        {
          "output_type": "execute_result",
          "data": {
            "text/plain": [
              "array([0.35138243, 0.74692349, 0.13671789, 0.51881088, 0.31311421,\n",
              "       0.31183745, 0.06622851, 0.00546259, 0.77135186, 0.36736659,\n",
              "       0.33438087, 0.85743278, 0.61506066, 0.28599041, 0.93086861,\n",
              "       0.70745088, 0.6549735 , 0.86525793, 0.88101953, 0.27058276,\n",
              "       0.70282372, 0.51336374, 0.4094033 , 0.88956458, 0.8807935 ,\n",
              "       0.37302322, 0.90530088, 0.96428664, 0.1696535 , 0.10953016,\n",
              "       0.26936358, 0.55121478, 0.99668812, 0.88965543, 0.61725043,\n",
              "       0.11299245, 0.14880577, 0.52232895, 0.83943722, 0.72996142,\n",
              "       0.31219257, 0.81335953, 0.74055709, 0.9789752 , 0.10893125,\n",
              "       0.92207485, 0.40901162, 0.11722457, 0.39003368, 0.62235554,\n",
              "       0.57303106, 0.39966922, 0.20265659, 0.2550844 , 0.86909237,\n",
              "       0.95044787, 0.25193586, 0.20123974, 0.61471484, 0.92492439,\n",
              "       0.21445917, 0.15574105, 0.35952066, 0.05929676, 0.60421629,\n",
              "       0.73188196, 0.12775391, 0.8937069 , 0.59552651, 0.4461567 ,\n",
              "       0.99384155, 0.89132943, 0.95257253, 0.05215578, 0.83917971,\n",
              "       0.91743725, 0.63814826, 0.4048376 , 0.77850564, 0.26919558,\n",
              "       0.39994652, 0.0392043 , 0.82098494, 0.32828485, 0.11180154,\n",
              "       0.5811043 , 0.00874485, 0.40849631, 0.29562211, 0.92476861,\n",
              "       0.69095561, 0.66295643, 0.19622221, 0.53116517, 0.55356111,\n",
              "       0.33379549, 0.36461398, 0.08759961, 0.04904707, 0.26255933])"
            ]
          },
          "metadata": {
            "tags": []
          },
          "execution_count": 76
        }
      ]
    },
    {
      "cell_type": "markdown",
      "metadata": {
        "id": "7IxcfbevKUon",
        "colab_type": "text"
      },
      "source": [
        "The `head()` and `tail()` methods allows for looking at the begininning and end of a series:"
      ]
    },
    {
      "cell_type": "code",
      "metadata": {
        "id": "gCuax-CaKUoo",
        "colab_type": "code",
        "outputId": "f6efea40-f397-47ca-fc38-4c36e72a4ca3",
        "colab": {}
      },
      "source": [
        "s.head()"
      ],
      "execution_count": 0,
      "outputs": [
        {
          "output_type": "execute_result",
          "data": {
            "text/plain": [
              "0    0.351382\n",
              "1    0.746923\n",
              "2    0.136718\n",
              "3    0.518811\n",
              "4    0.313114\n",
              "dtype: float64"
            ]
          },
          "metadata": {
            "tags": []
          },
          "execution_count": 77
        }
      ]
    },
    {
      "cell_type": "code",
      "metadata": {
        "id": "R7_JxbXyKUor",
        "colab_type": "code",
        "outputId": "36928187-4592-4170-dc82-7492117a50f3",
        "colab": {}
      },
      "source": [
        "s.tail()"
      ],
      "execution_count": 0,
      "outputs": [
        {
          "output_type": "execute_result",
          "data": {
            "text/plain": [
              "95    0.333795\n",
              "96    0.364614\n",
              "97    0.087600\n",
              "98    0.049047\n",
              "99    0.262559\n",
              "dtype: float64"
            ]
          },
          "metadata": {
            "tags": []
          },
          "execution_count": 78
        }
      ]
    },
    {
      "cell_type": "markdown",
      "metadata": {
        "id": "t4GEW8jjKUot",
        "colab_type": "text"
      },
      "source": [
        "The `value_counts()` method returns a count of distinct values within a series."
      ]
    },
    {
      "cell_type": "markdown",
      "metadata": {
        "id": "1tCitZk4KUox",
        "colab_type": "text"
      },
      "source": [
        "Is there any number in `s` that occurs twice?"
      ]
    },
    {
      "cell_type": "code",
      "metadata": {
        "id": "Q9mY11hkKUo2",
        "colab_type": "code",
        "outputId": "23c1c3b5-6f82-4c89-8577-1633b16ff62e",
        "colab": {}
      },
      "source": [
        "# a `Series` can be easily cast into a list\n",
        "\n",
        "list(s.value_counts()).count(2)"
      ],
      "execution_count": 0,
      "outputs": [
        {
          "output_type": "execute_result",
          "data": {
            "text/plain": [
              "0"
            ]
          },
          "metadata": {
            "tags": []
          },
          "execution_count": 79
        }
      ]
    },
    {
      "cell_type": "markdown",
      "metadata": {
        "id": "I37IU7TMKUo6",
        "colab_type": "text"
      },
      "source": [
        "Another way of verifying this:"
      ]
    },
    {
      "cell_type": "code",
      "metadata": {
        "id": "-4nCuZ6HKUo6",
        "colab_type": "code",
        "outputId": "adb81dcf-0263-48f8-dd24-a548cbc5be99",
        "colab": {}
      },
      "source": [
        "s.is_unique"
      ],
      "execution_count": 0,
      "outputs": [
        {
          "output_type": "execute_result",
          "data": {
            "text/plain": [
              "True"
            ]
          },
          "metadata": {
            "tags": []
          },
          "execution_count": 80
        }
      ]
    },
    {
      "cell_type": "code",
      "metadata": {
        "id": "WYDcLtH2KUo9",
        "colab_type": "code",
        "outputId": "9259c13b-bc03-4be7-b9ea-bdbb94d80c3e",
        "colab": {}
      },
      "source": [
        "s.min()"
      ],
      "execution_count": 0,
      "outputs": [
        {
          "output_type": "execute_result",
          "data": {
            "text/plain": [
              "0.005462585301169942"
            ]
          },
          "metadata": {
            "tags": []
          },
          "execution_count": 81
        }
      ]
    },
    {
      "cell_type": "code",
      "metadata": {
        "id": "cnYnENOOKUpB",
        "colab_type": "code",
        "outputId": "976bb7ce-9b0d-4d0b-f72e-c927eb0df102",
        "colab": {}
      },
      "source": [
        "s.max()"
      ],
      "execution_count": 0,
      "outputs": [
        {
          "output_type": "execute_result",
          "data": {
            "text/plain": [
              "0.9966881209488291"
            ]
          },
          "metadata": {
            "tags": []
          },
          "execution_count": 82
        }
      ]
    },
    {
      "cell_type": "code",
      "metadata": {
        "id": "UfQCHcfPKUpF",
        "colab_type": "code",
        "outputId": "6e2118d8-1c6f-4c94-b495-f61db707b22d",
        "colab": {}
      },
      "source": [
        "s.mean()"
      ],
      "execution_count": 0,
      "outputs": [
        {
          "output_type": "execute_result",
          "data": {
            "text/plain": [
              "0.5082206508979542"
            ]
          },
          "metadata": {
            "tags": []
          },
          "execution_count": 83
        }
      ]
    },
    {
      "cell_type": "code",
      "metadata": {
        "id": "moLsp1bZKUpL",
        "colab_type": "code",
        "outputId": "4f3d5a1e-8acb-46be-bb48-f240f72f767d",
        "colab": {}
      },
      "source": [
        "s.median()"
      ],
      "execution_count": 0,
      "outputs": [
        {
          "output_type": "execute_result",
          "data": {
            "text/plain": [
              "0.516087307647585"
            ]
          },
          "metadata": {
            "tags": []
          },
          "execution_count": 84
        }
      ]
    },
    {
      "cell_type": "markdown",
      "metadata": {
        "id": "gvsLNPPwKUpO",
        "colab_type": "text"
      },
      "source": [
        "#### Datetime series"
      ]
    },
    {
      "cell_type": "code",
      "metadata": {
        "id": "kx6Uo4mpKUpO",
        "colab_type": "code",
        "colab": {}
      },
      "source": [
        "from random import randint"
      ],
      "execution_count": 0,
      "outputs": []
    },
    {
      "cell_type": "code",
      "metadata": {
        "code_folding": [],
        "id": "B08JV2ARKUpR",
        "colab_type": "code",
        "colab": {}
      },
      "source": [
        "# let's generate a list of random dates\n",
        "# in the range 1900-1950\n",
        "\n",
        "dates = [\n",
        "    date(\n",
        "        year,\n",
        "        randint(1, 12),\n",
        "        randint(1, 28) # try replacing with 31 and see what happens\n",
        "    )\n",
        "    for year in range(1900,1950)\n",
        "]"
      ],
      "execution_count": 0,
      "outputs": []
    },
    {
      "cell_type": "code",
      "metadata": {
        "id": "2KxBhaVFKUpV",
        "colab_type": "code",
        "colab": {}
      },
      "source": [
        "s1 = pd.Series(dates)"
      ],
      "execution_count": 0,
      "outputs": []
    },
    {
      "cell_type": "code",
      "metadata": {
        "id": "9ZW5wMilKUpY",
        "colab_type": "code",
        "outputId": "1d4199ce-5929-45a5-af95-a30dddd22f0b",
        "colab": {}
      },
      "source": [
        "s1"
      ],
      "execution_count": 0,
      "outputs": [
        {
          "output_type": "execute_result",
          "data": {
            "text/plain": [
              "0     1900-08-19\n",
              "1     1901-07-12\n",
              "2     1902-03-02\n",
              "3     1903-12-24\n",
              "4     1904-11-14\n",
              "5     1905-02-02\n",
              "6     1906-05-28\n",
              "7     1907-12-25\n",
              "8     1908-11-08\n",
              "9     1909-03-22\n",
              "10    1910-03-08\n",
              "11    1911-09-09\n",
              "12    1912-07-06\n",
              "13    1913-04-12\n",
              "14    1914-03-06\n",
              "15    1915-02-04\n",
              "16    1916-11-21\n",
              "17    1917-02-10\n",
              "18    1918-08-05\n",
              "19    1919-01-04\n",
              "20    1920-07-04\n",
              "21    1921-11-15\n",
              "22    1922-11-08\n",
              "23    1923-05-20\n",
              "24    1924-06-14\n",
              "25    1925-07-05\n",
              "26    1926-12-25\n",
              "27    1927-02-02\n",
              "28    1928-06-03\n",
              "29    1929-03-06\n",
              "30    1930-04-24\n",
              "31    1931-09-06\n",
              "32    1932-07-22\n",
              "33    1933-12-11\n",
              "34    1934-02-07\n",
              "35    1935-02-23\n",
              "36    1936-02-16\n",
              "37    1937-08-03\n",
              "38    1938-11-10\n",
              "39    1939-09-10\n",
              "40    1940-09-18\n",
              "41    1941-11-08\n",
              "42    1942-07-14\n",
              "43    1943-07-26\n",
              "44    1944-06-07\n",
              "45    1945-02-08\n",
              "46    1946-12-28\n",
              "47    1947-07-23\n",
              "48    1948-08-22\n",
              "49    1949-03-21\n",
              "dtype: object"
            ]
          },
          "metadata": {
            "tags": []
          },
          "execution_count": 88
        }
      ]
    },
    {
      "cell_type": "code",
      "metadata": {
        "id": "uPpYhnMaKUpb",
        "colab_type": "code",
        "outputId": "ad0a653f-b982-4ee7-f08b-960ffb3482a9",
        "colab": {}
      },
      "source": [
        "type(s1[1])"
      ],
      "execution_count": 0,
      "outputs": [
        {
          "output_type": "execute_result",
          "data": {
            "text/plain": [
              "datetime.date"
            ]
          },
          "metadata": {
            "tags": []
          },
          "execution_count": 89
        }
      ]
    },
    {
      "cell_type": "code",
      "metadata": {
        "id": "_UNlFvKYKUpd",
        "colab_type": "code",
        "colab": {}
      },
      "source": [
        "s1 = Series(pd.to_datetime(dates))"
      ],
      "execution_count": 0,
      "outputs": []
    },
    {
      "cell_type": "code",
      "metadata": {
        "id": "YUC6T_lmKUpj",
        "colab_type": "code",
        "outputId": "4af65a5c-8408-47c4-c268-02c5f2d8e89a",
        "colab": {}
      },
      "source": [
        "type(s1[1])"
      ],
      "execution_count": 0,
      "outputs": [
        {
          "output_type": "execute_result",
          "data": {
            "text/plain": [
              "pandas._libs.tslibs.timestamps.Timestamp"
            ]
          },
          "metadata": {
            "tags": []
          },
          "execution_count": 91
        }
      ]
    },
    {
      "cell_type": "code",
      "metadata": {
        "id": "7OyKubDqKUpp",
        "colab_type": "code",
        "outputId": "77458657-e6e1-44f6-c01f-d1e50ad52429",
        "colab": {}
      },
      "source": [
        "s1[1].day_name()"
      ],
      "execution_count": 0,
      "outputs": [
        {
          "output_type": "execute_result",
          "data": {
            "text/plain": [
              "'Friday'"
            ]
          },
          "metadata": {
            "tags": []
          },
          "execution_count": 92
        }
      ]
    },
    {
      "cell_type": "code",
      "metadata": {
        "id": "8SjKQQu6KUpu",
        "colab_type": "code",
        "outputId": "61f7b734-740c-4ca6-ef30-97063cb2ac0f",
        "colab": {}
      },
      "source": [
        "s1.min()"
      ],
      "execution_count": 0,
      "outputs": [
        {
          "output_type": "execute_result",
          "data": {
            "text/plain": [
              "Timestamp('1900-08-19 00:00:00')"
            ]
          },
          "metadata": {
            "tags": []
          },
          "execution_count": 93
        }
      ]
    },
    {
      "cell_type": "code",
      "metadata": {
        "id": "WspZ91MYKUpy",
        "colab_type": "code",
        "outputId": "615cd8f2-a900-49b7-b2de-ccb206dc2a9b",
        "colab": {}
      },
      "source": [
        "s1.max()"
      ],
      "execution_count": 0,
      "outputs": [
        {
          "output_type": "execute_result",
          "data": {
            "text/plain": [
              "Timestamp('1949-03-21 00:00:00')"
            ]
          },
          "metadata": {
            "tags": []
          },
          "execution_count": 94
        }
      ]
    },
    {
      "cell_type": "code",
      "metadata": {
        "id": "SYG0UsaVKUp2",
        "colab_type": "code",
        "outputId": "89215f21-59b6-46ef-95f9-d4d10ce7d51d",
        "colab": {}
      },
      "source": [
        "s1.mean()"
      ],
      "execution_count": 0,
      "outputs": [
        {
          "output_type": "error",
          "ename": "TypeError",
          "evalue": "DatetimeIndex cannot perform the operation mean",
          "traceback": [
            "\u001b[0;31m---------------------------------------------------------------------------\u001b[0m",
            "\u001b[0;31mTypeError\u001b[0m                                 Traceback (most recent call last)",
            "\u001b[0;32m<ipython-input-95-becdd0bface4>\u001b[0m in \u001b[0;36m<module>\u001b[0;34m\u001b[0m\n\u001b[0;32m----> 1\u001b[0;31m \u001b[0ms1\u001b[0m\u001b[0;34m.\u001b[0m\u001b[0mmean\u001b[0m\u001b[0;34m(\u001b[0m\u001b[0;34m)\u001b[0m\u001b[0;34m\u001b[0m\u001b[0;34m\u001b[0m\u001b[0m\n\u001b[0m",
            "\u001b[0;32m~/.pyenv/versions/3.6.8/envs/ada-dhoxss/lib/python3.6/site-packages/pandas/core/generic.py\u001b[0m in \u001b[0;36mstat_func\u001b[0;34m(self, axis, skipna, level, numeric_only, **kwargs)\u001b[0m\n\u001b[1;32m  10954\u001b[0m                                       skipna=skipna)\n\u001b[1;32m  10955\u001b[0m         return self._reduce(f, name, axis=axis, skipna=skipna,\n\u001b[0;32m> 10956\u001b[0;31m                             numeric_only=numeric_only)\n\u001b[0m\u001b[1;32m  10957\u001b[0m \u001b[0;34m\u001b[0m\u001b[0m\n\u001b[1;32m  10958\u001b[0m     \u001b[0;32mreturn\u001b[0m \u001b[0mset_function_name\u001b[0m\u001b[0;34m(\u001b[0m\u001b[0mstat_func\u001b[0m\u001b[0;34m,\u001b[0m \u001b[0mname\u001b[0m\u001b[0;34m,\u001b[0m \u001b[0mcls\u001b[0m\u001b[0;34m)\u001b[0m\u001b[0;34m\u001b[0m\u001b[0;34m\u001b[0m\u001b[0m\n",
            "\u001b[0;32m~/.pyenv/versions/3.6.8/envs/ada-dhoxss/lib/python3.6/site-packages/pandas/core/series.py\u001b[0m in \u001b[0;36m_reduce\u001b[0;34m(self, op, name, axis, skipna, numeric_only, filter_type, **kwds)\u001b[0m\n\u001b[1;32m   3635\u001b[0m         return delegate._reduce(op=op, name=name, axis=axis, skipna=skipna,\n\u001b[1;32m   3636\u001b[0m                                 \u001b[0mnumeric_only\u001b[0m\u001b[0;34m=\u001b[0m\u001b[0mnumeric_only\u001b[0m\u001b[0;34m,\u001b[0m\u001b[0;34m\u001b[0m\u001b[0;34m\u001b[0m\u001b[0m\n\u001b[0;32m-> 3637\u001b[0;31m                                 filter_type=filter_type, **kwds)\n\u001b[0m\u001b[1;32m   3638\u001b[0m \u001b[0;34m\u001b[0m\u001b[0m\n\u001b[1;32m   3639\u001b[0m     \u001b[0;32mdef\u001b[0m \u001b[0m_reindex_indexer\u001b[0m\u001b[0;34m(\u001b[0m\u001b[0mself\u001b[0m\u001b[0;34m,\u001b[0m \u001b[0mnew_index\u001b[0m\u001b[0;34m,\u001b[0m \u001b[0mindexer\u001b[0m\u001b[0;34m,\u001b[0m \u001b[0mcopy\u001b[0m\u001b[0;34m)\u001b[0m\u001b[0;34m:\u001b[0m\u001b[0;34m\u001b[0m\u001b[0;34m\u001b[0m\u001b[0m\n",
            "\u001b[0;32m~/.pyenv/versions/3.6.8/envs/ada-dhoxss/lib/python3.6/site-packages/pandas/core/base.py\u001b[0m in \u001b[0;36m_reduce\u001b[0;34m(self, op, name, axis, skipna, numeric_only, filter_type, **kwds)\u001b[0m\n\u001b[1;32m   1144\u001b[0m         \u001b[0;32mif\u001b[0m \u001b[0mfunc\u001b[0m \u001b[0;32mis\u001b[0m \u001b[0;32mNone\u001b[0m\u001b[0;34m:\u001b[0m\u001b[0;34m\u001b[0m\u001b[0;34m\u001b[0m\u001b[0m\n\u001b[1;32m   1145\u001b[0m             raise TypeError(\"{klass} cannot perform the operation {op}\".format(\n\u001b[0;32m-> 1146\u001b[0;31m                             klass=self.__class__.__name__, op=name))\n\u001b[0m\u001b[1;32m   1147\u001b[0m         \u001b[0;32mreturn\u001b[0m \u001b[0mfunc\u001b[0m\u001b[0;34m(\u001b[0m\u001b[0mskipna\u001b[0m\u001b[0;34m=\u001b[0m\u001b[0mskipna\u001b[0m\u001b[0;34m,\u001b[0m \u001b[0;34m**\u001b[0m\u001b[0mkwds\u001b[0m\u001b[0;34m)\u001b[0m\u001b[0;34m\u001b[0m\u001b[0;34m\u001b[0m\u001b[0m\n\u001b[1;32m   1148\u001b[0m \u001b[0;34m\u001b[0m\u001b[0m\n",
            "\u001b[0;31mTypeError\u001b[0m: DatetimeIndex cannot perform the operation mean"
          ]
        }
      ]
    },
    {
      "cell_type": "markdown",
      "metadata": {
        "id": "TotogdtXKUp4",
        "colab_type": "text"
      },
      "source": [
        "### `DataFrame`\n",
        "\n",
        "\n",
        "What is a `pandas.DataFrame`? Think of it as an in-memory spreadsheet that you can analyse and manipulate programmatically.\n",
        "\n",
        "A `DataFrame` is a collection of `Series` having the same length and whose indexes are in sync. A *collection* means that each column of a dataframe is a series"
      ]
    },
    {
      "cell_type": "markdown",
      "metadata": {
        "id": "tU6otLTNKUp5",
        "colab_type": "text"
      },
      "source": [
        "Let's create a toy `DataFrame` by hand. "
      ]
    },
    {
      "cell_type": "code",
      "metadata": {
        "id": "alfELPIeKUp5",
        "colab_type": "code",
        "colab": {}
      },
      "source": [
        "dates = [\n",
        "    date(\n",
        "        year,\n",
        "        randint(1, 12),\n",
        "        randint(1, 28) # try replacing with 31 and see what happens\n",
        "    )\n",
        "    for year in range(1980,1990)\n",
        "]"
      ],
      "execution_count": 0,
      "outputs": []
    },
    {
      "cell_type": "code",
      "metadata": {
        "id": "kncSPBrdKUp7",
        "colab_type": "code",
        "colab": {}
      },
      "source": [
        "counts = [\n",
        "    randint(0, 10000)\n",
        "    for i in range(0, 10)\n",
        "]"
      ],
      "execution_count": 0,
      "outputs": []
    },
    {
      "cell_type": "code",
      "metadata": {
        "id": "nOMkIIJMKUp-",
        "colab_type": "code",
        "colab": {}
      },
      "source": [
        "event_types = [\"fire\", \"flood\", \"car_crash\", \"plane_crash\"]\n",
        "events = [\n",
        "    np.random.choice(event_types)\n",
        "    for i in range(0, 10)\n",
        "]"
      ],
      "execution_count": 0,
      "outputs": []
    },
    {
      "cell_type": "code",
      "metadata": {
        "id": "m8ZoxAksKUqB",
        "colab_type": "code",
        "colab": {}
      },
      "source": [
        "assert len(events) == len(counts) == len(dates)"
      ],
      "execution_count": 0,
      "outputs": []
    },
    {
      "cell_type": "code",
      "metadata": {
        "id": "yxO84KjjKUqE",
        "colab_type": "code",
        "colab": {}
      },
      "source": [
        "toy_df = pd.DataFrame({\n",
        "    \"date\": dates,\n",
        "    \"count\": counts,\n",
        "    \"event\": events\n",
        "})"
      ],
      "execution_count": 0,
      "outputs": []
    },
    {
      "cell_type": "code",
      "metadata": {
        "id": "intUlBRXKUqI",
        "colab_type": "code",
        "outputId": "70fd64c7-b9a3-49fe-8f9b-b1a9c408ea9e",
        "colab": {}
      },
      "source": [
        "toy_df"
      ],
      "execution_count": 0,
      "outputs": [
        {
          "output_type": "execute_result",
          "data": {
            "text/html": [
              "<div>\n",
              "<style scoped>\n",
              "    .dataframe tbody tr th:only-of-type {\n",
              "        vertical-align: middle;\n",
              "    }\n",
              "\n",
              "    .dataframe tbody tr th {\n",
              "        vertical-align: top;\n",
              "    }\n",
              "\n",
              "    .dataframe thead th {\n",
              "        text-align: right;\n",
              "    }\n",
              "</style>\n",
              "<table border=\"1\" class=\"dataframe\">\n",
              "  <thead>\n",
              "    <tr style=\"text-align: right;\">\n",
              "      <th></th>\n",
              "      <th>date</th>\n",
              "      <th>count</th>\n",
              "      <th>event</th>\n",
              "    </tr>\n",
              "  </thead>\n",
              "  <tbody>\n",
              "    <tr>\n",
              "      <th>0</th>\n",
              "      <td>1980-03-15</td>\n",
              "      <td>928</td>\n",
              "      <td>plane_crash</td>\n",
              "    </tr>\n",
              "    <tr>\n",
              "      <th>1</th>\n",
              "      <td>1981-11-23</td>\n",
              "      <td>8796</td>\n",
              "      <td>flood</td>\n",
              "    </tr>\n",
              "    <tr>\n",
              "      <th>2</th>\n",
              "      <td>1982-10-15</td>\n",
              "      <td>2449</td>\n",
              "      <td>fire</td>\n",
              "    </tr>\n",
              "    <tr>\n",
              "      <th>3</th>\n",
              "      <td>1983-06-03</td>\n",
              "      <td>7231</td>\n",
              "      <td>fire</td>\n",
              "    </tr>\n",
              "    <tr>\n",
              "      <th>4</th>\n",
              "      <td>1984-07-01</td>\n",
              "      <td>2715</td>\n",
              "      <td>car_crash</td>\n",
              "    </tr>\n",
              "    <tr>\n",
              "      <th>5</th>\n",
              "      <td>1985-07-15</td>\n",
              "      <td>7630</td>\n",
              "      <td>fire</td>\n",
              "    </tr>\n",
              "    <tr>\n",
              "      <th>6</th>\n",
              "      <td>1986-01-05</td>\n",
              "      <td>6321</td>\n",
              "      <td>car_crash</td>\n",
              "    </tr>\n",
              "    <tr>\n",
              "      <th>7</th>\n",
              "      <td>1987-11-25</td>\n",
              "      <td>6578</td>\n",
              "      <td>flood</td>\n",
              "    </tr>\n",
              "    <tr>\n",
              "      <th>8</th>\n",
              "      <td>1988-12-25</td>\n",
              "      <td>1925</td>\n",
              "      <td>flood</td>\n",
              "    </tr>\n",
              "    <tr>\n",
              "      <th>9</th>\n",
              "      <td>1989-09-16</td>\n",
              "      <td>5691</td>\n",
              "      <td>plane_crash</td>\n",
              "    </tr>\n",
              "  </tbody>\n",
              "</table>\n",
              "</div>"
            ],
            "text/plain": [
              "         date  count        event\n",
              "0  1980-03-15    928  plane_crash\n",
              "1  1981-11-23   8796        flood\n",
              "2  1982-10-15   2449         fire\n",
              "3  1983-06-03   7231         fire\n",
              "4  1984-07-01   2715    car_crash\n",
              "5  1985-07-15   7630         fire\n",
              "6  1986-01-05   6321    car_crash\n",
              "7  1987-11-25   6578        flood\n",
              "8  1988-12-25   1925        flood\n",
              "9  1989-09-16   5691  plane_crash"
            ]
          },
          "metadata": {
            "tags": []
          },
          "execution_count": 164
        }
      ]
    },
    {
      "cell_type": "markdown",
      "metadata": {
        "id": "i4DV5X_bKUqK",
        "colab_type": "text"
      },
      "source": [
        "**Try out**: what happens if you change the length of either of the two lists? Try e.g. passing 20 dates instead of 10."
      ]
    },
    {
      "cell_type": "code",
      "metadata": {
        "id": "zWnDAuT-KUqL",
        "colab_type": "code",
        "colab": {}
      },
      "source": [
        "# instead of a dictionary of lists, you can pass\n",
        "# directly a dictionary of `pandas.Series`. The result is the same.\n",
        "\n",
        "toy_df = pd.DataFrame(\n",
        "    {\n",
        "        \"date\": pd.to_datetime(date_series),\n",
        "        \"count\": count_series,\n",
        "        \"event\": Series(events)\n",
        "    }\n",
        ")"
      ],
      "execution_count": 0,
      "outputs": []
    },
    {
      "cell_type": "code",
      "metadata": {
        "id": "J1ANf5TaKUqN",
        "colab_type": "code",
        "colab": {}
      },
      "source": [
        "toy_df"
      ],
      "execution_count": 0,
      "outputs": []
    },
    {
      "cell_type": "code",
      "metadata": {
        "id": "1U3WSfbRKUqU",
        "colab_type": "code",
        "colab": {}
      },
      "source": [
        "# a df is a collection of series\n",
        "# each column is a series\n",
        "\n",
        "type(toy_df.date)"
      ],
      "execution_count": 0,
      "outputs": []
    },
    {
      "cell_type": "code",
      "metadata": {
        "id": "-bMIOXYmKUqZ",
        "colab_type": "code",
        "colab": {}
      },
      "source": [
        "toy_df.info()"
      ],
      "execution_count": 0,
      "outputs": []
    },
    {
      "cell_type": "markdown",
      "metadata": {
        "id": "QEBbeGR-KUqb",
        "colab_type": "text"
      },
      "source": [
        "## Data manipulation in `pandas`"
      ]
    },
    {
      "cell_type": "markdown",
      "metadata": {
        "id": "DGXmB0yjKUqi",
        "colab_type": "text"
      },
      "source": [
        "### Data types\n",
        "\n",
        "String, datetimes (see above), categorical data.\n",
        "\n",
        "In `pandas`, categories behave very much like string, yet they lead to better performances (faster operations, optimized storage)."
      ]
    },
    {
      "cell_type": "markdown",
      "metadata": {
        "id": "eLAYEMRAKUqi",
        "colab_type": "text"
      },
      "source": [
        "Bottom-up approach:"
      ]
    },
    {
      "cell_type": "code",
      "metadata": {
        "id": "QHnMH3m3KUqk",
        "colab_type": "code",
        "outputId": "67551d1d-249b-4046-d935-7de7af09f8b8",
        "colab": {}
      },
      "source": [
        "# transforms a Series with strings into categories\n",
        "\n",
        "toy_df.event.astype('category')"
      ],
      "execution_count": 0,
      "outputs": [
        {
          "output_type": "execute_result",
          "data": {
            "text/plain": [
              "0    plane_crash\n",
              "1          flood\n",
              "2           fire\n",
              "3           fire\n",
              "4      car_crash\n",
              "5           fire\n",
              "6      car_crash\n",
              "7          flood\n",
              "8          flood\n",
              "9    plane_crash\n",
              "Name: event, dtype: category\n",
              "Categories (4, object): [car_crash, fire, flood, plane_crash]"
            ]
          },
          "metadata": {
            "tags": []
          },
          "execution_count": 165
        }
      ]
    },
    {
      "cell_type": "markdown",
      "metadata": {
        "id": "bB8X4A_ZKUqo",
        "colab_type": "text"
      },
      "source": [
        "Top-down approach:"
      ]
    },
    {
      "cell_type": "code",
      "metadata": {
        "id": "UNKnmj3XKUqp",
        "colab_type": "code",
        "colab": {}
      },
      "source": [
        "# here the list of categories is defined beforehand\n",
        "\n",
        "from pandas.api.types import CategoricalDtype\n",
        "\n",
        "cat_type = CategoricalDtype(\n",
        "    categories=[\"flood\", \"fire\", \"car_crash\", \"earth_quake\", \"plane_crash\"],\n",
        "    ordered=True\n",
        ")\n",
        "\n",
        "toy_df.event = toy_df.event.astype(cat_type)"
      ],
      "execution_count": 0,
      "outputs": []
    },
    {
      "cell_type": "code",
      "metadata": {
        "id": "qyaRPyDlKUqs",
        "colab_type": "code",
        "outputId": "2491068a-9da0-4c58-a221-18dbf3b82e21",
        "colab": {}
      },
      "source": [
        "toy_df.head(3)"
      ],
      "execution_count": 0,
      "outputs": [
        {
          "output_type": "execute_result",
          "data": {
            "text/html": [
              "<div>\n",
              "<style scoped>\n",
              "    .dataframe tbody tr th:only-of-type {\n",
              "        vertical-align: middle;\n",
              "    }\n",
              "\n",
              "    .dataframe tbody tr th {\n",
              "        vertical-align: top;\n",
              "    }\n",
              "\n",
              "    .dataframe thead th {\n",
              "        text-align: right;\n",
              "    }\n",
              "</style>\n",
              "<table border=\"1\" class=\"dataframe\">\n",
              "  <thead>\n",
              "    <tr style=\"text-align: right;\">\n",
              "      <th></th>\n",
              "      <th>date</th>\n",
              "      <th>count</th>\n",
              "      <th>event</th>\n",
              "    </tr>\n",
              "  </thead>\n",
              "  <tbody>\n",
              "    <tr>\n",
              "      <th>0</th>\n",
              "      <td>1980-03-15</td>\n",
              "      <td>928</td>\n",
              "      <td>plane_crash</td>\n",
              "    </tr>\n",
              "    <tr>\n",
              "      <th>1</th>\n",
              "      <td>1981-11-23</td>\n",
              "      <td>8796</td>\n",
              "      <td>flood</td>\n",
              "    </tr>\n",
              "    <tr>\n",
              "      <th>2</th>\n",
              "      <td>1982-10-15</td>\n",
              "      <td>2449</td>\n",
              "      <td>fire</td>\n",
              "    </tr>\n",
              "  </tbody>\n",
              "</table>\n",
              "</div>"
            ],
            "text/plain": [
              "         date  count        event\n",
              "0  1980-03-15    928  plane_crash\n",
              "1  1981-11-23   8796        flood\n",
              "2  1982-10-15   2449         fire"
            ]
          },
          "metadata": {
            "tags": []
          },
          "execution_count": 167
        }
      ]
    },
    {
      "cell_type": "markdown",
      "metadata": {
        "id": "jasFYK8gKUqx",
        "colab_type": "text"
      },
      "source": [
        "**Question**: what happens if you remove e.g. \"plane_crash\" from the list `categories`? Can you explain why?"
      ]
    },
    {
      "cell_type": "markdown",
      "metadata": {
        "id": "b-iY9jSAKUqz",
        "colab_type": "text"
      },
      "source": [
        "##### How are categories represented?"
      ]
    },
    {
      "cell_type": "code",
      "metadata": {
        "id": "Kne2xUUFKUq0",
        "colab_type": "code",
        "outputId": "fa085031-24e7-4b83-fdc1-bd09e3aaddb1",
        "colab": {}
      },
      "source": [
        "toy_df.event.cat.codes"
      ],
      "execution_count": 0,
      "outputs": [
        {
          "output_type": "execute_result",
          "data": {
            "text/plain": [
              "0    4\n",
              "1    0\n",
              "2    1\n",
              "3    1\n",
              "4    2\n",
              "5    1\n",
              "6    2\n",
              "7    0\n",
              "8    0\n",
              "9    4\n",
              "dtype: int8"
            ]
          },
          "metadata": {
            "tags": []
          },
          "execution_count": 168
        }
      ]
    },
    {
      "cell_type": "code",
      "metadata": {
        "id": "l7erPGqTKUq2",
        "colab_type": "code",
        "outputId": "17429ac2-2f26-4c74-8b74-a60404dea5c8",
        "colab": {}
      },
      "source": [
        "toy_df.event.cat.categories"
      ],
      "execution_count": 0,
      "outputs": [
        {
          "output_type": "execute_result",
          "data": {
            "text/plain": [
              "Index(['flood', 'fire', 'car_crash', 'earth_quake', 'plane_crash'], dtype='object')"
            ]
          },
          "metadata": {
            "tags": []
          },
          "execution_count": 169
        }
      ]
    },
    {
      "cell_type": "code",
      "metadata": {
        "id": "6LX-_adQKUq5",
        "colab_type": "code",
        "colab": {}
      },
      "source": [
        "toy_df.event.cat.rename_categories({\"plane_crash\": \"airplane_crash\"}, inplace=True)"
      ],
      "execution_count": 0,
      "outputs": []
    },
    {
      "cell_type": "code",
      "metadata": {
        "id": "4ZcaDvQmKUq8",
        "colab_type": "code",
        "outputId": "4111a4f2-3d6c-4475-ab80-0cabb44787b5",
        "colab": {}
      },
      "source": [
        "toy_df.head()"
      ],
      "execution_count": 0,
      "outputs": [
        {
          "output_type": "execute_result",
          "data": {
            "text/html": [
              "<div>\n",
              "<style scoped>\n",
              "    .dataframe tbody tr th:only-of-type {\n",
              "        vertical-align: middle;\n",
              "    }\n",
              "\n",
              "    .dataframe tbody tr th {\n",
              "        vertical-align: top;\n",
              "    }\n",
              "\n",
              "    .dataframe thead th {\n",
              "        text-align: right;\n",
              "    }\n",
              "</style>\n",
              "<table border=\"1\" class=\"dataframe\">\n",
              "  <thead>\n",
              "    <tr style=\"text-align: right;\">\n",
              "      <th></th>\n",
              "      <th>date</th>\n",
              "      <th>count</th>\n",
              "      <th>event</th>\n",
              "    </tr>\n",
              "  </thead>\n",
              "  <tbody>\n",
              "    <tr>\n",
              "      <th>0</th>\n",
              "      <td>1980-03-15</td>\n",
              "      <td>928</td>\n",
              "      <td>airplane_crash</td>\n",
              "    </tr>\n",
              "    <tr>\n",
              "      <th>1</th>\n",
              "      <td>1981-11-23</td>\n",
              "      <td>8796</td>\n",
              "      <td>flood</td>\n",
              "    </tr>\n",
              "    <tr>\n",
              "      <th>2</th>\n",
              "      <td>1982-10-15</td>\n",
              "      <td>2449</td>\n",
              "      <td>fire</td>\n",
              "    </tr>\n",
              "    <tr>\n",
              "      <th>3</th>\n",
              "      <td>1983-06-03</td>\n",
              "      <td>7231</td>\n",
              "      <td>fire</td>\n",
              "    </tr>\n",
              "    <tr>\n",
              "      <th>4</th>\n",
              "      <td>1984-07-01</td>\n",
              "      <td>2715</td>\n",
              "      <td>car_crash</td>\n",
              "    </tr>\n",
              "  </tbody>\n",
              "</table>\n",
              "</div>"
            ],
            "text/plain": [
              "         date  count           event\n",
              "0  1980-03-15    928  airplane_crash\n",
              "1  1981-11-23   8796           flood\n",
              "2  1982-10-15   2449            fire\n",
              "3  1983-06-03   7231            fire\n",
              "4  1984-07-01   2715       car_crash"
            ]
          },
          "metadata": {
            "tags": []
          },
          "execution_count": 171
        }
      ]
    },
    {
      "cell_type": "code",
      "metadata": {
        "id": "raYgCMhXKUq-",
        "colab_type": "code",
        "colab": {}
      },
      "source": [
        "toy_df.event.cat.rename_categories({\"plane_crash\": \"plane_crash\"}, inplace=True)"
      ],
      "execution_count": 0,
      "outputs": []
    },
    {
      "cell_type": "code",
      "metadata": {
        "id": "n0Y2izF1KUrA",
        "colab_type": "code",
        "outputId": "c748e653-7fb0-49d2-bb5c-162868d30435",
        "colab": {}
      },
      "source": [
        "toy_df.head()"
      ],
      "execution_count": 0,
      "outputs": [
        {
          "output_type": "execute_result",
          "data": {
            "text/html": [
              "<div>\n",
              "<style scoped>\n",
              "    .dataframe tbody tr th:only-of-type {\n",
              "        vertical-align: middle;\n",
              "    }\n",
              "\n",
              "    .dataframe tbody tr th {\n",
              "        vertical-align: top;\n",
              "    }\n",
              "\n",
              "    .dataframe thead th {\n",
              "        text-align: right;\n",
              "    }\n",
              "</style>\n",
              "<table border=\"1\" class=\"dataframe\">\n",
              "  <thead>\n",
              "    <tr style=\"text-align: right;\">\n",
              "      <th></th>\n",
              "      <th>date</th>\n",
              "      <th>count</th>\n",
              "      <th>event</th>\n",
              "    </tr>\n",
              "  </thead>\n",
              "  <tbody>\n",
              "    <tr>\n",
              "      <th>0</th>\n",
              "      <td>1980-03-15</td>\n",
              "      <td>928</td>\n",
              "      <td>airplane_crash</td>\n",
              "    </tr>\n",
              "    <tr>\n",
              "      <th>1</th>\n",
              "      <td>1981-11-23</td>\n",
              "      <td>8796</td>\n",
              "      <td>flood</td>\n",
              "    </tr>\n",
              "    <tr>\n",
              "      <th>2</th>\n",
              "      <td>1982-10-15</td>\n",
              "      <td>2449</td>\n",
              "      <td>fire</td>\n",
              "    </tr>\n",
              "    <tr>\n",
              "      <th>3</th>\n",
              "      <td>1983-06-03</td>\n",
              "      <td>7231</td>\n",
              "      <td>fire</td>\n",
              "    </tr>\n",
              "    <tr>\n",
              "      <th>4</th>\n",
              "      <td>1984-07-01</td>\n",
              "      <td>2715</td>\n",
              "      <td>car_crash</td>\n",
              "    </tr>\n",
              "  </tbody>\n",
              "</table>\n",
              "</div>"
            ],
            "text/plain": [
              "         date  count           event\n",
              "0  1980-03-15    928  airplane_crash\n",
              "1  1981-11-23   8796           flood\n",
              "2  1982-10-15   2449            fire\n",
              "3  1983-06-03   7231            fire\n",
              "4  1984-07-01   2715       car_crash"
            ]
          },
          "metadata": {
            "tags": []
          },
          "execution_count": 173
        }
      ]
    },
    {
      "cell_type": "code",
      "metadata": {
        "id": "EBZtieSMKUrC",
        "colab_type": "code",
        "outputId": "f9bc35e8-6da7-457c-ffe3-250d16619d63",
        "colab": {}
      },
      "source": [
        "# back to the original type\n",
        "\n",
        "toy_df.event.astype(str)"
      ],
      "execution_count": 0,
      "outputs": [
        {
          "output_type": "execute_result",
          "data": {
            "text/plain": [
              "0    airplane_crash\n",
              "1             flood\n",
              "2              fire\n",
              "3              fire\n",
              "4         car_crash\n",
              "5              fire\n",
              "6         car_crash\n",
              "7             flood\n",
              "8             flood\n",
              "9    airplane_crash\n",
              "Name: event, dtype: object"
            ]
          },
          "metadata": {
            "tags": []
          },
          "execution_count": 174
        }
      ]
    },
    {
      "cell_type": "markdown",
      "metadata": {
        "id": "znySndGwKUrD",
        "colab_type": "text"
      },
      "source": [
        "### Accessor properties\n",
        "\n",
        "For certain data types (string, datetime), `pandas` provides a number of common methods that can be called on any series containing values of that type. These methods become available as methods of the series itself within a property — called *accessor* — named after the data type:\n",
        "\n",
        "- the `.dt.*` accessor contains methods to operate on `datetime` series\n",
        "- the `str.` accessor contains methods to operate on `str` (string) series.\n",
        "\n",
        "As you will see in a moment, these methods are very convenient when filtering rows of a dataset based on the value of a certain column."
      ]
    },
    {
      "cell_type": "markdown",
      "metadata": {
        "id": "NP02_xERKUrE",
        "colab_type": "text"
      },
      "source": [
        "#### `datetime` accessor"
      ]
    },
    {
      "cell_type": "markdown",
      "metadata": {
        "id": "hvkKZxeuKUrF",
        "colab_type": "text"
      },
      "source": [
        "To work with datetime series `pandas` provide a bunch of useful methods to operate on a series: they can be called from the `.dt` property of a datetime series.\n",
        "\n",
        "They can be used to:\n",
        "- convert from one timezone to another\n",
        "- get the day/day name/month/year information from each date\n",
        "- and much more (see the [documentation]())"
      ]
    },
    {
      "cell_type": "code",
      "metadata": {
        "id": "FhrhxCk7KUrK",
        "colab_type": "code",
        "outputId": "4b78a789-7e2a-4833-ee06-c7cb6186fcbd",
        "colab": {}
      },
      "source": [
        "s1.head()"
      ],
      "execution_count": 0,
      "outputs": [
        {
          "output_type": "execute_result",
          "data": {
            "text/plain": [
              "0   1900-08-19\n",
              "1   1901-07-12\n",
              "2   1902-03-02\n",
              "3   1903-12-24\n",
              "4   1904-11-14\n",
              "dtype: datetime64[ns]"
            ]
          },
          "metadata": {
            "tags": []
          },
          "execution_count": 175
        }
      ]
    },
    {
      "cell_type": "code",
      "metadata": {
        "id": "NGtZZ8ARKUrN",
        "colab_type": "code",
        "outputId": "feb309ea-1da8-4b3d-880c-cc9633078fe0",
        "colab": {}
      },
      "source": [
        "s1.dt.weekday_name.head()"
      ],
      "execution_count": 0,
      "outputs": [
        {
          "output_type": "execute_result",
          "data": {
            "text/plain": [
              "0      Sunday\n",
              "1      Friday\n",
              "2      Sunday\n",
              "3    Thursday\n",
              "4      Monday\n",
              "dtype: object"
            ]
          },
          "metadata": {
            "tags": []
          },
          "execution_count": 176
        }
      ]
    },
    {
      "cell_type": "markdown",
      "metadata": {
        "id": "7diDmhcpKUrT",
        "colab_type": "text"
      },
      "source": [
        "#### `str` accessor"
      ]
    },
    {
      "cell_type": "code",
      "metadata": {
        "id": "tjcLp3UzKUrU",
        "colab_type": "code",
        "colab": {}
      },
      "source": [
        "s = Series([\"uno\", \"due\", \"tre\"])"
      ],
      "execution_count": 0,
      "outputs": []
    },
    {
      "cell_type": "code",
      "metadata": {
        "id": "aq1Lg0EDKUra",
        "colab_type": "code",
        "outputId": "22506cfe-f247-4062-94df-5c455b3dced0",
        "colab": {}
      },
      "source": [
        "s.str.contains('o')"
      ],
      "execution_count": 0,
      "outputs": [
        {
          "output_type": "execute_result",
          "data": {
            "text/plain": [
              "0     True\n",
              "1    False\n",
              "2    False\n",
              "dtype: bool"
            ]
          },
          "metadata": {
            "tags": []
          },
          "execution_count": 178
        }
      ]
    },
    {
      "cell_type": "markdown",
      "metadata": {
        "id": "rimIqcr4KUrd",
        "colab_type": "text"
      },
      "source": [
        "### Exploring a dataframe\n",
        "\n",
        "Exploring a dataframe: df.head(), df.tail(), df.info()."
      ]
    },
    {
      "cell_type": "markdown",
      "metadata": {
        "id": "Zjk6ctWEKUrf",
        "colab_type": "text"
      },
      "source": [
        "The method `info()` gives you information about a dataframe:\n",
        "- how much space does it take in memory?\n",
        "- what is the datatype of each column?\n",
        "- how many records are there?\n",
        "- how many `null` values does each column contain (!)?"
      ]
    },
    {
      "cell_type": "code",
      "metadata": {
        "id": "Dz5xpO-AKUrg",
        "colab_type": "code",
        "outputId": "34256f9d-8159-42c2-fd06-13b1cda542ea",
        "colab": {}
      },
      "source": [
        "toy_df.info()"
      ],
      "execution_count": 0,
      "outputs": [
        {
          "output_type": "stream",
          "text": [
            "<class 'pandas.core.frame.DataFrame'>\n",
            "RangeIndex: 10 entries, 0 to 9\n",
            "Data columns (total 3 columns):\n",
            "date     10 non-null object\n",
            "count    10 non-null int64\n",
            "event    10 non-null category\n",
            "dtypes: category(1), int64(1), object(1)\n",
            "memory usage: 450.0+ bytes\n"
          ],
          "name": "stdout"
        }
      ]
    },
    {
      "cell_type": "markdown",
      "metadata": {
        "id": "q0KqbKC2KUri",
        "colab_type": "text"
      },
      "source": [
        "Alternatively, if you need to know only the number of columns and rows you can use the `.shape` property.\n",
        "\n",
        "It returns a tuple with 1) number of rows, 2) number of columns."
      ]
    },
    {
      "cell_type": "code",
      "metadata": {
        "id": "3nLbJr7OKUrj",
        "colab_type": "code",
        "outputId": "f30b9a70-5779-4462-bcc9-51ffaadff46d",
        "colab": {}
      },
      "source": [
        "toy_df.shape"
      ],
      "execution_count": 0,
      "outputs": [
        {
          "output_type": "execute_result",
          "data": {
            "text/plain": [
              "(10, 3)"
            ]
          },
          "metadata": {
            "tags": []
          },
          "execution_count": 180
        }
      ]
    },
    {
      "cell_type": "markdown",
      "metadata": {
        "id": "Rx6MENN5KUrn",
        "colab_type": "text"
      },
      "source": [
        "`head()` prints by first five rows of a dataframe:"
      ]
    },
    {
      "cell_type": "code",
      "metadata": {
        "id": "dkcJhsWCKUro",
        "colab_type": "code",
        "outputId": "516bfe38-b876-41ab-f3cb-3a2caef7a6dc",
        "colab": {}
      },
      "source": [
        "toy_df.head()"
      ],
      "execution_count": 0,
      "outputs": [
        {
          "output_type": "execute_result",
          "data": {
            "text/html": [
              "<div>\n",
              "<style scoped>\n",
              "    .dataframe tbody tr th:only-of-type {\n",
              "        vertical-align: middle;\n",
              "    }\n",
              "\n",
              "    .dataframe tbody tr th {\n",
              "        vertical-align: top;\n",
              "    }\n",
              "\n",
              "    .dataframe thead th {\n",
              "        text-align: right;\n",
              "    }\n",
              "</style>\n",
              "<table border=\"1\" class=\"dataframe\">\n",
              "  <thead>\n",
              "    <tr style=\"text-align: right;\">\n",
              "      <th></th>\n",
              "      <th>date</th>\n",
              "      <th>count</th>\n",
              "      <th>event</th>\n",
              "    </tr>\n",
              "  </thead>\n",
              "  <tbody>\n",
              "    <tr>\n",
              "      <th>0</th>\n",
              "      <td>1980-03-15</td>\n",
              "      <td>928</td>\n",
              "      <td>airplane_crash</td>\n",
              "    </tr>\n",
              "    <tr>\n",
              "      <th>1</th>\n",
              "      <td>1981-11-23</td>\n",
              "      <td>8796</td>\n",
              "      <td>flood</td>\n",
              "    </tr>\n",
              "    <tr>\n",
              "      <th>2</th>\n",
              "      <td>1982-10-15</td>\n",
              "      <td>2449</td>\n",
              "      <td>fire</td>\n",
              "    </tr>\n",
              "    <tr>\n",
              "      <th>3</th>\n",
              "      <td>1983-06-03</td>\n",
              "      <td>7231</td>\n",
              "      <td>fire</td>\n",
              "    </tr>\n",
              "    <tr>\n",
              "      <th>4</th>\n",
              "      <td>1984-07-01</td>\n",
              "      <td>2715</td>\n",
              "      <td>car_crash</td>\n",
              "    </tr>\n",
              "  </tbody>\n",
              "</table>\n",
              "</div>"
            ],
            "text/plain": [
              "         date  count           event\n",
              "0  1980-03-15    928  airplane_crash\n",
              "1  1981-11-23   8796           flood\n",
              "2  1982-10-15   2449            fire\n",
              "3  1983-06-03   7231            fire\n",
              "4  1984-07-01   2715       car_crash"
            ]
          },
          "metadata": {
            "tags": []
          },
          "execution_count": 181
        }
      ]
    },
    {
      "cell_type": "markdown",
      "metadata": {
        "id": "Am_xAvjHKUrw",
        "colab_type": "text"
      },
      "source": [
        "But the number of lines displayed is a parameter that can be changed:"
      ]
    },
    {
      "cell_type": "code",
      "metadata": {
        "id": "dDNtdES7KUrw",
        "colab_type": "code",
        "outputId": "8cf1f961-98ef-4269-f97b-5818fb294414",
        "colab": {}
      },
      "source": [
        "toy_df.head(2)"
      ],
      "execution_count": 0,
      "outputs": [
        {
          "output_type": "execute_result",
          "data": {
            "text/html": [
              "<div>\n",
              "<style scoped>\n",
              "    .dataframe tbody tr th:only-of-type {\n",
              "        vertical-align: middle;\n",
              "    }\n",
              "\n",
              "    .dataframe tbody tr th {\n",
              "        vertical-align: top;\n",
              "    }\n",
              "\n",
              "    .dataframe thead th {\n",
              "        text-align: right;\n",
              "    }\n",
              "</style>\n",
              "<table border=\"1\" class=\"dataframe\">\n",
              "  <thead>\n",
              "    <tr style=\"text-align: right;\">\n",
              "      <th></th>\n",
              "      <th>date</th>\n",
              "      <th>count</th>\n",
              "      <th>event</th>\n",
              "    </tr>\n",
              "  </thead>\n",
              "  <tbody>\n",
              "    <tr>\n",
              "      <th>0</th>\n",
              "      <td>1980-03-15</td>\n",
              "      <td>928</td>\n",
              "      <td>airplane_crash</td>\n",
              "    </tr>\n",
              "    <tr>\n",
              "      <th>1</th>\n",
              "      <td>1981-11-23</td>\n",
              "      <td>8796</td>\n",
              "      <td>flood</td>\n",
              "    </tr>\n",
              "  </tbody>\n",
              "</table>\n",
              "</div>"
            ],
            "text/plain": [
              "         date  count           event\n",
              "0  1980-03-15    928  airplane_crash\n",
              "1  1981-11-23   8796           flood"
            ]
          },
          "metadata": {
            "tags": []
          },
          "execution_count": 182
        }
      ]
    },
    {
      "cell_type": "markdown",
      "metadata": {
        "id": "-0Xed03iKUry",
        "colab_type": "text"
      },
      "source": [
        "`tail()` does the opposite, i.e. prints the last n rows in the dataframe:"
      ]
    },
    {
      "cell_type": "code",
      "metadata": {
        "id": "Via9f9gMKUry",
        "colab_type": "code",
        "outputId": "c487469e-d0b2-4471-960c-a595df80b54a",
        "colab": {}
      },
      "source": [
        "toy_df.tail()"
      ],
      "execution_count": 0,
      "outputs": [
        {
          "output_type": "execute_result",
          "data": {
            "text/html": [
              "<div>\n",
              "<style scoped>\n",
              "    .dataframe tbody tr th:only-of-type {\n",
              "        vertical-align: middle;\n",
              "    }\n",
              "\n",
              "    .dataframe tbody tr th {\n",
              "        vertical-align: top;\n",
              "    }\n",
              "\n",
              "    .dataframe thead th {\n",
              "        text-align: right;\n",
              "    }\n",
              "</style>\n",
              "<table border=\"1\" class=\"dataframe\">\n",
              "  <thead>\n",
              "    <tr style=\"text-align: right;\">\n",
              "      <th></th>\n",
              "      <th>date</th>\n",
              "      <th>count</th>\n",
              "      <th>event</th>\n",
              "    </tr>\n",
              "  </thead>\n",
              "  <tbody>\n",
              "    <tr>\n",
              "      <th>5</th>\n",
              "      <td>1985-07-15</td>\n",
              "      <td>7630</td>\n",
              "      <td>fire</td>\n",
              "    </tr>\n",
              "    <tr>\n",
              "      <th>6</th>\n",
              "      <td>1986-01-05</td>\n",
              "      <td>6321</td>\n",
              "      <td>car_crash</td>\n",
              "    </tr>\n",
              "    <tr>\n",
              "      <th>7</th>\n",
              "      <td>1987-11-25</td>\n",
              "      <td>6578</td>\n",
              "      <td>flood</td>\n",
              "    </tr>\n",
              "    <tr>\n",
              "      <th>8</th>\n",
              "      <td>1988-12-25</td>\n",
              "      <td>1925</td>\n",
              "      <td>flood</td>\n",
              "    </tr>\n",
              "    <tr>\n",
              "      <th>9</th>\n",
              "      <td>1989-09-16</td>\n",
              "      <td>5691</td>\n",
              "      <td>airplane_crash</td>\n",
              "    </tr>\n",
              "  </tbody>\n",
              "</table>\n",
              "</div>"
            ],
            "text/plain": [
              "         date  count           event\n",
              "5  1985-07-15   7630            fire\n",
              "6  1986-01-05   6321       car_crash\n",
              "7  1987-11-25   6578           flood\n",
              "8  1988-12-25   1925           flood\n",
              "9  1989-09-16   5691  airplane_crash"
            ]
          },
          "metadata": {
            "tags": []
          },
          "execution_count": 183
        }
      ]
    },
    {
      "cell_type": "markdown",
      "metadata": {
        "id": "nRb3OST-KUr0",
        "colab_type": "text"
      },
      "source": [
        "### Loading data\n",
        "\n",
        "Dataframe can be created from scratch as we did above, but most often they are created by loading existing data into a dataframe by means of `pandas`' input/oputput methods."
      ]
    },
    {
      "cell_type": "markdown",
      "metadata": {
        "id": "qGopKR9YKUr0",
        "colab_type": "text"
      },
      "source": [
        "#### From JSON\n",
        "\n",
        "Loading data from a JSON file is very similar to creating a `DataFrame` from a `dict`."
      ]
    },
    {
      "cell_type": "markdown",
      "metadata": {
        "id": "Bf3IZtxRKUr1",
        "colab_type": "text"
      },
      "source": [
        "This is how one would do it in pure Python:"
      ]
    },
    {
      "cell_type": "code",
      "metadata": {
        "id": "k_CwL2MmKUr2",
        "colab_type": "code",
        "colab": {}
      },
      "source": [
        "import json\n",
        "json_file_path = '../data/bl_books/sample/book_data_sample.json'\n",
        "\n",
        "# JSON data gets read into a dictionary\n",
        "\n",
        "with open(json_file_path, 'r') as jsonfile:\n",
        "    json_data = json.load(jsonfile)\n",
        "    \n",
        "books_df = pd.DataFrame(json_data)"
      ],
      "execution_count": 0,
      "outputs": []
    },
    {
      "cell_type": "markdown",
      "metadata": {
        "id": "iQJR9OjqKUr7",
        "colab_type": "text"
      },
      "source": [
        "Since reading from files is a very common operation in any data analysis workflow, `pandas` provides methods to read from a variety of formats (JSON, CSV, clipboard, etc.)"
      ]
    },
    {
      "cell_type": "markdown",
      "metadata": {
        "id": "VgLtDqPqKUr9",
        "colab_type": "text"
      },
      "source": [
        "The block of code above can be replaced by the following one-liner:"
      ]
    },
    {
      "cell_type": "code",
      "metadata": {
        "id": "b9zvbEk2KUr-",
        "colab_type": "code",
        "colab": {}
      },
      "source": [
        "books_df = pd.read_json(json_file_path)"
      ],
      "execution_count": 0,
      "outputs": []
    },
    {
      "cell_type": "code",
      "metadata": {
        "id": "t2-bSQdgKUsB",
        "colab_type": "code",
        "colab": {}
      },
      "source": [
        "books_df = pd.DataFrame(json_data)"
      ],
      "execution_count": 0,
      "outputs": []
    },
    {
      "cell_type": "code",
      "metadata": {
        "id": "26AEe8lJKUsE",
        "colab_type": "code",
        "outputId": "39f49852-1b11-4c36-ac76-661833f72fea",
        "colab": {}
      },
      "source": [
        "books_df.head(2)"
      ],
      "execution_count": 0,
      "outputs": [
        {
          "output_type": "execute_result",
          "data": {
            "text/html": [
              "<div>\n",
              "<style scoped>\n",
              "    .dataframe tbody tr th:only-of-type {\n",
              "        vertical-align: middle;\n",
              "    }\n",
              "\n",
              "    .dataframe tbody tr th {\n",
              "        vertical-align: top;\n",
              "    }\n",
              "\n",
              "    .dataframe thead th {\n",
              "        text-align: right;\n",
              "    }\n",
              "</style>\n",
              "<table border=\"1\" class=\"dataframe\">\n",
              "  <thead>\n",
              "    <tr style=\"text-align: right;\">\n",
              "      <th></th>\n",
              "      <th>authors</th>\n",
              "      <th>corporate</th>\n",
              "      <th>date</th>\n",
              "      <th>datefield</th>\n",
              "      <th>edition</th>\n",
              "      <th>flickr_url_to_book_images</th>\n",
              "      <th>fulltext_filename</th>\n",
              "      <th>identifier</th>\n",
              "      <th>imgs</th>\n",
              "      <th>issuance</th>\n",
              "      <th>pdf</th>\n",
              "      <th>place</th>\n",
              "      <th>publisher</th>\n",
              "      <th>shelfmarks</th>\n",
              "      <th>title</th>\n",
              "    </tr>\n",
              "  </thead>\n",
              "  <tbody>\n",
              "    <tr>\n",
              "      <th>0</th>\n",
              "      <td>{'creator': ['A. A.']}</td>\n",
              "      <td>{}</td>\n",
              "      <td>1841</td>\n",
              "      <td>1841</td>\n",
              "      <td></td>\n",
              "      <td>http://www.flickr.com/photos/britishlibrary/ta...</td>\n",
              "      <td>sample/full_texts/000000196_01_text.json</td>\n",
              "      <td>000000196</td>\n",
              "      <td>NaN</td>\n",
              "      <td>monographic</td>\n",
              "      <td>{'1': 'lsidyv35c55757'}</td>\n",
              "      <td>Calcutta</td>\n",
              "      <td>Privately printed</td>\n",
              "      <td>[British Library HMNTS 11601.ddd.2.]</td>\n",
              "      <td>[The Poetical Aviary, with a bird's-eye view o...</td>\n",
              "    </tr>\n",
              "    <tr>\n",
              "      <th>1</th>\n",
              "      <td>{'creator': ['Abbott, Evelyn']}</td>\n",
              "      <td>{}</td>\n",
              "      <td>1888</td>\n",
              "      <td>1888</td>\n",
              "      <td></td>\n",
              "      <td>http://www.flickr.com/photos/britishlibrary/ta...</td>\n",
              "      <td>sample/full_texts/000004047_01_text.json</td>\n",
              "      <td>000004047</td>\n",
              "      <td>{'0': {'000257': ['11104648374']}}</td>\n",
              "      <td>monographic</td>\n",
              "      <td>{'1': 'lsidyv376da437'}</td>\n",
              "      <td>London</td>\n",
              "      <td>Rivingtons</td>\n",
              "      <td>[British Library HMNTS 9025.cc.14.]</td>\n",
              "      <td>[A History of Greece. Part I. From the earlies...</td>\n",
              "    </tr>\n",
              "  </tbody>\n",
              "</table>\n",
              "</div>"
            ],
            "text/plain": [
              "                           authors corporate  date datefield edition  \\\n",
              "0           {'creator': ['A. A.']}        {}  1841      1841           \n",
              "1  {'creator': ['Abbott, Evelyn']}        {}  1888      1888           \n",
              "\n",
              "                           flickr_url_to_book_images  \\\n",
              "0  http://www.flickr.com/photos/britishlibrary/ta...   \n",
              "1  http://www.flickr.com/photos/britishlibrary/ta...   \n",
              "\n",
              "                          fulltext_filename identifier  \\\n",
              "0  sample/full_texts/000000196_01_text.json  000000196   \n",
              "1  sample/full_texts/000004047_01_text.json  000004047   \n",
              "\n",
              "                                 imgs     issuance                      pdf  \\\n",
              "0                                 NaN  monographic  {'1': 'lsidyv35c55757'}   \n",
              "1  {'0': {'000257': ['11104648374']}}  monographic  {'1': 'lsidyv376da437'}   \n",
              "\n",
              "      place          publisher                            shelfmarks  \\\n",
              "0  Calcutta  Privately printed  [British Library HMNTS 11601.ddd.2.]   \n",
              "1    London         Rivingtons   [British Library HMNTS 9025.cc.14.]   \n",
              "\n",
              "                                               title  \n",
              "0  [The Poetical Aviary, with a bird's-eye view o...  \n",
              "1  [A History of Greece. Part I. From the earlies...  "
            ]
          },
          "metadata": {
            "tags": []
          },
          "execution_count": 187
        }
      ]
    },
    {
      "cell_type": "code",
      "metadata": {
        "id": "PpbsfmAUKUsH",
        "colab_type": "code",
        "outputId": "118f64d2-e924-4c69-98ca-bc0ee7efb4ef",
        "colab": {}
      },
      "source": [
        "books_df.info()"
      ],
      "execution_count": 0,
      "outputs": [
        {
          "output_type": "stream",
          "text": [
            "<class 'pandas.core.frame.DataFrame'>\n",
            "RangeIndex: 452 entries, 0 to 451\n",
            "Data columns (total 15 columns):\n",
            "authors                      452 non-null object\n",
            "corporate                    452 non-null object\n",
            "date                         452 non-null object\n",
            "datefield                    452 non-null object\n",
            "edition                      452 non-null object\n",
            "flickr_url_to_book_images    452 non-null object\n",
            "fulltext_filename            452 non-null object\n",
            "identifier                   452 non-null object\n",
            "imgs                         280 non-null object\n",
            "issuance                     452 non-null object\n",
            "pdf                          452 non-null object\n",
            "place                        452 non-null object\n",
            "publisher                    452 non-null object\n",
            "shelfmarks                   452 non-null object\n",
            "title                        452 non-null object\n",
            "dtypes: object(15)\n",
            "memory usage: 53.0+ KB\n"
          ],
          "name": "stdout"
        }
      ]
    },
    {
      "cell_type": "markdown",
      "metadata": {
        "id": "__plyQWeKUsM",
        "colab_type": "text"
      },
      "source": [
        "**NB**: note the number of missing values for the `books_df.imgs` (n=172)."
      ]
    },
    {
      "cell_type": "markdown",
      "metadata": {
        "id": "8NCKtQVAKUsN",
        "colab_type": "text"
      },
      "source": [
        "#### From CSV\n",
        "\n",
        "Similarly to `pandas.read_json()`, `pandas.read_csv()` is there to make your life easier when it comes to loading CSV data into a dataframe (and that happens very often!).\n",
        "\n",
        "Let's import one of the CSV files from the \"Venice Apprenticeship\" dataset (`../data/apprenticeship_venice/`)."
      ]
    },
    {
      "cell_type": "code",
      "metadata": {
        "id": "pcn_LbNAKUsO",
        "colab_type": "code",
        "colab": {}
      },
      "source": [
        "csv_file_path = '../data/apprenticeship_venice/professions_data.csv'"
      ],
      "execution_count": 0,
      "outputs": []
    },
    {
      "cell_type": "code",
      "metadata": {
        "id": "8mGEm13LKUsQ",
        "colab_type": "code",
        "outputId": "cba996ef-7a37-4625-9a94-5d6d7d9ce673",
        "colab": {}
      },
      "source": [
        "garzoni_df = pd.read_csv(csv_file_path)"
      ],
      "execution_count": 0,
      "outputs": [
        {
          "output_type": "error",
          "ename": "ParserError",
          "evalue": "Error tokenizing data. C error: Expected 7 fields in line 36, saw 8\n",
          "traceback": [
            "\u001b[0;31m---------------------------------------------------------------------------\u001b[0m",
            "\u001b[0;31mParserError\u001b[0m                               Traceback (most recent call last)",
            "\u001b[0;32m<ipython-input-190-0fa6b8e1a971>\u001b[0m in \u001b[0;36m<module>\u001b[0;34m\u001b[0m\n\u001b[0;32m----> 1\u001b[0;31m \u001b[0mgarzoni_df\u001b[0m \u001b[0;34m=\u001b[0m \u001b[0mpd\u001b[0m\u001b[0;34m.\u001b[0m\u001b[0mread_csv\u001b[0m\u001b[0;34m(\u001b[0m\u001b[0mcsv_file_path\u001b[0m\u001b[0;34m)\u001b[0m\u001b[0;34m\u001b[0m\u001b[0;34m\u001b[0m\u001b[0m\n\u001b[0m",
            "\u001b[0;32m~/.pyenv/versions/3.6.8/envs/ada-dhoxss/lib/python3.6/site-packages/pandas/io/parsers.py\u001b[0m in \u001b[0;36mparser_f\u001b[0;34m(filepath_or_buffer, sep, delimiter, header, names, index_col, usecols, squeeze, prefix, mangle_dupe_cols, dtype, engine, converters, true_values, false_values, skipinitialspace, skiprows, skipfooter, nrows, na_values, keep_default_na, na_filter, verbose, skip_blank_lines, parse_dates, infer_datetime_format, keep_date_col, date_parser, dayfirst, iterator, chunksize, compression, thousands, decimal, lineterminator, quotechar, quoting, doublequote, escapechar, comment, encoding, dialect, tupleize_cols, error_bad_lines, warn_bad_lines, delim_whitespace, low_memory, memory_map, float_precision)\u001b[0m\n\u001b[1;32m    700\u001b[0m                     skip_blank_lines=skip_blank_lines)\n\u001b[1;32m    701\u001b[0m \u001b[0;34m\u001b[0m\u001b[0m\n\u001b[0;32m--> 702\u001b[0;31m         \u001b[0;32mreturn\u001b[0m \u001b[0m_read\u001b[0m\u001b[0;34m(\u001b[0m\u001b[0mfilepath_or_buffer\u001b[0m\u001b[0;34m,\u001b[0m \u001b[0mkwds\u001b[0m\u001b[0;34m)\u001b[0m\u001b[0;34m\u001b[0m\u001b[0;34m\u001b[0m\u001b[0m\n\u001b[0m\u001b[1;32m    703\u001b[0m \u001b[0;34m\u001b[0m\u001b[0m\n\u001b[1;32m    704\u001b[0m     \u001b[0mparser_f\u001b[0m\u001b[0;34m.\u001b[0m\u001b[0m__name__\u001b[0m \u001b[0;34m=\u001b[0m \u001b[0mname\u001b[0m\u001b[0;34m\u001b[0m\u001b[0;34m\u001b[0m\u001b[0m\n",
            "\u001b[0;32m~/.pyenv/versions/3.6.8/envs/ada-dhoxss/lib/python3.6/site-packages/pandas/io/parsers.py\u001b[0m in \u001b[0;36m_read\u001b[0;34m(filepath_or_buffer, kwds)\u001b[0m\n\u001b[1;32m    433\u001b[0m \u001b[0;34m\u001b[0m\u001b[0m\n\u001b[1;32m    434\u001b[0m     \u001b[0;32mtry\u001b[0m\u001b[0;34m:\u001b[0m\u001b[0;34m\u001b[0m\u001b[0;34m\u001b[0m\u001b[0m\n\u001b[0;32m--> 435\u001b[0;31m         \u001b[0mdata\u001b[0m \u001b[0;34m=\u001b[0m \u001b[0mparser\u001b[0m\u001b[0;34m.\u001b[0m\u001b[0mread\u001b[0m\u001b[0;34m(\u001b[0m\u001b[0mnrows\u001b[0m\u001b[0;34m)\u001b[0m\u001b[0;34m\u001b[0m\u001b[0;34m\u001b[0m\u001b[0m\n\u001b[0m\u001b[1;32m    436\u001b[0m     \u001b[0;32mfinally\u001b[0m\u001b[0;34m:\u001b[0m\u001b[0;34m\u001b[0m\u001b[0;34m\u001b[0m\u001b[0m\n\u001b[1;32m    437\u001b[0m         \u001b[0mparser\u001b[0m\u001b[0;34m.\u001b[0m\u001b[0mclose\u001b[0m\u001b[0;34m(\u001b[0m\u001b[0;34m)\u001b[0m\u001b[0;34m\u001b[0m\u001b[0;34m\u001b[0m\u001b[0m\n",
            "\u001b[0;32m~/.pyenv/versions/3.6.8/envs/ada-dhoxss/lib/python3.6/site-packages/pandas/io/parsers.py\u001b[0m in \u001b[0;36mread\u001b[0;34m(self, nrows)\u001b[0m\n\u001b[1;32m   1137\u001b[0m     \u001b[0;32mdef\u001b[0m \u001b[0mread\u001b[0m\u001b[0;34m(\u001b[0m\u001b[0mself\u001b[0m\u001b[0;34m,\u001b[0m \u001b[0mnrows\u001b[0m\u001b[0;34m=\u001b[0m\u001b[0;32mNone\u001b[0m\u001b[0;34m)\u001b[0m\u001b[0;34m:\u001b[0m\u001b[0;34m\u001b[0m\u001b[0;34m\u001b[0m\u001b[0m\n\u001b[1;32m   1138\u001b[0m         \u001b[0mnrows\u001b[0m \u001b[0;34m=\u001b[0m \u001b[0m_validate_integer\u001b[0m\u001b[0;34m(\u001b[0m\u001b[0;34m'nrows'\u001b[0m\u001b[0;34m,\u001b[0m \u001b[0mnrows\u001b[0m\u001b[0;34m)\u001b[0m\u001b[0;34m\u001b[0m\u001b[0;34m\u001b[0m\u001b[0m\n\u001b[0;32m-> 1139\u001b[0;31m         \u001b[0mret\u001b[0m \u001b[0;34m=\u001b[0m \u001b[0mself\u001b[0m\u001b[0;34m.\u001b[0m\u001b[0m_engine\u001b[0m\u001b[0;34m.\u001b[0m\u001b[0mread\u001b[0m\u001b[0;34m(\u001b[0m\u001b[0mnrows\u001b[0m\u001b[0;34m)\u001b[0m\u001b[0;34m\u001b[0m\u001b[0;34m\u001b[0m\u001b[0m\n\u001b[0m\u001b[1;32m   1140\u001b[0m \u001b[0;34m\u001b[0m\u001b[0m\n\u001b[1;32m   1141\u001b[0m         \u001b[0;31m# May alter columns / col_dict\u001b[0m\u001b[0;34m\u001b[0m\u001b[0;34m\u001b[0m\u001b[0;34m\u001b[0m\u001b[0m\n",
            "\u001b[0;32m~/.pyenv/versions/3.6.8/envs/ada-dhoxss/lib/python3.6/site-packages/pandas/io/parsers.py\u001b[0m in \u001b[0;36mread\u001b[0;34m(self, nrows)\u001b[0m\n\u001b[1;32m   1993\u001b[0m     \u001b[0;32mdef\u001b[0m \u001b[0mread\u001b[0m\u001b[0;34m(\u001b[0m\u001b[0mself\u001b[0m\u001b[0;34m,\u001b[0m \u001b[0mnrows\u001b[0m\u001b[0;34m=\u001b[0m\u001b[0;32mNone\u001b[0m\u001b[0;34m)\u001b[0m\u001b[0;34m:\u001b[0m\u001b[0;34m\u001b[0m\u001b[0;34m\u001b[0m\u001b[0m\n\u001b[1;32m   1994\u001b[0m         \u001b[0;32mtry\u001b[0m\u001b[0;34m:\u001b[0m\u001b[0;34m\u001b[0m\u001b[0;34m\u001b[0m\u001b[0m\n\u001b[0;32m-> 1995\u001b[0;31m             \u001b[0mdata\u001b[0m \u001b[0;34m=\u001b[0m \u001b[0mself\u001b[0m\u001b[0;34m.\u001b[0m\u001b[0m_reader\u001b[0m\u001b[0;34m.\u001b[0m\u001b[0mread\u001b[0m\u001b[0;34m(\u001b[0m\u001b[0mnrows\u001b[0m\u001b[0;34m)\u001b[0m\u001b[0;34m\u001b[0m\u001b[0;34m\u001b[0m\u001b[0m\n\u001b[0m\u001b[1;32m   1996\u001b[0m         \u001b[0;32mexcept\u001b[0m \u001b[0mStopIteration\u001b[0m\u001b[0;34m:\u001b[0m\u001b[0;34m\u001b[0m\u001b[0;34m\u001b[0m\u001b[0m\n\u001b[1;32m   1997\u001b[0m             \u001b[0;32mif\u001b[0m \u001b[0mself\u001b[0m\u001b[0;34m.\u001b[0m\u001b[0m_first_chunk\u001b[0m\u001b[0;34m:\u001b[0m\u001b[0;34m\u001b[0m\u001b[0;34m\u001b[0m\u001b[0m\n",
            "\u001b[0;32mpandas/_libs/parsers.pyx\u001b[0m in \u001b[0;36mpandas._libs.parsers.TextReader.read\u001b[0;34m()\u001b[0m\n",
            "\u001b[0;32mpandas/_libs/parsers.pyx\u001b[0m in \u001b[0;36mpandas._libs.parsers.TextReader._read_low_memory\u001b[0;34m()\u001b[0m\n",
            "\u001b[0;32mpandas/_libs/parsers.pyx\u001b[0m in \u001b[0;36mpandas._libs.parsers.TextReader._read_rows\u001b[0;34m()\u001b[0m\n",
            "\u001b[0;32mpandas/_libs/parsers.pyx\u001b[0m in \u001b[0;36mpandas._libs.parsers.TextReader._tokenize_rows\u001b[0;34m()\u001b[0m\n",
            "\u001b[0;32mpandas/_libs/parsers.pyx\u001b[0m in \u001b[0;36mpandas._libs.parsers.raise_parser_error\u001b[0;34m()\u001b[0m\n",
            "\u001b[0;31mParserError\u001b[0m: Error tokenizing data. C error: Expected 7 fields in line 36, saw 8\n"
          ]
        }
      ]
    },
    {
      "cell_type": "markdown",
      "metadata": {
        "id": "QANfH4lmKUsU",
        "colab_type": "text"
      },
      "source": [
        "Why it did not work??\n",
        "\n",
        "Let's have a look at the file first..."
      ]
    },
    {
      "cell_type": "code",
      "metadata": {
        "id": "P64bHFDcKUsU",
        "colab_type": "code",
        "outputId": "cb24d5e1-8df6-49d0-df2b-a0a94cd30548",
        "colab": {}
      },
      "source": [
        "!head -n 2 ../data/apprenticeship_venice/professions_data.csv"
      ],
      "execution_count": 0,
      "outputs": [
        {
          "output_type": "stream",
          "text": [
            "page_title;register;annual_salary;a_profession;profession_code_strict;profession_code_gen;profession_cat;corporation;keep_profession_a;complete_profession_a;enrolmentY;enrolmentM;startY;startM;length;has_fled;m_profession;m_profession_code_strict;m_profession_code_gen;m_profession_cat;m_corporation;keep_profession_m;complete_profession_m;m_gender;m_name;m_surname;m_patronimic;m_atelier;m_coords;a_name;a_age;a_gender;a_geo_origins;a_geo_origins_std;a_coords;a_quondam;accommodation_master;personal_care_master;clothes_master;generic_expenses_master;salary_in_kind_master;pledge_goods_master;pledge_money_master;salary_master;female_guarantor;period_cat;incremental_salary\r\n",
            "Carlo Della sosta (Orese) 1592-08-03;asv, giustizia vecchia, accordi dei garzoni, 114, 155;NA;orese;orese;orefice;orefice;Oresi;1;1;1592;08;1592;08;3;0;orese;orese;orefice;orefice;Oresi;1;1;1;Zuan Battista;Amigoni;;;0, 0;Carlo Della sosta;17;1;;;0, 0;1;0;1;1;1;0;0;0;0;0;NA;0\r\n"
          ],
          "name": "stdout"
        }
      ]
    },
    {
      "cell_type": "markdown",
      "metadata": {
        "id": "YLRPFZynKUsW",
        "colab_type": "text"
      },
      "source": [
        "More than a comma-separated value, it looks like semicolon-separated values..."
      ]
    },
    {
      "cell_type": "code",
      "metadata": {
        "id": "FDCzDK0zKUsX",
        "colab_type": "code",
        "colab": {}
      },
      "source": [
        "# the `sep` input parameter\n",
        "# allows us to specify which character/symbol is used\n",
        "# to separate column values\n",
        "\n",
        "garzoni_df = pd.read_csv(\n",
        "    csv_file_path,\n",
        "    sep=';'\n",
        ")"
      ],
      "execution_count": 0,
      "outputs": []
    },
    {
      "cell_type": "markdown",
      "metadata": {
        "id": "ZQg3UzI9KUsZ",
        "colab_type": "text"
      },
      "source": [
        "**NB**: There may be invalid lines in the data you are reading in. `read_csv()` puts you in full control of that: by setting the param `error_bad_lines=False` we tell `pandas` to ignore the \"faulty\" lines. \n",
        "\n",
        "This means that the entire file will be parsed, but invalid lines will be skipped. "
      ]
    },
    {
      "cell_type": "code",
      "metadata": {
        "id": "OEt95HdoKUsb",
        "colab_type": "code",
        "colab": {}
      },
      "source": [
        "garzoni_df = pd.read_csv(\n",
        "    csv_file_path,\n",
        "    sep=';',\n",
        "    error_bad_lines=False,\n",
        "    warn_bad_lines=False, # this turns off also the warnings\n",
        ")"
      ],
      "execution_count": 0,
      "outputs": []
    },
    {
      "cell_type": "markdown",
      "metadata": {
        "id": "chp3m7PKKUsi",
        "colab_type": "text"
      },
      "source": [
        "#### More format readers"
      ]
    },
    {
      "cell_type": "markdown",
      "metadata": {
        "id": "42ae3j9LKUsj",
        "colab_type": "text"
      },
      "source": [
        "See the [pandas documentation](https://pandas.pydata.org/pandas-docs/stable/user_guide/io.html)."
      ]
    },
    {
      "cell_type": "markdown",
      "metadata": {
        "id": "VVL_6TCxKUsj",
        "colab_type": "text"
      },
      "source": [
        "### Working with columns"
      ]
    },
    {
      "cell_type": "markdown",
      "metadata": {
        "id": "dg7fj15sKUsk",
        "colab_type": "text"
      },
      "source": [
        "#### Casting\n",
        "\n",
        "We call *casting* the operation of changing the act of changing the data type of one or more variables."
      ]
    },
    {
      "cell_type": "code",
      "metadata": {
        "id": "xYZII1r4KUsl",
        "colab_type": "code",
        "colab": {}
      },
      "source": [
        "# we define a string with value \"10\"\n",
        "number_str = \"10\""
      ],
      "execution_count": 0,
      "outputs": []
    },
    {
      "cell_type": "code",
      "metadata": {
        "id": "pCYtnuKhKUsr",
        "colab_type": "code",
        "colab": {}
      },
      "source": [
        "# we change its type from string (`str`)\n",
        "# to integeer (`int`). This is call casting\n",
        "\n",
        "number_int = int(number_str)"
      ],
      "execution_count": 0,
      "outputs": []
    },
    {
      "cell_type": "code",
      "metadata": {
        "id": "JwLEIsM_KUsx",
        "colab_type": "code",
        "outputId": "62d15461-c5df-4dca-fab0-eef125fc6000",
        "colab": {}
      },
      "source": [
        "# the types of the two variable are different indeed\n",
        "\n",
        "type(number_str) == type(number_int)"
      ],
      "execution_count": 0,
      "outputs": [
        {
          "output_type": "execute_result",
          "data": {
            "text/plain": [
              "False"
            ]
          },
          "metadata": {
            "tags": []
          },
          "execution_count": 196
        }
      ]
    },
    {
      "cell_type": "markdown",
      "metadata": {
        "id": "6Eq6ll56KUs0",
        "colab_type": "text"
      },
      "source": [
        "`pandas` objects like `Series` and `DataFrame` provide the method `astype()` to apply casting on their contents."
      ]
    },
    {
      "cell_type": "code",
      "metadata": {
        "id": "C9KGJJrWKUs1",
        "colab_type": "code",
        "outputId": "090e4fb6-dd2a-40ee-9e0f-61dab089fef7",
        "colab": {}
      },
      "source": [
        "garzoni_df.head(3)"
      ],
      "execution_count": 0,
      "outputs": [
        {
          "output_type": "execute_result",
          "data": {
            "text/html": [
              "<div>\n",
              "<style scoped>\n",
              "    .dataframe tbody tr th:only-of-type {\n",
              "        vertical-align: middle;\n",
              "    }\n",
              "\n",
              "    .dataframe tbody tr th {\n",
              "        vertical-align: top;\n",
              "    }\n",
              "\n",
              "    .dataframe thead th {\n",
              "        text-align: right;\n",
              "    }\n",
              "</style>\n",
              "<table border=\"1\" class=\"dataframe\">\n",
              "  <thead>\n",
              "    <tr style=\"text-align: right;\">\n",
              "      <th></th>\n",
              "      <th>page_title</th>\n",
              "      <th>register</th>\n",
              "      <th>annual_salary</th>\n",
              "      <th>a_profession</th>\n",
              "      <th>profession_code_strict</th>\n",
              "      <th>profession_code_gen</th>\n",
              "      <th>profession_cat</th>\n",
              "      <th>corporation</th>\n",
              "      <th>keep_profession_a</th>\n",
              "      <th>complete_profession_a</th>\n",
              "      <th>...</th>\n",
              "      <th>personal_care_master</th>\n",
              "      <th>clothes_master</th>\n",
              "      <th>generic_expenses_master</th>\n",
              "      <th>salary_in_kind_master</th>\n",
              "      <th>pledge_goods_master</th>\n",
              "      <th>pledge_money_master</th>\n",
              "      <th>salary_master</th>\n",
              "      <th>female_guarantor</th>\n",
              "      <th>period_cat</th>\n",
              "      <th>incremental_salary</th>\n",
              "    </tr>\n",
              "  </thead>\n",
              "  <tbody>\n",
              "    <tr>\n",
              "      <th>0</th>\n",
              "      <td>Carlo Della sosta (Orese) 1592-08-03</td>\n",
              "      <td>asv, giustizia vecchia, accordi dei garzoni, 1...</td>\n",
              "      <td>NaN</td>\n",
              "      <td>orese</td>\n",
              "      <td>orese</td>\n",
              "      <td>orefice</td>\n",
              "      <td>orefice</td>\n",
              "      <td>Oresi</td>\n",
              "      <td>1</td>\n",
              "      <td>1</td>\n",
              "      <td>...</td>\n",
              "      <td>1</td>\n",
              "      <td>1</td>\n",
              "      <td>1</td>\n",
              "      <td>0</td>\n",
              "      <td>0</td>\n",
              "      <td>0</td>\n",
              "      <td>0</td>\n",
              "      <td>0</td>\n",
              "      <td>NaN</td>\n",
              "      <td>0</td>\n",
              "    </tr>\n",
              "    <tr>\n",
              "      <th>1</th>\n",
              "      <td>Antonio quondam Andrea (squerariol) 1583-01-09</td>\n",
              "      <td>asv, giustizia vecchia, accordi dei garzoni, 1...</td>\n",
              "      <td>12.5</td>\n",
              "      <td>squerariol</td>\n",
              "      <td>squerariol</td>\n",
              "      <td>lavori allo squero</td>\n",
              "      <td>lavori allo squero</td>\n",
              "      <td>Squerarioli</td>\n",
              "      <td>1</td>\n",
              "      <td>1</td>\n",
              "      <td>...</td>\n",
              "      <td>0</td>\n",
              "      <td>0</td>\n",
              "      <td>1</td>\n",
              "      <td>0</td>\n",
              "      <td>0</td>\n",
              "      <td>0</td>\n",
              "      <td>1</td>\n",
              "      <td>0</td>\n",
              "      <td>1.0</td>\n",
              "      <td>0</td>\n",
              "    </tr>\n",
              "    <tr>\n",
              "      <th>2</th>\n",
              "      <td>Cristofollo di Zuane (batioro in carta) 1591-0...</td>\n",
              "      <td>asv, giustizia vecchia, accordi dei garzoni, 1...</td>\n",
              "      <td>NaN</td>\n",
              "      <td>batioro</td>\n",
              "      <td>batioro</td>\n",
              "      <td>battioro</td>\n",
              "      <td>fabbricatore di foglie/fili/cordelle d'oro o a...</td>\n",
              "      <td>Battioro</td>\n",
              "      <td>1</td>\n",
              "      <td>1</td>\n",
              "      <td>...</td>\n",
              "      <td>0</td>\n",
              "      <td>0</td>\n",
              "      <td>0</td>\n",
              "      <td>0</td>\n",
              "      <td>0</td>\n",
              "      <td>0</td>\n",
              "      <td>0</td>\n",
              "      <td>0</td>\n",
              "      <td>NaN</td>\n",
              "      <td>0</td>\n",
              "    </tr>\n",
              "  </tbody>\n",
              "</table>\n",
              "<p>3 rows × 47 columns</p>\n",
              "</div>"
            ],
            "text/plain": [
              "                                          page_title  \\\n",
              "0               Carlo Della sosta (Orese) 1592-08-03   \n",
              "1     Antonio quondam Andrea (squerariol) 1583-01-09   \n",
              "2  Cristofollo di Zuane (batioro in carta) 1591-0...   \n",
              "\n",
              "                                            register  annual_salary  \\\n",
              "0  asv, giustizia vecchia, accordi dei garzoni, 1...            NaN   \n",
              "1  asv, giustizia vecchia, accordi dei garzoni, 1...           12.5   \n",
              "2  asv, giustizia vecchia, accordi dei garzoni, 1...            NaN   \n",
              "\n",
              "  a_profession profession_code_strict profession_code_gen  \\\n",
              "0        orese                  orese             orefice   \n",
              "1   squerariol             squerariol  lavori allo squero   \n",
              "2      batioro                batioro            battioro   \n",
              "\n",
              "                                      profession_cat  corporation  \\\n",
              "0                                            orefice        Oresi   \n",
              "1                                 lavori allo squero  Squerarioli   \n",
              "2  fabbricatore di foglie/fili/cordelle d'oro o a...     Battioro   \n",
              "\n",
              "   keep_profession_a  complete_profession_a  ...  personal_care_master  \\\n",
              "0                  1                      1  ...                     1   \n",
              "1                  1                      1  ...                     0   \n",
              "2                  1                      1  ...                     0   \n",
              "\n",
              "   clothes_master  generic_expenses_master  salary_in_kind_master  \\\n",
              "0               1                        1                      0   \n",
              "1               0                        1                      0   \n",
              "2               0                        0                      0   \n",
              "\n",
              "   pledge_goods_master  pledge_money_master salary_master female_guarantor  \\\n",
              "0                    0                    0             0                0   \n",
              "1                    0                    0             1                0   \n",
              "2                    0                    0             0                0   \n",
              "\n",
              "  period_cat incremental_salary  \n",
              "0        NaN                  0  \n",
              "1        1.0                  0  \n",
              "2        NaN                  0  \n",
              "\n",
              "[3 rows x 47 columns]"
            ]
          },
          "metadata": {
            "tags": []
          },
          "execution_count": 197
        }
      ]
    },
    {
      "cell_type": "markdown",
      "metadata": {
        "id": "zYlMBex-KUs_",
        "colab_type": "text"
      },
      "source": [
        "To cast the type of the `profession_cat` column, we can use directly the `astype()` method of the Series: "
      ]
    },
    {
      "cell_type": "code",
      "metadata": {
        "id": "mipt1jpaKUtA",
        "colab_type": "code",
        "colab": {}
      },
      "source": [
        "professions = garzoni_df.profession_cat.astype('category')"
      ],
      "execution_count": 0,
      "outputs": []
    },
    {
      "cell_type": "code",
      "metadata": {
        "id": "wbK1jRRxKUtB",
        "colab_type": "code",
        "outputId": "ead334e4-726b-446e-9468-28286f7ce359",
        "colab": {}
      },
      "source": [
        "professions.cat.categories"
      ],
      "execution_count": 0,
      "outputs": [
        {
          "output_type": "execute_result",
          "data": {
            "text/plain": [
              "Index([' . rilegatore di libri', 'acquaroli', 'acquavite',\n",
              "       'acquavite . arrotino', 'acquavite . venditore di crusca', 'archibugi',\n",
              "       'archibugi . ', 'arginatura canali', 'arrotino', 'ballerino',\n",
              "       ...\n",
              "       'venditori di profumi . pellicciaio', 'venditori di tele',\n",
              "       'venditori di tele . cotone .  . fabbricatori di fustagni . merciaio . materassaio . rigattiere',\n",
              "       'venditori di tele . fabbricatori di laccioli . merciaio',\n",
              "       'venditori di tele . materassaio', 'venditori di tele . merciaio',\n",
              "       'venditori di tele . merciaio . cotone .  . fabbricatori di fustagni',\n",
              "       'venditori di tele . merciaio . fabbricatori di laccioli', 'vetraio',\n",
              "       'vetraio . trasportatori di sabbia'],\n",
              "      dtype='object', length=360)"
            ]
          },
          "metadata": {
            "tags": []
          },
          "execution_count": 199
        }
      ]
    },
    {
      "cell_type": "markdown",
      "metadata": {
        "id": "rvTsAN0eKUtE",
        "colab_type": "text"
      },
      "source": [
        "Another way of doing this while operating on the dataframe is to use the dataframe's `astype()`:"
      ]
    },
    {
      "cell_type": "code",
      "metadata": {
        "id": "ZrbHcdu6KUtF",
        "colab_type": "code",
        "colab": {}
      },
      "source": [
        "from pandas.api.types import CategoricalDtype"
      ],
      "execution_count": 0,
      "outputs": []
    },
    {
      "cell_type": "code",
      "metadata": {
        "id": "bP1stDnuKUtK",
        "colab_type": "code",
        "colab": {}
      },
      "source": [
        "profession_cat_type = CategoricalDtype(\n",
        "    categories=garzoni_df.profession_cat[garzoni_df.profession_cat.notnull()].unique()\n",
        ")"
      ],
      "execution_count": 0,
      "outputs": []
    },
    {
      "cell_type": "code",
      "metadata": {
        "id": "25AhjWCyKUtQ",
        "colab_type": "code",
        "outputId": "1de261a4-0c1d-4768-dd3e-8b19ce059d0f",
        "colab": {}
      },
      "source": [
        "garzoni_df.dtypes.profession_cat"
      ],
      "execution_count": 0,
      "outputs": [
        {
          "output_type": "execute_result",
          "data": {
            "text/plain": [
              "dtype('O')"
            ]
          },
          "metadata": {
            "tags": []
          },
          "execution_count": 202
        }
      ]
    },
    {
      "cell_type": "code",
      "metadata": {
        "id": "jUoGCzVSKUtS",
        "colab_type": "code",
        "colab": {}
      },
      "source": [
        "garzoni_df = garzoni_df.astype(\n",
        "    {\n",
        "        \"profession_cat\": profession_cat_type\n",
        "    }\n",
        ")"
      ],
      "execution_count": 0,
      "outputs": []
    },
    {
      "cell_type": "code",
      "metadata": {
        "id": "FnjNQYVjKUtU",
        "colab_type": "code",
        "outputId": "aad5d33b-9f42-40fd-b079-1f746cc0ba10",
        "colab": {}
      },
      "source": [
        "garzoni_df.profession_cat"
      ],
      "execution_count": 0,
      "outputs": [
        {
          "output_type": "execute_result",
          "data": {
            "text/plain": [
              "0                                                 orefice\n",
              "1                                      lavori allo squero\n",
              "2       fabbricatore di foglie/fili/cordelle d'oro o a...\n",
              "3                                                merciaio\n",
              "4                                                merciaio\n",
              "5                                               falegname\n",
              "6                   stampatori - diverse specializzazioni\n",
              "7                                              specchiaio\n",
              "8                                                 tintore\n",
              "9                                    fabbricazione corone\n",
              "10                                                 fabbro\n",
              "11                      librai - diverse specializzazioni\n",
              "12                                                 fabbro\n",
              "13                                               merciaio\n",
              "14                                             specchiaio\n",
              "15                                             specchiaio\n",
              "16                                             specchiaio\n",
              "17                                             specchiaio\n",
              "18                                             specchiaio\n",
              "19      fabbricatore di foglie/fili/cordelle d'oro o a...\n",
              "20                                                 colori\n",
              "21                                              orpellaio\n",
              "22                                                orefice\n",
              "23                                                perlaio\n",
              "24                      librai - diverse specializzazioni\n",
              "25                                              tornitore\n",
              "26                                               merciaio\n",
              "27                                               merciaio\n",
              "28                                             specchiaio\n",
              "29      fabbricatore di foglie/fili/cordelle d'oro o a...\n",
              "                              ...                        \n",
              "9623                                  venditori di frutta\n",
              "9624                      fabbricatore di valigie e bauli\n",
              "9625                                  venditori di frutta\n",
              "9626                                  barbiere . cerusico\n",
              "9627                                                sarto\n",
              "9628                                             linaiolo\n",
              "9629                              fabbricazione calzature\n",
              "9630                                             muratore\n",
              "9631                                             speziale\n",
              "9632                              fabbricatore di bilance\n",
              "9633                            fabbricatore di passamani\n",
              "9634                                               fabbro\n",
              "9635              intagliatore - diverse specializzazioni\n",
              "9636                              fabbricatore di pettini\n",
              "9637                    librai - diverse specializzazioni\n",
              "9638                               fabbricatore di chiodi\n",
              "9639                                            falegname\n",
              "9640                              fabbricazione calzature\n",
              "9641                                             muratore\n",
              "9642                                            tessitore\n",
              "9643                                    venditore verdura\n",
              "9644                              fabbricazione calzature\n",
              "9645                                 fonditori di metalli\n",
              "9646                                             merciaio\n",
              "9647                            fabbricatore di passamani\n",
              "9648                           paternosteri o margariteri\n",
              "9649                              fabbricazione calzature\n",
              "9650                       fabbricatore di casse e simili\n",
              "9651                              fabbricazione calzature\n",
              "9652                                              fornaio\n",
              "Name: profession_cat, Length: 9653, dtype: category\n",
              "Categories (360, object): [orefice, lavori allo squero, fabbricatore di foglie/fili/cordelle d'oro o a..., merciaio, ..., venditori di pece . linaiolo, cotone . materassaio . venditori di tele ., barbiere . cerusico . suonatore, bottonaio]"
            ]
          },
          "metadata": {
            "tags": []
          },
          "execution_count": 204
        }
      ]
    },
    {
      "cell_type": "markdown",
      "metadata": {
        "id": "8xWPJzP6KUtW",
        "colab_type": "text"
      },
      "source": [
        "#### Adding columns"
      ]
    },
    {
      "cell_type": "markdown",
      "metadata": {
        "id": "qrl7m6u-KUtf",
        "colab_type": "text"
      },
      "source": [
        "Let's go back to our toy dataframe:"
      ]
    },
    {
      "cell_type": "code",
      "metadata": {
        "id": "-2xZpFAcKUtg",
        "colab_type": "code",
        "outputId": "6fec6fce-bbc9-4ebb-96c6-84dc66ee68f5",
        "colab": {}
      },
      "source": [
        "toy_df.head()"
      ],
      "execution_count": 0,
      "outputs": [
        {
          "output_type": "execute_result",
          "data": {
            "text/html": [
              "<div>\n",
              "<style scoped>\n",
              "    .dataframe tbody tr th:only-of-type {\n",
              "        vertical-align: middle;\n",
              "    }\n",
              "\n",
              "    .dataframe tbody tr th {\n",
              "        vertical-align: top;\n",
              "    }\n",
              "\n",
              "    .dataframe thead th {\n",
              "        text-align: right;\n",
              "    }\n",
              "</style>\n",
              "<table border=\"1\" class=\"dataframe\">\n",
              "  <thead>\n",
              "    <tr style=\"text-align: right;\">\n",
              "      <th></th>\n",
              "      <th>date</th>\n",
              "      <th>count</th>\n",
              "      <th>event</th>\n",
              "    </tr>\n",
              "  </thead>\n",
              "  <tbody>\n",
              "    <tr>\n",
              "      <th>0</th>\n",
              "      <td>1980-03-15</td>\n",
              "      <td>928</td>\n",
              "      <td>airplane_crash</td>\n",
              "    </tr>\n",
              "    <tr>\n",
              "      <th>1</th>\n",
              "      <td>1981-11-23</td>\n",
              "      <td>8796</td>\n",
              "      <td>flood</td>\n",
              "    </tr>\n",
              "    <tr>\n",
              "      <th>2</th>\n",
              "      <td>1982-10-15</td>\n",
              "      <td>2449</td>\n",
              "      <td>fire</td>\n",
              "    </tr>\n",
              "    <tr>\n",
              "      <th>3</th>\n",
              "      <td>1983-06-03</td>\n",
              "      <td>7231</td>\n",
              "      <td>fire</td>\n",
              "    </tr>\n",
              "    <tr>\n",
              "      <th>4</th>\n",
              "      <td>1984-07-01</td>\n",
              "      <td>2715</td>\n",
              "      <td>car_crash</td>\n",
              "    </tr>\n",
              "  </tbody>\n",
              "</table>\n",
              "</div>"
            ],
            "text/plain": [
              "         date  count           event\n",
              "0  1980-03-15    928  airplane_crash\n",
              "1  1981-11-23   8796           flood\n",
              "2  1982-10-15   2449            fire\n",
              "3  1983-06-03   7231            fire\n",
              "4  1984-07-01   2715       car_crash"
            ]
          },
          "metadata": {
            "tags": []
          },
          "execution_count": 205
        }
      ]
    },
    {
      "cell_type": "markdown",
      "metadata": {
        "id": "8XGbAr3VKUtj",
        "colab_type": "text"
      },
      "source": [
        "Using the column selector with the name of a column that does not exist yet will add the effect of setting the values of all rows in that column to the value specified."
      ]
    },
    {
      "cell_type": "code",
      "metadata": {
        "id": "iewWFpF7KUtm",
        "colab_type": "code",
        "colab": {}
      },
      "source": [
        "toy_df['country'] = \"UK\""
      ],
      "execution_count": 0,
      "outputs": []
    },
    {
      "cell_type": "code",
      "metadata": {
        "id": "0pBfU0cYKUto",
        "colab_type": "code",
        "outputId": "619c08d6-c41e-4e76-ab4e-f482b1af1fae",
        "colab": {}
      },
      "source": [
        "toy_df.head(3)"
      ],
      "execution_count": 0,
      "outputs": [
        {
          "output_type": "execute_result",
          "data": {
            "text/html": [
              "<div>\n",
              "<style scoped>\n",
              "    .dataframe tbody tr th:only-of-type {\n",
              "        vertical-align: middle;\n",
              "    }\n",
              "\n",
              "    .dataframe tbody tr th {\n",
              "        vertical-align: top;\n",
              "    }\n",
              "\n",
              "    .dataframe thead th {\n",
              "        text-align: right;\n",
              "    }\n",
              "</style>\n",
              "<table border=\"1\" class=\"dataframe\">\n",
              "  <thead>\n",
              "    <tr style=\"text-align: right;\">\n",
              "      <th></th>\n",
              "      <th>date</th>\n",
              "      <th>count</th>\n",
              "      <th>event</th>\n",
              "      <th>country</th>\n",
              "    </tr>\n",
              "  </thead>\n",
              "  <tbody>\n",
              "    <tr>\n",
              "      <th>0</th>\n",
              "      <td>1980-03-15</td>\n",
              "      <td>928</td>\n",
              "      <td>airplane_crash</td>\n",
              "      <td>UK</td>\n",
              "    </tr>\n",
              "    <tr>\n",
              "      <th>1</th>\n",
              "      <td>1981-11-23</td>\n",
              "      <td>8796</td>\n",
              "      <td>flood</td>\n",
              "      <td>UK</td>\n",
              "    </tr>\n",
              "    <tr>\n",
              "      <th>2</th>\n",
              "      <td>1982-10-15</td>\n",
              "      <td>2449</td>\n",
              "      <td>fire</td>\n",
              "      <td>UK</td>\n",
              "    </tr>\n",
              "  </tbody>\n",
              "</table>\n",
              "</div>"
            ],
            "text/plain": [
              "         date  count           event country\n",
              "0  1980-03-15    928  airplane_crash      UK\n",
              "1  1981-11-23   8796           flood      UK\n",
              "2  1982-10-15   2449            fire      UK"
            ]
          },
          "metadata": {
            "tags": []
          },
          "execution_count": 207
        }
      ]
    },
    {
      "cell_type": "markdown",
      "metadata": {
        "id": "ohRzO821KUtp",
        "colab_type": "text"
      },
      "source": [
        "But if the column already exists, its value is reset:"
      ]
    },
    {
      "cell_type": "code",
      "metadata": {
        "id": "d2DQKcB0KUtq",
        "colab_type": "code",
        "colab": {}
      },
      "source": [
        "toy_df['country'] = \"USA\""
      ],
      "execution_count": 0,
      "outputs": []
    },
    {
      "cell_type": "code",
      "metadata": {
        "id": "P9wQwLDjKUtt",
        "colab_type": "code",
        "outputId": "94cf2d74-1b68-45d8-9c70-202acc852e95",
        "colab": {}
      },
      "source": [
        "toy_df.head(3)"
      ],
      "execution_count": 0,
      "outputs": [
        {
          "output_type": "execute_result",
          "data": {
            "text/html": [
              "<div>\n",
              "<style scoped>\n",
              "    .dataframe tbody tr th:only-of-type {\n",
              "        vertical-align: middle;\n",
              "    }\n",
              "\n",
              "    .dataframe tbody tr th {\n",
              "        vertical-align: top;\n",
              "    }\n",
              "\n",
              "    .dataframe thead th {\n",
              "        text-align: right;\n",
              "    }\n",
              "</style>\n",
              "<table border=\"1\" class=\"dataframe\">\n",
              "  <thead>\n",
              "    <tr style=\"text-align: right;\">\n",
              "      <th></th>\n",
              "      <th>date</th>\n",
              "      <th>count</th>\n",
              "      <th>event</th>\n",
              "      <th>country</th>\n",
              "    </tr>\n",
              "  </thead>\n",
              "  <tbody>\n",
              "    <tr>\n",
              "      <th>0</th>\n",
              "      <td>1980-03-15</td>\n",
              "      <td>928</td>\n",
              "      <td>airplane_crash</td>\n",
              "      <td>USA</td>\n",
              "    </tr>\n",
              "    <tr>\n",
              "      <th>1</th>\n",
              "      <td>1981-11-23</td>\n",
              "      <td>8796</td>\n",
              "      <td>flood</td>\n",
              "      <td>USA</td>\n",
              "    </tr>\n",
              "    <tr>\n",
              "      <th>2</th>\n",
              "      <td>1982-10-15</td>\n",
              "      <td>2449</td>\n",
              "      <td>fire</td>\n",
              "      <td>USA</td>\n",
              "    </tr>\n",
              "  </tbody>\n",
              "</table>\n",
              "</div>"
            ],
            "text/plain": [
              "         date  count           event country\n",
              "0  1980-03-15    928  airplane_crash     USA\n",
              "1  1981-11-23   8796           flood     USA\n",
              "2  1982-10-15   2449            fire     USA"
            ]
          },
          "metadata": {
            "tags": []
          },
          "execution_count": 209
        }
      ]
    },
    {
      "cell_type": "markdown",
      "metadata": {
        "id": "O7x5NxWnKUtu",
        "colab_type": "text"
      },
      "source": [
        "#### Removing columns"
      ]
    },
    {
      "cell_type": "markdown",
      "metadata": {
        "id": "7DOs1PusKUtv",
        "colab_type": "text"
      },
      "source": [
        "The double square bracket notation ``[[...]]`` returns a dataframe having only the columns specified inside the inner brackets."
      ]
    },
    {
      "cell_type": "markdown",
      "metadata": {
        "id": "cJogmg8OKUtv",
        "colab_type": "text"
      },
      "source": [
        "This said, removing a column is done by unselecting it:"
      ]
    },
    {
      "cell_type": "code",
      "metadata": {
        "id": "ln0W5H5mKUtv",
        "colab_type": "code",
        "colab": {}
      },
      "source": [
        "# here we removed the column country \n",
        "\n",
        "toy_df2 = toy_df[['date', 'count', 'event']]"
      ],
      "execution_count": 0,
      "outputs": []
    },
    {
      "cell_type": "code",
      "metadata": {
        "id": "sNvk3bd_KUty",
        "colab_type": "code",
        "outputId": "0a3b8287-4e8e-403d-d7d3-d963276b38c9",
        "colab": {}
      },
      "source": [
        "# it worked!\n",
        "\n",
        "toy_df2.head()"
      ],
      "execution_count": 0,
      "outputs": [
        {
          "output_type": "execute_result",
          "data": {
            "text/html": [
              "<div>\n",
              "<style scoped>\n",
              "    .dataframe tbody tr th:only-of-type {\n",
              "        vertical-align: middle;\n",
              "    }\n",
              "\n",
              "    .dataframe tbody tr th {\n",
              "        vertical-align: top;\n",
              "    }\n",
              "\n",
              "    .dataframe thead th {\n",
              "        text-align: right;\n",
              "    }\n",
              "</style>\n",
              "<table border=\"1\" class=\"dataframe\">\n",
              "  <thead>\n",
              "    <tr style=\"text-align: right;\">\n",
              "      <th></th>\n",
              "      <th>date</th>\n",
              "      <th>count</th>\n",
              "      <th>event</th>\n",
              "    </tr>\n",
              "  </thead>\n",
              "  <tbody>\n",
              "    <tr>\n",
              "      <th>0</th>\n",
              "      <td>1980-03-15</td>\n",
              "      <td>928</td>\n",
              "      <td>airplane_crash</td>\n",
              "    </tr>\n",
              "    <tr>\n",
              "      <th>1</th>\n",
              "      <td>1981-11-23</td>\n",
              "      <td>8796</td>\n",
              "      <td>flood</td>\n",
              "    </tr>\n",
              "    <tr>\n",
              "      <th>2</th>\n",
              "      <td>1982-10-15</td>\n",
              "      <td>2449</td>\n",
              "      <td>fire</td>\n",
              "    </tr>\n",
              "    <tr>\n",
              "      <th>3</th>\n",
              "      <td>1983-06-03</td>\n",
              "      <td>7231</td>\n",
              "      <td>fire</td>\n",
              "    </tr>\n",
              "    <tr>\n",
              "      <th>4</th>\n",
              "      <td>1984-07-01</td>\n",
              "      <td>2715</td>\n",
              "      <td>car_crash</td>\n",
              "    </tr>\n",
              "  </tbody>\n",
              "</table>\n",
              "</div>"
            ],
            "text/plain": [
              "         date  count           event\n",
              "0  1980-03-15    928  airplane_crash\n",
              "1  1981-11-23   8796           flood\n",
              "2  1982-10-15   2449            fire\n",
              "3  1983-06-03   7231            fire\n",
              "4  1984-07-01   2715       car_crash"
            ]
          },
          "metadata": {
            "tags": []
          },
          "execution_count": 211
        }
      ]
    },
    {
      "cell_type": "markdown",
      "metadata": {
        "id": "lYG3UQlyKUt0",
        "colab_type": "text"
      },
      "source": [
        "#### Setting a column as index"
      ]
    },
    {
      "cell_type": "code",
      "metadata": {
        "id": "lQMlVkgiKUt1",
        "colab_type": "code",
        "outputId": "0052df68-7b5c-460f-f399-bb8d71855d34",
        "colab": {}
      },
      "source": [
        "toy_df.set_index('date')"
      ],
      "execution_count": 0,
      "outputs": [
        {
          "output_type": "execute_result",
          "data": {
            "text/html": [
              "<div>\n",
              "<style scoped>\n",
              "    .dataframe tbody tr th:only-of-type {\n",
              "        vertical-align: middle;\n",
              "    }\n",
              "\n",
              "    .dataframe tbody tr th {\n",
              "        vertical-align: top;\n",
              "    }\n",
              "\n",
              "    .dataframe thead th {\n",
              "        text-align: right;\n",
              "    }\n",
              "</style>\n",
              "<table border=\"1\" class=\"dataframe\">\n",
              "  <thead>\n",
              "    <tr style=\"text-align: right;\">\n",
              "      <th></th>\n",
              "      <th>count</th>\n",
              "      <th>event</th>\n",
              "      <th>country</th>\n",
              "    </tr>\n",
              "    <tr>\n",
              "      <th>date</th>\n",
              "      <th></th>\n",
              "      <th></th>\n",
              "      <th></th>\n",
              "    </tr>\n",
              "  </thead>\n",
              "  <tbody>\n",
              "    <tr>\n",
              "      <th>1980-03-15</th>\n",
              "      <td>928</td>\n",
              "      <td>airplane_crash</td>\n",
              "      <td>USA</td>\n",
              "    </tr>\n",
              "    <tr>\n",
              "      <th>1981-11-23</th>\n",
              "      <td>8796</td>\n",
              "      <td>flood</td>\n",
              "      <td>USA</td>\n",
              "    </tr>\n",
              "    <tr>\n",
              "      <th>1982-10-15</th>\n",
              "      <td>2449</td>\n",
              "      <td>fire</td>\n",
              "      <td>USA</td>\n",
              "    </tr>\n",
              "    <tr>\n",
              "      <th>1983-06-03</th>\n",
              "      <td>7231</td>\n",
              "      <td>fire</td>\n",
              "      <td>USA</td>\n",
              "    </tr>\n",
              "    <tr>\n",
              "      <th>1984-07-01</th>\n",
              "      <td>2715</td>\n",
              "      <td>car_crash</td>\n",
              "      <td>USA</td>\n",
              "    </tr>\n",
              "    <tr>\n",
              "      <th>1985-07-15</th>\n",
              "      <td>7630</td>\n",
              "      <td>fire</td>\n",
              "      <td>USA</td>\n",
              "    </tr>\n",
              "    <tr>\n",
              "      <th>1986-01-05</th>\n",
              "      <td>6321</td>\n",
              "      <td>car_crash</td>\n",
              "      <td>USA</td>\n",
              "    </tr>\n",
              "    <tr>\n",
              "      <th>1987-11-25</th>\n",
              "      <td>6578</td>\n",
              "      <td>flood</td>\n",
              "      <td>USA</td>\n",
              "    </tr>\n",
              "    <tr>\n",
              "      <th>1988-12-25</th>\n",
              "      <td>1925</td>\n",
              "      <td>flood</td>\n",
              "      <td>USA</td>\n",
              "    </tr>\n",
              "    <tr>\n",
              "      <th>1989-09-16</th>\n",
              "      <td>5691</td>\n",
              "      <td>airplane_crash</td>\n",
              "      <td>USA</td>\n",
              "    </tr>\n",
              "  </tbody>\n",
              "</table>\n",
              "</div>"
            ],
            "text/plain": [
              "            count           event country\n",
              "date                                     \n",
              "1980-03-15    928  airplane_crash     USA\n",
              "1981-11-23   8796           flood     USA\n",
              "1982-10-15   2449            fire     USA\n",
              "1983-06-03   7231            fire     USA\n",
              "1984-07-01   2715       car_crash     USA\n",
              "1985-07-15   7630            fire     USA\n",
              "1986-01-05   6321       car_crash     USA\n",
              "1987-11-25   6578           flood     USA\n",
              "1988-12-25   1925           flood     USA\n",
              "1989-09-16   5691  airplane_crash     USA"
            ]
          },
          "metadata": {
            "tags": []
          },
          "execution_count": 212
        }
      ]
    },
    {
      "cell_type": "code",
      "metadata": {
        "id": "8ers0gLYKUt5",
        "colab_type": "code",
        "outputId": "7bd348b3-5908-45f3-e991-8c266b83d352",
        "colab": {}
      },
      "source": [
        "toy_df.head(3)"
      ],
      "execution_count": 0,
      "outputs": [
        {
          "output_type": "execute_result",
          "data": {
            "text/html": [
              "<div>\n",
              "<style scoped>\n",
              "    .dataframe tbody tr th:only-of-type {\n",
              "        vertical-align: middle;\n",
              "    }\n",
              "\n",
              "    .dataframe tbody tr th {\n",
              "        vertical-align: top;\n",
              "    }\n",
              "\n",
              "    .dataframe thead th {\n",
              "        text-align: right;\n",
              "    }\n",
              "</style>\n",
              "<table border=\"1\" class=\"dataframe\">\n",
              "  <thead>\n",
              "    <tr style=\"text-align: right;\">\n",
              "      <th></th>\n",
              "      <th>date</th>\n",
              "      <th>count</th>\n",
              "      <th>event</th>\n",
              "      <th>country</th>\n",
              "    </tr>\n",
              "  </thead>\n",
              "  <tbody>\n",
              "    <tr>\n",
              "      <th>0</th>\n",
              "      <td>1980-03-15</td>\n",
              "      <td>928</td>\n",
              "      <td>airplane_crash</td>\n",
              "      <td>USA</td>\n",
              "    </tr>\n",
              "    <tr>\n",
              "      <th>1</th>\n",
              "      <td>1981-11-23</td>\n",
              "      <td>8796</td>\n",
              "      <td>flood</td>\n",
              "      <td>USA</td>\n",
              "    </tr>\n",
              "    <tr>\n",
              "      <th>2</th>\n",
              "      <td>1982-10-15</td>\n",
              "      <td>2449</td>\n",
              "      <td>fire</td>\n",
              "      <td>USA</td>\n",
              "    </tr>\n",
              "  </tbody>\n",
              "</table>\n",
              "</div>"
            ],
            "text/plain": [
              "         date  count           event country\n",
              "0  1980-03-15    928  airplane_crash     USA\n",
              "1  1981-11-23   8796           flood     USA\n",
              "2  1982-10-15   2449            fire     USA"
            ]
          },
          "metadata": {
            "tags": []
          },
          "execution_count": 213
        }
      ]
    },
    {
      "cell_type": "code",
      "metadata": {
        "id": "mZAbgRIfKUt7",
        "colab_type": "code",
        "colab": {}
      },
      "source": [
        "toy_df.set_index('date', inplace=True)"
      ],
      "execution_count": 0,
      "outputs": []
    },
    {
      "cell_type": "code",
      "metadata": {
        "id": "7dV16hN9KUt8",
        "colab_type": "code",
        "outputId": "aa40e458-bd7a-443a-c8b2-73f32c9f3d23",
        "colab": {}
      },
      "source": [
        "toy_df.head(3)"
      ],
      "execution_count": 0,
      "outputs": [
        {
          "output_type": "execute_result",
          "data": {
            "text/html": [
              "<div>\n",
              "<style scoped>\n",
              "    .dataframe tbody tr th:only-of-type {\n",
              "        vertical-align: middle;\n",
              "    }\n",
              "\n",
              "    .dataframe tbody tr th {\n",
              "        vertical-align: top;\n",
              "    }\n",
              "\n",
              "    .dataframe thead th {\n",
              "        text-align: right;\n",
              "    }\n",
              "</style>\n",
              "<table border=\"1\" class=\"dataframe\">\n",
              "  <thead>\n",
              "    <tr style=\"text-align: right;\">\n",
              "      <th></th>\n",
              "      <th>count</th>\n",
              "      <th>event</th>\n",
              "      <th>country</th>\n",
              "    </tr>\n",
              "    <tr>\n",
              "      <th>date</th>\n",
              "      <th></th>\n",
              "      <th></th>\n",
              "      <th></th>\n",
              "    </tr>\n",
              "  </thead>\n",
              "  <tbody>\n",
              "    <tr>\n",
              "      <th>1980-03-15</th>\n",
              "      <td>928</td>\n",
              "      <td>airplane_crash</td>\n",
              "      <td>USA</td>\n",
              "    </tr>\n",
              "    <tr>\n",
              "      <th>1981-11-23</th>\n",
              "      <td>8796</td>\n",
              "      <td>flood</td>\n",
              "      <td>USA</td>\n",
              "    </tr>\n",
              "    <tr>\n",
              "      <th>1982-10-15</th>\n",
              "      <td>2449</td>\n",
              "      <td>fire</td>\n",
              "      <td>USA</td>\n",
              "    </tr>\n",
              "  </tbody>\n",
              "</table>\n",
              "</div>"
            ],
            "text/plain": [
              "            count           event country\n",
              "date                                     \n",
              "1980-03-15    928  airplane_crash     USA\n",
              "1981-11-23   8796           flood     USA\n",
              "1982-10-15   2449            fire     USA"
            ]
          },
          "metadata": {
            "tags": []
          },
          "execution_count": 215
        }
      ]
    },
    {
      "cell_type": "markdown",
      "metadata": {
        "id": "OGpw89rxKUt-",
        "colab_type": "text"
      },
      "source": [
        "**Q**: can you explain the effect of the `inplace` parameter by looking at the cells above?"
      ]
    },
    {
      "cell_type": "markdown",
      "metadata": {
        "id": "1Wtoh3ArKUt_",
        "colab_type": "text"
      },
      "source": [
        "### Accessing data\n",
        "\n",
        " .loc, .iloc, slicing, iteration over rows"
      ]
    },
    {
      "cell_type": "code",
      "metadata": {
        "id": "PJhrRMAaKUt_",
        "colab_type": "code",
        "outputId": "d9dd8517-5e0a-4a60-e8d2-7c97f3bb54eb",
        "colab": {}
      },
      "source": [
        "toy_df.head(3)"
      ],
      "execution_count": 0,
      "outputs": [
        {
          "output_type": "execute_result",
          "data": {
            "text/html": [
              "<div>\n",
              "<style scoped>\n",
              "    .dataframe tbody tr th:only-of-type {\n",
              "        vertical-align: middle;\n",
              "    }\n",
              "\n",
              "    .dataframe tbody tr th {\n",
              "        vertical-align: top;\n",
              "    }\n",
              "\n",
              "    .dataframe thead th {\n",
              "        text-align: right;\n",
              "    }\n",
              "</style>\n",
              "<table border=\"1\" class=\"dataframe\">\n",
              "  <thead>\n",
              "    <tr style=\"text-align: right;\">\n",
              "      <th></th>\n",
              "      <th>count</th>\n",
              "      <th>event</th>\n",
              "      <th>country</th>\n",
              "    </tr>\n",
              "    <tr>\n",
              "      <th>date</th>\n",
              "      <th></th>\n",
              "      <th></th>\n",
              "      <th></th>\n",
              "    </tr>\n",
              "  </thead>\n",
              "  <tbody>\n",
              "    <tr>\n",
              "      <th>1980-03-15</th>\n",
              "      <td>928</td>\n",
              "      <td>airplane_crash</td>\n",
              "      <td>USA</td>\n",
              "    </tr>\n",
              "    <tr>\n",
              "      <th>1981-11-23</th>\n",
              "      <td>8796</td>\n",
              "      <td>flood</td>\n",
              "      <td>USA</td>\n",
              "    </tr>\n",
              "    <tr>\n",
              "      <th>1982-10-15</th>\n",
              "      <td>2449</td>\n",
              "      <td>fire</td>\n",
              "      <td>USA</td>\n",
              "    </tr>\n",
              "  </tbody>\n",
              "</table>\n",
              "</div>"
            ],
            "text/plain": [
              "            count           event country\n",
              "date                                     \n",
              "1980-03-15    928  airplane_crash     USA\n",
              "1981-11-23   8796           flood     USA\n",
              "1982-10-15   2449            fire     USA"
            ]
          },
          "metadata": {
            "tags": []
          },
          "execution_count": 216
        }
      ]
    },
    {
      "cell_type": "markdown",
      "metadata": {
        "id": "azSr0Mo1KUuD",
        "colab_type": "text"
      },
      "source": [
        "#### Label-based indexing"
      ]
    },
    {
      "cell_type": "code",
      "metadata": {
        "id": "PjLMTw0WKUuF",
        "colab_type": "code",
        "colab": {}
      },
      "source": [
        "toy_df.loc['1902':'1904']"
      ],
      "execution_count": 0,
      "outputs": []
    },
    {
      "cell_type": "markdown",
      "metadata": {
        "id": "Ipc2EuHAKUuI",
        "colab_type": "text"
      },
      "source": [
        "#### Integer-based indexing"
      ]
    },
    {
      "cell_type": "code",
      "metadata": {
        "id": "DdMqM9ZAKUuJ",
        "colab_type": "code",
        "outputId": "47a1c0cd-1547-4303-8994-2793ed9cd9c8",
        "colab": {}
      },
      "source": [
        "# select a single row, the first one\n",
        "\n",
        "toy_df.iloc[0]"
      ],
      "execution_count": 0,
      "outputs": [
        {
          "output_type": "execute_result",
          "data": {
            "text/plain": [
              "count                 928\n",
              "event      airplane_crash\n",
              "country               USA\n",
              "Name: 1980-03-15, dtype: object"
            ]
          },
          "metadata": {
            "tags": []
          },
          "execution_count": 218
        }
      ]
    },
    {
      "cell_type": "code",
      "metadata": {
        "id": "MFwkuwliKUuN",
        "colab_type": "code",
        "outputId": "7bf707fa-e2aa-4f34-a643-94378bf4d439",
        "colab": {}
      },
      "source": [
        "# select  a range of rows by index\n",
        "\n",
        "toy_df.iloc[[1,3,-1]]"
      ],
      "execution_count": 0,
      "outputs": [
        {
          "output_type": "execute_result",
          "data": {
            "text/html": [
              "<div>\n",
              "<style scoped>\n",
              "    .dataframe tbody tr th:only-of-type {\n",
              "        vertical-align: middle;\n",
              "    }\n",
              "\n",
              "    .dataframe tbody tr th {\n",
              "        vertical-align: top;\n",
              "    }\n",
              "\n",
              "    .dataframe thead th {\n",
              "        text-align: right;\n",
              "    }\n",
              "</style>\n",
              "<table border=\"1\" class=\"dataframe\">\n",
              "  <thead>\n",
              "    <tr style=\"text-align: right;\">\n",
              "      <th></th>\n",
              "      <th>count</th>\n",
              "      <th>event</th>\n",
              "      <th>country</th>\n",
              "    </tr>\n",
              "    <tr>\n",
              "      <th>date</th>\n",
              "      <th></th>\n",
              "      <th></th>\n",
              "      <th></th>\n",
              "    </tr>\n",
              "  </thead>\n",
              "  <tbody>\n",
              "    <tr>\n",
              "      <th>1981-11-23</th>\n",
              "      <td>8796</td>\n",
              "      <td>flood</td>\n",
              "      <td>USA</td>\n",
              "    </tr>\n",
              "    <tr>\n",
              "      <th>1983-06-03</th>\n",
              "      <td>7231</td>\n",
              "      <td>fire</td>\n",
              "      <td>USA</td>\n",
              "    </tr>\n",
              "    <tr>\n",
              "      <th>1989-09-16</th>\n",
              "      <td>5691</td>\n",
              "      <td>airplane_crash</td>\n",
              "      <td>USA</td>\n",
              "    </tr>\n",
              "  </tbody>\n",
              "</table>\n",
              "</div>"
            ],
            "text/plain": [
              "            count           event country\n",
              "date                                     \n",
              "1981-11-23   8796           flood     USA\n",
              "1983-06-03   7231            fire     USA\n",
              "1989-09-16   5691  airplane_crash     USA"
            ]
          },
          "metadata": {
            "tags": []
          },
          "execution_count": 219
        }
      ]
    },
    {
      "cell_type": "code",
      "metadata": {
        "id": "LAv7n8LPKUuQ",
        "colab_type": "code",
        "outputId": "badacd47-8fc7-4298-dee1-fb959a452c95",
        "colab": {}
      },
      "source": [
        "# select  a range of rows with slicing\n",
        "\n",
        "toy_df.iloc[0:5]"
      ],
      "execution_count": 0,
      "outputs": [
        {
          "output_type": "execute_result",
          "data": {
            "text/html": [
              "<div>\n",
              "<style scoped>\n",
              "    .dataframe tbody tr th:only-of-type {\n",
              "        vertical-align: middle;\n",
              "    }\n",
              "\n",
              "    .dataframe tbody tr th {\n",
              "        vertical-align: top;\n",
              "    }\n",
              "\n",
              "    .dataframe thead th {\n",
              "        text-align: right;\n",
              "    }\n",
              "</style>\n",
              "<table border=\"1\" class=\"dataframe\">\n",
              "  <thead>\n",
              "    <tr style=\"text-align: right;\">\n",
              "      <th></th>\n",
              "      <th>count</th>\n",
              "      <th>event</th>\n",
              "      <th>country</th>\n",
              "    </tr>\n",
              "    <tr>\n",
              "      <th>date</th>\n",
              "      <th></th>\n",
              "      <th></th>\n",
              "      <th></th>\n",
              "    </tr>\n",
              "  </thead>\n",
              "  <tbody>\n",
              "    <tr>\n",
              "      <th>1980-03-15</th>\n",
              "      <td>928</td>\n",
              "      <td>airplane_crash</td>\n",
              "      <td>USA</td>\n",
              "    </tr>\n",
              "    <tr>\n",
              "      <th>1981-11-23</th>\n",
              "      <td>8796</td>\n",
              "      <td>flood</td>\n",
              "      <td>USA</td>\n",
              "    </tr>\n",
              "    <tr>\n",
              "      <th>1982-10-15</th>\n",
              "      <td>2449</td>\n",
              "      <td>fire</td>\n",
              "      <td>USA</td>\n",
              "    </tr>\n",
              "    <tr>\n",
              "      <th>1983-06-03</th>\n",
              "      <td>7231</td>\n",
              "      <td>fire</td>\n",
              "      <td>USA</td>\n",
              "    </tr>\n",
              "    <tr>\n",
              "      <th>1984-07-01</th>\n",
              "      <td>2715</td>\n",
              "      <td>car_crash</td>\n",
              "      <td>USA</td>\n",
              "    </tr>\n",
              "  </tbody>\n",
              "</table>\n",
              "</div>"
            ],
            "text/plain": [
              "            count           event country\n",
              "date                                     \n",
              "1980-03-15    928  airplane_crash     USA\n",
              "1981-11-23   8796           flood     USA\n",
              "1982-10-15   2449            fire     USA\n",
              "1983-06-03   7231            fire     USA\n",
              "1984-07-01   2715       car_crash     USA"
            ]
          },
          "metadata": {
            "tags": []
          },
          "execution_count": 220
        }
      ]
    },
    {
      "cell_type": "code",
      "metadata": {
        "id": "OQCOulT1KUuT",
        "colab_type": "code",
        "outputId": "58caaaec-4507-45ad-d899-3c624835384d",
        "colab": {}
      },
      "source": [
        "toy_df.index"
      ],
      "execution_count": 0,
      "outputs": [
        {
          "output_type": "execute_result",
          "data": {
            "text/plain": [
              "Index([1980-03-15, 1981-11-23, 1982-10-15, 1983-06-03, 1984-07-01, 1985-07-15,\n",
              "       1986-01-05, 1987-11-25, 1988-12-25, 1989-09-16],\n",
              "      dtype='object', name='date')"
            ]
          },
          "metadata": {
            "tags": []
          },
          "execution_count": 222
        }
      ]
    },
    {
      "cell_type": "markdown",
      "metadata": {
        "id": "lQC_wE9qKUuZ",
        "colab_type": "text"
      },
      "source": [
        "#### Iterating over rows"
      ]
    },
    {
      "cell_type": "code",
      "metadata": {
        "id": "xGcRgE6uKUua",
        "colab_type": "code",
        "outputId": "33feba82-b25b-4439-a27f-648d5151c2ba",
        "colab": {}
      },
      "source": [
        "for n, row in toy_df.iterrows():\n",
        "    print(n)"
      ],
      "execution_count": 0,
      "outputs": [
        {
          "output_type": "stream",
          "text": [
            "1980-03-15\n",
            "1981-11-23\n",
            "1982-10-15\n",
            "1983-06-03\n",
            "1984-07-01\n",
            "1985-07-15\n",
            "1986-01-05\n",
            "1987-11-25\n",
            "1988-12-25\n",
            "1989-09-16\n"
          ],
          "name": "stdout"
        }
      ]
    },
    {
      "cell_type": "code",
      "metadata": {
        "id": "I3VYgYTyKUud",
        "colab_type": "code",
        "outputId": "fab8e40d-d5cb-4f6a-d730-d5bb176a7667",
        "colab": {}
      },
      "source": [
        "for n, row in toy_df.iterrows():\n",
        "    print(n, row.event)"
      ],
      "execution_count": 0,
      "outputs": [
        {
          "output_type": "stream",
          "text": [
            "1980-03-15 airplane_crash\n",
            "1981-11-23 flood\n",
            "1982-10-15 fire\n",
            "1983-06-03 fire\n",
            "1984-07-01 car_crash\n",
            "1985-07-15 fire\n",
            "1986-01-05 car_crash\n",
            "1987-11-25 flood\n",
            "1988-12-25 flood\n",
            "1989-09-16 airplane_crash\n"
          ],
          "name": "stdout"
        }
      ]
    }
  ]
}